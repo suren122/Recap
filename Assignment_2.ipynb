{
  "nbformat": 4,
  "nbformat_minor": 0,
  "metadata": {
    "colab": {
      "provenance": []
    },
    "kernelspec": {
      "name": "python3",
      "display_name": "Python 3"
    },
    "language_info": {
      "name": "python"
    }
  },
  "cells": [
    {
      "cell_type": "markdown",
      "source": [
        "# Description of Dataset"
      ],
      "metadata": {
        "id": "wCzWaOzCH08f"
      }
    },
    {
      "cell_type": "markdown",
      "source": [
        "The dataset is a collection of social media comments, primarily sourced from platforms like Twitter. Each comment is annotated and classified into one of three categories based on the nature and intent of the language used:\n",
        "\n",
        "\n",
        "**Structure of the Dataset**\n",
        "\n",
        "The dataset is structured in tabular format with 24,783 rows and 2 columns, where each row represents a single social media comment. Here's a breakdown of the columns:\n",
        "\n",
        "Columns:\n",
        "label (Integer / Categorical):\n",
        "\n",
        "Indicates the classification of the comment:\n",
        "\n",
        "0 - Hate Speech: Comments that directly attack or express hatred toward a particular group based on attributes such as race, ethnicity, religion, gender, or sexual orientation. These are considered harmful and discriminatory.\n",
        "\n",
        "1 - Offensive Language: Comments that include vulgar, rude, or profane language, but do not necessarily express hatred toward a specific group. These may be inappropriate or aggressive but lack the targeted intent found in hate speech.\n",
        "\n",
        "2 - Neither: Comments that are neutral, harmless, or contain no offensive or hateful language. These are standard, non-toxic messages.\n",
        "\n",
        "text (String):\n",
        "\n",
        "Contains the actual comment or tweet as posted by the user.\n",
        "\n",
        "May include hashtags, mentions, emojis, links, or informal language common on social media.\n",
        "\n",
        "\n",
        "The dataset is now using for training machine learning models in natural language processing tasks related to content moderation, toxic speech detection, and online safety enforcement."
      ],
      "metadata": {
        "id": "3i3mJEmMHB4e"
      }
    },
    {
      "cell_type": "markdown",
      "source": [
        "# Text Preprocessing, Tokenization, and Sequence Padding"
      ],
      "metadata": {
        "id": "VIVP0HAyG-Z9"
      }
    },
    {
      "cell_type": "markdown",
      "source": [
        "## Loading Dataset"
      ],
      "metadata": {
        "id": "XqobaKVSGpu1"
      }
    },
    {
      "cell_type": "code",
      "execution_count": 1,
      "metadata": {
        "id": "LLab7YCFDFFl"
      },
      "outputs": [],
      "source": [
        "import pandas as pd\n",
        "df = pd.read_csv('/content/drive/MyDrive/AI and ML/hatevsoffensive_language.csv') # CSV path of dataset"
      ]
    },
    {
      "cell_type": "code",
      "source": [
        "df"
      ],
      "metadata": {
        "colab": {
          "base_uri": "https://localhost:8080/",
          "height": 423
        },
        "id": "xbowZNM2GV9-",
        "outputId": "037d4192-13c6-4134-92aa-3d1eaa0535a1"
      },
      "execution_count": 2,
      "outputs": [
        {
          "output_type": "execute_result",
          "data": {
            "text/plain": [
              "                    label                                               text\n",
              "0                 neither  !!! RT @mayasolovely: As a woman you shouldn't...\n",
              "1      offensive language  !!!!! RT @mleew17: boy dats cold...tyga dwn ba...\n",
              "2      offensive language  !!!!!!! RT @UrKindOfBrand Dawg!!!! RT @80sbaby...\n",
              "3      offensive language  !!!!!!!!! RT @C_G_Anderson: @viva_based she lo...\n",
              "4      offensive language  !!!!!!!!!!!!! RT @ShenikaRoberts: The shit you...\n",
              "...                   ...                                                ...\n",
              "24778  offensive language  you's a muthaf***in lie &#8220;@LifeAsKing: @2...\n",
              "24779             neither  you've gone and broke the wrong heart baby, an...\n",
              "24780  offensive language  young buck wanna eat!!.. dat nigguh like I ain...\n",
              "24781  offensive language              youu got wild bitches tellin you lies\n",
              "24782             neither  ~~Ruffled | Ntac Eileen Dahlia - Beautiful col...\n",
              "\n",
              "[24783 rows x 2 columns]"
            ],
            "text/html": [
              "\n",
              "  <div id=\"df-9e8b125a-3579-4721-bee3-1dcc02363e14\" class=\"colab-df-container\">\n",
              "    <div>\n",
              "<style scoped>\n",
              "    .dataframe tbody tr th:only-of-type {\n",
              "        vertical-align: middle;\n",
              "    }\n",
              "\n",
              "    .dataframe tbody tr th {\n",
              "        vertical-align: top;\n",
              "    }\n",
              "\n",
              "    .dataframe thead th {\n",
              "        text-align: right;\n",
              "    }\n",
              "</style>\n",
              "<table border=\"1\" class=\"dataframe\">\n",
              "  <thead>\n",
              "    <tr style=\"text-align: right;\">\n",
              "      <th></th>\n",
              "      <th>label</th>\n",
              "      <th>text</th>\n",
              "    </tr>\n",
              "  </thead>\n",
              "  <tbody>\n",
              "    <tr>\n",
              "      <th>0</th>\n",
              "      <td>neither</td>\n",
              "      <td>!!! RT @mayasolovely: As a woman you shouldn't...</td>\n",
              "    </tr>\n",
              "    <tr>\n",
              "      <th>1</th>\n",
              "      <td>offensive language</td>\n",
              "      <td>!!!!! RT @mleew17: boy dats cold...tyga dwn ba...</td>\n",
              "    </tr>\n",
              "    <tr>\n",
              "      <th>2</th>\n",
              "      <td>offensive language</td>\n",
              "      <td>!!!!!!! RT @UrKindOfBrand Dawg!!!! RT @80sbaby...</td>\n",
              "    </tr>\n",
              "    <tr>\n",
              "      <th>3</th>\n",
              "      <td>offensive language</td>\n",
              "      <td>!!!!!!!!! RT @C_G_Anderson: @viva_based she lo...</td>\n",
              "    </tr>\n",
              "    <tr>\n",
              "      <th>4</th>\n",
              "      <td>offensive language</td>\n",
              "      <td>!!!!!!!!!!!!! RT @ShenikaRoberts: The shit you...</td>\n",
              "    </tr>\n",
              "    <tr>\n",
              "      <th>...</th>\n",
              "      <td>...</td>\n",
              "      <td>...</td>\n",
              "    </tr>\n",
              "    <tr>\n",
              "      <th>24778</th>\n",
              "      <td>offensive language</td>\n",
              "      <td>you's a muthaf***in lie &amp;#8220;@LifeAsKing: @2...</td>\n",
              "    </tr>\n",
              "    <tr>\n",
              "      <th>24779</th>\n",
              "      <td>neither</td>\n",
              "      <td>you've gone and broke the wrong heart baby, an...</td>\n",
              "    </tr>\n",
              "    <tr>\n",
              "      <th>24780</th>\n",
              "      <td>offensive language</td>\n",
              "      <td>young buck wanna eat!!.. dat nigguh like I ain...</td>\n",
              "    </tr>\n",
              "    <tr>\n",
              "      <th>24781</th>\n",
              "      <td>offensive language</td>\n",
              "      <td>youu got wild bitches tellin you lies</td>\n",
              "    </tr>\n",
              "    <tr>\n",
              "      <th>24782</th>\n",
              "      <td>neither</td>\n",
              "      <td>~~Ruffled | Ntac Eileen Dahlia - Beautiful col...</td>\n",
              "    </tr>\n",
              "  </tbody>\n",
              "</table>\n",
              "<p>24783 rows × 2 columns</p>\n",
              "</div>\n",
              "    <div class=\"colab-df-buttons\">\n",
              "\n",
              "  <div class=\"colab-df-container\">\n",
              "    <button class=\"colab-df-convert\" onclick=\"convertToInteractive('df-9e8b125a-3579-4721-bee3-1dcc02363e14')\"\n",
              "            title=\"Convert this dataframe to an interactive table.\"\n",
              "            style=\"display:none;\">\n",
              "\n",
              "  <svg xmlns=\"http://www.w3.org/2000/svg\" height=\"24px\" viewBox=\"0 -960 960 960\">\n",
              "    <path d=\"M120-120v-720h720v720H120Zm60-500h600v-160H180v160Zm220 220h160v-160H400v160Zm0 220h160v-160H400v160ZM180-400h160v-160H180v160Zm440 0h160v-160H620v160ZM180-180h160v-160H180v160Zm440 0h160v-160H620v160Z\"/>\n",
              "  </svg>\n",
              "    </button>\n",
              "\n",
              "  <style>\n",
              "    .colab-df-container {\n",
              "      display:flex;\n",
              "      gap: 12px;\n",
              "    }\n",
              "\n",
              "    .colab-df-convert {\n",
              "      background-color: #E8F0FE;\n",
              "      border: none;\n",
              "      border-radius: 50%;\n",
              "      cursor: pointer;\n",
              "      display: none;\n",
              "      fill: #1967D2;\n",
              "      height: 32px;\n",
              "      padding: 0 0 0 0;\n",
              "      width: 32px;\n",
              "    }\n",
              "\n",
              "    .colab-df-convert:hover {\n",
              "      background-color: #E2EBFA;\n",
              "      box-shadow: 0px 1px 2px rgba(60, 64, 67, 0.3), 0px 1px 3px 1px rgba(60, 64, 67, 0.15);\n",
              "      fill: #174EA6;\n",
              "    }\n",
              "\n",
              "    .colab-df-buttons div {\n",
              "      margin-bottom: 4px;\n",
              "    }\n",
              "\n",
              "    [theme=dark] .colab-df-convert {\n",
              "      background-color: #3B4455;\n",
              "      fill: #D2E3FC;\n",
              "    }\n",
              "\n",
              "    [theme=dark] .colab-df-convert:hover {\n",
              "      background-color: #434B5C;\n",
              "      box-shadow: 0px 1px 3px 1px rgba(0, 0, 0, 0.15);\n",
              "      filter: drop-shadow(0px 1px 2px rgba(0, 0, 0, 0.3));\n",
              "      fill: #FFFFFF;\n",
              "    }\n",
              "  </style>\n",
              "\n",
              "    <script>\n",
              "      const buttonEl =\n",
              "        document.querySelector('#df-9e8b125a-3579-4721-bee3-1dcc02363e14 button.colab-df-convert');\n",
              "      buttonEl.style.display =\n",
              "        google.colab.kernel.accessAllowed ? 'block' : 'none';\n",
              "\n",
              "      async function convertToInteractive(key) {\n",
              "        const element = document.querySelector('#df-9e8b125a-3579-4721-bee3-1dcc02363e14');\n",
              "        const dataTable =\n",
              "          await google.colab.kernel.invokeFunction('convertToInteractive',\n",
              "                                                    [key], {});\n",
              "        if (!dataTable) return;\n",
              "\n",
              "        const docLinkHtml = 'Like what you see? Visit the ' +\n",
              "          '<a target=\"_blank\" href=https://colab.research.google.com/notebooks/data_table.ipynb>data table notebook</a>'\n",
              "          + ' to learn more about interactive tables.';\n",
              "        element.innerHTML = '';\n",
              "        dataTable['output_type'] = 'display_data';\n",
              "        await google.colab.output.renderOutput(dataTable, element);\n",
              "        const docLink = document.createElement('div');\n",
              "        docLink.innerHTML = docLinkHtml;\n",
              "        element.appendChild(docLink);\n",
              "      }\n",
              "    </script>\n",
              "  </div>\n",
              "\n",
              "\n",
              "    <div id=\"df-d25e409e-a904-4cba-a439-7db28321c97a\">\n",
              "      <button class=\"colab-df-quickchart\" onclick=\"quickchart('df-d25e409e-a904-4cba-a439-7db28321c97a')\"\n",
              "                title=\"Suggest charts\"\n",
              "                style=\"display:none;\">\n",
              "\n",
              "<svg xmlns=\"http://www.w3.org/2000/svg\" height=\"24px\"viewBox=\"0 0 24 24\"\n",
              "     width=\"24px\">\n",
              "    <g>\n",
              "        <path d=\"M19 3H5c-1.1 0-2 .9-2 2v14c0 1.1.9 2 2 2h14c1.1 0 2-.9 2-2V5c0-1.1-.9-2-2-2zM9 17H7v-7h2v7zm4 0h-2V7h2v10zm4 0h-2v-4h2v4z\"/>\n",
              "    </g>\n",
              "</svg>\n",
              "      </button>\n",
              "\n",
              "<style>\n",
              "  .colab-df-quickchart {\n",
              "      --bg-color: #E8F0FE;\n",
              "      --fill-color: #1967D2;\n",
              "      --hover-bg-color: #E2EBFA;\n",
              "      --hover-fill-color: #174EA6;\n",
              "      --disabled-fill-color: #AAA;\n",
              "      --disabled-bg-color: #DDD;\n",
              "  }\n",
              "\n",
              "  [theme=dark] .colab-df-quickchart {\n",
              "      --bg-color: #3B4455;\n",
              "      --fill-color: #D2E3FC;\n",
              "      --hover-bg-color: #434B5C;\n",
              "      --hover-fill-color: #FFFFFF;\n",
              "      --disabled-bg-color: #3B4455;\n",
              "      --disabled-fill-color: #666;\n",
              "  }\n",
              "\n",
              "  .colab-df-quickchart {\n",
              "    background-color: var(--bg-color);\n",
              "    border: none;\n",
              "    border-radius: 50%;\n",
              "    cursor: pointer;\n",
              "    display: none;\n",
              "    fill: var(--fill-color);\n",
              "    height: 32px;\n",
              "    padding: 0;\n",
              "    width: 32px;\n",
              "  }\n",
              "\n",
              "  .colab-df-quickchart:hover {\n",
              "    background-color: var(--hover-bg-color);\n",
              "    box-shadow: 0 1px 2px rgba(60, 64, 67, 0.3), 0 1px 3px 1px rgba(60, 64, 67, 0.15);\n",
              "    fill: var(--button-hover-fill-color);\n",
              "  }\n",
              "\n",
              "  .colab-df-quickchart-complete:disabled,\n",
              "  .colab-df-quickchart-complete:disabled:hover {\n",
              "    background-color: var(--disabled-bg-color);\n",
              "    fill: var(--disabled-fill-color);\n",
              "    box-shadow: none;\n",
              "  }\n",
              "\n",
              "  .colab-df-spinner {\n",
              "    border: 2px solid var(--fill-color);\n",
              "    border-color: transparent;\n",
              "    border-bottom-color: var(--fill-color);\n",
              "    animation:\n",
              "      spin 1s steps(1) infinite;\n",
              "  }\n",
              "\n",
              "  @keyframes spin {\n",
              "    0% {\n",
              "      border-color: transparent;\n",
              "      border-bottom-color: var(--fill-color);\n",
              "      border-left-color: var(--fill-color);\n",
              "    }\n",
              "    20% {\n",
              "      border-color: transparent;\n",
              "      border-left-color: var(--fill-color);\n",
              "      border-top-color: var(--fill-color);\n",
              "    }\n",
              "    30% {\n",
              "      border-color: transparent;\n",
              "      border-left-color: var(--fill-color);\n",
              "      border-top-color: var(--fill-color);\n",
              "      border-right-color: var(--fill-color);\n",
              "    }\n",
              "    40% {\n",
              "      border-color: transparent;\n",
              "      border-right-color: var(--fill-color);\n",
              "      border-top-color: var(--fill-color);\n",
              "    }\n",
              "    60% {\n",
              "      border-color: transparent;\n",
              "      border-right-color: var(--fill-color);\n",
              "    }\n",
              "    80% {\n",
              "      border-color: transparent;\n",
              "      border-right-color: var(--fill-color);\n",
              "      border-bottom-color: var(--fill-color);\n",
              "    }\n",
              "    90% {\n",
              "      border-color: transparent;\n",
              "      border-bottom-color: var(--fill-color);\n",
              "    }\n",
              "  }\n",
              "</style>\n",
              "\n",
              "      <script>\n",
              "        async function quickchart(key) {\n",
              "          const quickchartButtonEl =\n",
              "            document.querySelector('#' + key + ' button');\n",
              "          quickchartButtonEl.disabled = true;  // To prevent multiple clicks.\n",
              "          quickchartButtonEl.classList.add('colab-df-spinner');\n",
              "          try {\n",
              "            const charts = await google.colab.kernel.invokeFunction(\n",
              "                'suggestCharts', [key], {});\n",
              "          } catch (error) {\n",
              "            console.error('Error during call to suggestCharts:', error);\n",
              "          }\n",
              "          quickchartButtonEl.classList.remove('colab-df-spinner');\n",
              "          quickchartButtonEl.classList.add('colab-df-quickchart-complete');\n",
              "        }\n",
              "        (() => {\n",
              "          let quickchartButtonEl =\n",
              "            document.querySelector('#df-d25e409e-a904-4cba-a439-7db28321c97a button');\n",
              "          quickchartButtonEl.style.display =\n",
              "            google.colab.kernel.accessAllowed ? 'block' : 'none';\n",
              "        })();\n",
              "      </script>\n",
              "    </div>\n",
              "\n",
              "  <div id=\"id_8efc6edb-4ec1-48f7-a6ef-bf528e78ed1d\">\n",
              "    <style>\n",
              "      .colab-df-generate {\n",
              "        background-color: #E8F0FE;\n",
              "        border: none;\n",
              "        border-radius: 50%;\n",
              "        cursor: pointer;\n",
              "        display: none;\n",
              "        fill: #1967D2;\n",
              "        height: 32px;\n",
              "        padding: 0 0 0 0;\n",
              "        width: 32px;\n",
              "      }\n",
              "\n",
              "      .colab-df-generate:hover {\n",
              "        background-color: #E2EBFA;\n",
              "        box-shadow: 0px 1px 2px rgba(60, 64, 67, 0.3), 0px 1px 3px 1px rgba(60, 64, 67, 0.15);\n",
              "        fill: #174EA6;\n",
              "      }\n",
              "\n",
              "      [theme=dark] .colab-df-generate {\n",
              "        background-color: #3B4455;\n",
              "        fill: #D2E3FC;\n",
              "      }\n",
              "\n",
              "      [theme=dark] .colab-df-generate:hover {\n",
              "        background-color: #434B5C;\n",
              "        box-shadow: 0px 1px 3px 1px rgba(0, 0, 0, 0.15);\n",
              "        filter: drop-shadow(0px 1px 2px rgba(0, 0, 0, 0.3));\n",
              "        fill: #FFFFFF;\n",
              "      }\n",
              "    </style>\n",
              "    <button class=\"colab-df-generate\" onclick=\"generateWithVariable('df')\"\n",
              "            title=\"Generate code using this dataframe.\"\n",
              "            style=\"display:none;\">\n",
              "\n",
              "  <svg xmlns=\"http://www.w3.org/2000/svg\" height=\"24px\"viewBox=\"0 0 24 24\"\n",
              "       width=\"24px\">\n",
              "    <path d=\"M7,19H8.4L18.45,9,17,7.55,7,17.6ZM5,21V16.75L18.45,3.32a2,2,0,0,1,2.83,0l1.4,1.43a1.91,1.91,0,0,1,.58,1.4,1.91,1.91,0,0,1-.58,1.4L9.25,21ZM18.45,9,17,7.55Zm-12,3A5.31,5.31,0,0,0,4.9,8.1,5.31,5.31,0,0,0,1,6.5,5.31,5.31,0,0,0,4.9,4.9,5.31,5.31,0,0,0,6.5,1,5.31,5.31,0,0,0,8.1,4.9,5.31,5.31,0,0,0,12,6.5,5.46,5.46,0,0,0,6.5,12Z\"/>\n",
              "  </svg>\n",
              "    </button>\n",
              "    <script>\n",
              "      (() => {\n",
              "      const buttonEl =\n",
              "        document.querySelector('#id_8efc6edb-4ec1-48f7-a6ef-bf528e78ed1d button.colab-df-generate');\n",
              "      buttonEl.style.display =\n",
              "        google.colab.kernel.accessAllowed ? 'block' : 'none';\n",
              "\n",
              "      buttonEl.onclick = () => {\n",
              "        google.colab.notebook.generateWithVariable('df');\n",
              "      }\n",
              "      })();\n",
              "    </script>\n",
              "  </div>\n",
              "\n",
              "    </div>\n",
              "  </div>\n"
            ],
            "application/vnd.google.colaboratory.intrinsic+json": {
              "type": "dataframe",
              "variable_name": "df",
              "summary": "{\n  \"name\": \"df\",\n  \"rows\": 24783,\n  \"fields\": [\n    {\n      \"column\": \"label\",\n      \"properties\": {\n        \"dtype\": \"category\",\n        \"num_unique_values\": 3,\n        \"samples\": [\n          \"neither\",\n          \"offensive language\",\n          \"hate speec\"\n        ],\n        \"semantic_type\": \"\",\n        \"description\": \"\"\n      }\n    },\n    {\n      \"column\": \"text\",\n      \"properties\": {\n        \"dtype\": \"string\",\n        \"num_unique_values\": 24783,\n        \"samples\": [\n          \"934 8616\\ni got a missed call from yo bitch\",\n          \"RT @KINGTUNCHI_: Fucking with a bad bitch you gone need some money lil homie!\",\n          \"RT @eanahS__: @1inkkofrosess lol my credit ain't no where near good , but I know the right man for the job .. that ho nice though!\"\n        ],\n        \"semantic_type\": \"\",\n        \"description\": \"\"\n      }\n    }\n  ]\n}"
            }
          },
          "metadata": {},
          "execution_count": 2
        }
      ]
    },
    {
      "cell_type": "code",
      "source": [
        "# import matplotlib.pyplot as plt\n",
        "\n",
        "# # Get length of each original text sequence\n",
        "# text_lengths = [len(text.split()) for text in df['clean_text']]\n",
        "\n",
        "# # Plot the histogram\n",
        "# plt.figure(figsize=(10, 5))\n",
        "# plt.hist(text_lengths, bins=30, color='skyblue', edgecolor='black')\n",
        "# plt.title('Distribution of Text Lengths (before padding)')\n",
        "# plt.xlabel('Number of Words')\n",
        "# plt.ylabel('Number of Samples')\n",
        "# plt.grid(True)\n",
        "# plt.show()"
      ],
      "metadata": {
        "id": "iyBfg__CrImO"
      },
      "execution_count": 3,
      "outputs": []
    },
    {
      "cell_type": "markdown",
      "source": [
        "**Label Encoding**"
      ],
      "metadata": {
        "id": "Gpw7uas9kyTA"
      }
    },
    {
      "cell_type": "code",
      "source": [
        "print(df['label'].unique())        # Shows unique label values\n",
        "print(df['label'].value_counts())  # Shows how many of each label"
      ],
      "metadata": {
        "colab": {
          "base_uri": "https://localhost:8080/"
        },
        "id": "UvCtvxMTcFwa",
        "outputId": "36b48e89-904a-4a78-90fc-20e4fba7fcf5"
      },
      "execution_count": 4,
      "outputs": [
        {
          "output_type": "stream",
          "name": "stdout",
          "text": [
            "['neither' 'offensive language' 'hate speec']\n",
            "label\n",
            "offensive language    19190\n",
            "neither                4163\n",
            "hate speec             1430\n",
            "Name: count, dtype: int64\n"
          ]
        }
      ]
    },
    {
      "cell_type": "code",
      "source": [
        "# Define label mapping\n",
        "label_map = {\n",
        "    'hate speec': 0,\n",
        "    'offensive language': 1,\n",
        "    'neither': 2\n",
        "}\n",
        "\n",
        "# Overwrite the original 'label' column\n",
        "df['label'] = df['label'].map(label_map)"
      ],
      "metadata": {
        "id": "bhCOWOPEdVpr"
      },
      "execution_count": 5,
      "outputs": []
    },
    {
      "cell_type": "code",
      "source": [
        "df"
      ],
      "metadata": {
        "colab": {
          "base_uri": "https://localhost:8080/",
          "height": 423
        },
        "id": "u2pk0mESeUPc",
        "outputId": "f50e7c53-c695-4f5f-ab7b-4d44c239442f"
      },
      "execution_count": 6,
      "outputs": [
        {
          "output_type": "execute_result",
          "data": {
            "text/plain": [
              "       label                                               text\n",
              "0          2  !!! RT @mayasolovely: As a woman you shouldn't...\n",
              "1          1  !!!!! RT @mleew17: boy dats cold...tyga dwn ba...\n",
              "2          1  !!!!!!! RT @UrKindOfBrand Dawg!!!! RT @80sbaby...\n",
              "3          1  !!!!!!!!! RT @C_G_Anderson: @viva_based she lo...\n",
              "4          1  !!!!!!!!!!!!! RT @ShenikaRoberts: The shit you...\n",
              "...      ...                                                ...\n",
              "24778      1  you's a muthaf***in lie &#8220;@LifeAsKing: @2...\n",
              "24779      2  you've gone and broke the wrong heart baby, an...\n",
              "24780      1  young buck wanna eat!!.. dat nigguh like I ain...\n",
              "24781      1              youu got wild bitches tellin you lies\n",
              "24782      2  ~~Ruffled | Ntac Eileen Dahlia - Beautiful col...\n",
              "\n",
              "[24783 rows x 2 columns]"
            ],
            "text/html": [
              "\n",
              "  <div id=\"df-191fbf9b-604f-4981-ae8b-b2d79c93584b\" class=\"colab-df-container\">\n",
              "    <div>\n",
              "<style scoped>\n",
              "    .dataframe tbody tr th:only-of-type {\n",
              "        vertical-align: middle;\n",
              "    }\n",
              "\n",
              "    .dataframe tbody tr th {\n",
              "        vertical-align: top;\n",
              "    }\n",
              "\n",
              "    .dataframe thead th {\n",
              "        text-align: right;\n",
              "    }\n",
              "</style>\n",
              "<table border=\"1\" class=\"dataframe\">\n",
              "  <thead>\n",
              "    <tr style=\"text-align: right;\">\n",
              "      <th></th>\n",
              "      <th>label</th>\n",
              "      <th>text</th>\n",
              "    </tr>\n",
              "  </thead>\n",
              "  <tbody>\n",
              "    <tr>\n",
              "      <th>0</th>\n",
              "      <td>2</td>\n",
              "      <td>!!! RT @mayasolovely: As a woman you shouldn't...</td>\n",
              "    </tr>\n",
              "    <tr>\n",
              "      <th>1</th>\n",
              "      <td>1</td>\n",
              "      <td>!!!!! RT @mleew17: boy dats cold...tyga dwn ba...</td>\n",
              "    </tr>\n",
              "    <tr>\n",
              "      <th>2</th>\n",
              "      <td>1</td>\n",
              "      <td>!!!!!!! RT @UrKindOfBrand Dawg!!!! RT @80sbaby...</td>\n",
              "    </tr>\n",
              "    <tr>\n",
              "      <th>3</th>\n",
              "      <td>1</td>\n",
              "      <td>!!!!!!!!! RT @C_G_Anderson: @viva_based she lo...</td>\n",
              "    </tr>\n",
              "    <tr>\n",
              "      <th>4</th>\n",
              "      <td>1</td>\n",
              "      <td>!!!!!!!!!!!!! RT @ShenikaRoberts: The shit you...</td>\n",
              "    </tr>\n",
              "    <tr>\n",
              "      <th>...</th>\n",
              "      <td>...</td>\n",
              "      <td>...</td>\n",
              "    </tr>\n",
              "    <tr>\n",
              "      <th>24778</th>\n",
              "      <td>1</td>\n",
              "      <td>you's a muthaf***in lie &amp;#8220;@LifeAsKing: @2...</td>\n",
              "    </tr>\n",
              "    <tr>\n",
              "      <th>24779</th>\n",
              "      <td>2</td>\n",
              "      <td>you've gone and broke the wrong heart baby, an...</td>\n",
              "    </tr>\n",
              "    <tr>\n",
              "      <th>24780</th>\n",
              "      <td>1</td>\n",
              "      <td>young buck wanna eat!!.. dat nigguh like I ain...</td>\n",
              "    </tr>\n",
              "    <tr>\n",
              "      <th>24781</th>\n",
              "      <td>1</td>\n",
              "      <td>youu got wild bitches tellin you lies</td>\n",
              "    </tr>\n",
              "    <tr>\n",
              "      <th>24782</th>\n",
              "      <td>2</td>\n",
              "      <td>~~Ruffled | Ntac Eileen Dahlia - Beautiful col...</td>\n",
              "    </tr>\n",
              "  </tbody>\n",
              "</table>\n",
              "<p>24783 rows × 2 columns</p>\n",
              "</div>\n",
              "    <div class=\"colab-df-buttons\">\n",
              "\n",
              "  <div class=\"colab-df-container\">\n",
              "    <button class=\"colab-df-convert\" onclick=\"convertToInteractive('df-191fbf9b-604f-4981-ae8b-b2d79c93584b')\"\n",
              "            title=\"Convert this dataframe to an interactive table.\"\n",
              "            style=\"display:none;\">\n",
              "\n",
              "  <svg xmlns=\"http://www.w3.org/2000/svg\" height=\"24px\" viewBox=\"0 -960 960 960\">\n",
              "    <path d=\"M120-120v-720h720v720H120Zm60-500h600v-160H180v160Zm220 220h160v-160H400v160Zm0 220h160v-160H400v160ZM180-400h160v-160H180v160Zm440 0h160v-160H620v160ZM180-180h160v-160H180v160Zm440 0h160v-160H620v160Z\"/>\n",
              "  </svg>\n",
              "    </button>\n",
              "\n",
              "  <style>\n",
              "    .colab-df-container {\n",
              "      display:flex;\n",
              "      gap: 12px;\n",
              "    }\n",
              "\n",
              "    .colab-df-convert {\n",
              "      background-color: #E8F0FE;\n",
              "      border: none;\n",
              "      border-radius: 50%;\n",
              "      cursor: pointer;\n",
              "      display: none;\n",
              "      fill: #1967D2;\n",
              "      height: 32px;\n",
              "      padding: 0 0 0 0;\n",
              "      width: 32px;\n",
              "    }\n",
              "\n",
              "    .colab-df-convert:hover {\n",
              "      background-color: #E2EBFA;\n",
              "      box-shadow: 0px 1px 2px rgba(60, 64, 67, 0.3), 0px 1px 3px 1px rgba(60, 64, 67, 0.15);\n",
              "      fill: #174EA6;\n",
              "    }\n",
              "\n",
              "    .colab-df-buttons div {\n",
              "      margin-bottom: 4px;\n",
              "    }\n",
              "\n",
              "    [theme=dark] .colab-df-convert {\n",
              "      background-color: #3B4455;\n",
              "      fill: #D2E3FC;\n",
              "    }\n",
              "\n",
              "    [theme=dark] .colab-df-convert:hover {\n",
              "      background-color: #434B5C;\n",
              "      box-shadow: 0px 1px 3px 1px rgba(0, 0, 0, 0.15);\n",
              "      filter: drop-shadow(0px 1px 2px rgba(0, 0, 0, 0.3));\n",
              "      fill: #FFFFFF;\n",
              "    }\n",
              "  </style>\n",
              "\n",
              "    <script>\n",
              "      const buttonEl =\n",
              "        document.querySelector('#df-191fbf9b-604f-4981-ae8b-b2d79c93584b button.colab-df-convert');\n",
              "      buttonEl.style.display =\n",
              "        google.colab.kernel.accessAllowed ? 'block' : 'none';\n",
              "\n",
              "      async function convertToInteractive(key) {\n",
              "        const element = document.querySelector('#df-191fbf9b-604f-4981-ae8b-b2d79c93584b');\n",
              "        const dataTable =\n",
              "          await google.colab.kernel.invokeFunction('convertToInteractive',\n",
              "                                                    [key], {});\n",
              "        if (!dataTable) return;\n",
              "\n",
              "        const docLinkHtml = 'Like what you see? Visit the ' +\n",
              "          '<a target=\"_blank\" href=https://colab.research.google.com/notebooks/data_table.ipynb>data table notebook</a>'\n",
              "          + ' to learn more about interactive tables.';\n",
              "        element.innerHTML = '';\n",
              "        dataTable['output_type'] = 'display_data';\n",
              "        await google.colab.output.renderOutput(dataTable, element);\n",
              "        const docLink = document.createElement('div');\n",
              "        docLink.innerHTML = docLinkHtml;\n",
              "        element.appendChild(docLink);\n",
              "      }\n",
              "    </script>\n",
              "  </div>\n",
              "\n",
              "\n",
              "    <div id=\"df-71058728-ff73-46fe-bbcb-5b72aed1aace\">\n",
              "      <button class=\"colab-df-quickchart\" onclick=\"quickchart('df-71058728-ff73-46fe-bbcb-5b72aed1aace')\"\n",
              "                title=\"Suggest charts\"\n",
              "                style=\"display:none;\">\n",
              "\n",
              "<svg xmlns=\"http://www.w3.org/2000/svg\" height=\"24px\"viewBox=\"0 0 24 24\"\n",
              "     width=\"24px\">\n",
              "    <g>\n",
              "        <path d=\"M19 3H5c-1.1 0-2 .9-2 2v14c0 1.1.9 2 2 2h14c1.1 0 2-.9 2-2V5c0-1.1-.9-2-2-2zM9 17H7v-7h2v7zm4 0h-2V7h2v10zm4 0h-2v-4h2v4z\"/>\n",
              "    </g>\n",
              "</svg>\n",
              "      </button>\n",
              "\n",
              "<style>\n",
              "  .colab-df-quickchart {\n",
              "      --bg-color: #E8F0FE;\n",
              "      --fill-color: #1967D2;\n",
              "      --hover-bg-color: #E2EBFA;\n",
              "      --hover-fill-color: #174EA6;\n",
              "      --disabled-fill-color: #AAA;\n",
              "      --disabled-bg-color: #DDD;\n",
              "  }\n",
              "\n",
              "  [theme=dark] .colab-df-quickchart {\n",
              "      --bg-color: #3B4455;\n",
              "      --fill-color: #D2E3FC;\n",
              "      --hover-bg-color: #434B5C;\n",
              "      --hover-fill-color: #FFFFFF;\n",
              "      --disabled-bg-color: #3B4455;\n",
              "      --disabled-fill-color: #666;\n",
              "  }\n",
              "\n",
              "  .colab-df-quickchart {\n",
              "    background-color: var(--bg-color);\n",
              "    border: none;\n",
              "    border-radius: 50%;\n",
              "    cursor: pointer;\n",
              "    display: none;\n",
              "    fill: var(--fill-color);\n",
              "    height: 32px;\n",
              "    padding: 0;\n",
              "    width: 32px;\n",
              "  }\n",
              "\n",
              "  .colab-df-quickchart:hover {\n",
              "    background-color: var(--hover-bg-color);\n",
              "    box-shadow: 0 1px 2px rgba(60, 64, 67, 0.3), 0 1px 3px 1px rgba(60, 64, 67, 0.15);\n",
              "    fill: var(--button-hover-fill-color);\n",
              "  }\n",
              "\n",
              "  .colab-df-quickchart-complete:disabled,\n",
              "  .colab-df-quickchart-complete:disabled:hover {\n",
              "    background-color: var(--disabled-bg-color);\n",
              "    fill: var(--disabled-fill-color);\n",
              "    box-shadow: none;\n",
              "  }\n",
              "\n",
              "  .colab-df-spinner {\n",
              "    border: 2px solid var(--fill-color);\n",
              "    border-color: transparent;\n",
              "    border-bottom-color: var(--fill-color);\n",
              "    animation:\n",
              "      spin 1s steps(1) infinite;\n",
              "  }\n",
              "\n",
              "  @keyframes spin {\n",
              "    0% {\n",
              "      border-color: transparent;\n",
              "      border-bottom-color: var(--fill-color);\n",
              "      border-left-color: var(--fill-color);\n",
              "    }\n",
              "    20% {\n",
              "      border-color: transparent;\n",
              "      border-left-color: var(--fill-color);\n",
              "      border-top-color: var(--fill-color);\n",
              "    }\n",
              "    30% {\n",
              "      border-color: transparent;\n",
              "      border-left-color: var(--fill-color);\n",
              "      border-top-color: var(--fill-color);\n",
              "      border-right-color: var(--fill-color);\n",
              "    }\n",
              "    40% {\n",
              "      border-color: transparent;\n",
              "      border-right-color: var(--fill-color);\n",
              "      border-top-color: var(--fill-color);\n",
              "    }\n",
              "    60% {\n",
              "      border-color: transparent;\n",
              "      border-right-color: var(--fill-color);\n",
              "    }\n",
              "    80% {\n",
              "      border-color: transparent;\n",
              "      border-right-color: var(--fill-color);\n",
              "      border-bottom-color: var(--fill-color);\n",
              "    }\n",
              "    90% {\n",
              "      border-color: transparent;\n",
              "      border-bottom-color: var(--fill-color);\n",
              "    }\n",
              "  }\n",
              "</style>\n",
              "\n",
              "      <script>\n",
              "        async function quickchart(key) {\n",
              "          const quickchartButtonEl =\n",
              "            document.querySelector('#' + key + ' button');\n",
              "          quickchartButtonEl.disabled = true;  // To prevent multiple clicks.\n",
              "          quickchartButtonEl.classList.add('colab-df-spinner');\n",
              "          try {\n",
              "            const charts = await google.colab.kernel.invokeFunction(\n",
              "                'suggestCharts', [key], {});\n",
              "          } catch (error) {\n",
              "            console.error('Error during call to suggestCharts:', error);\n",
              "          }\n",
              "          quickchartButtonEl.classList.remove('colab-df-spinner');\n",
              "          quickchartButtonEl.classList.add('colab-df-quickchart-complete');\n",
              "        }\n",
              "        (() => {\n",
              "          let quickchartButtonEl =\n",
              "            document.querySelector('#df-71058728-ff73-46fe-bbcb-5b72aed1aace button');\n",
              "          quickchartButtonEl.style.display =\n",
              "            google.colab.kernel.accessAllowed ? 'block' : 'none';\n",
              "        })();\n",
              "      </script>\n",
              "    </div>\n",
              "\n",
              "  <div id=\"id_01d50b9b-12f1-4a9c-adfa-7be2910fe290\">\n",
              "    <style>\n",
              "      .colab-df-generate {\n",
              "        background-color: #E8F0FE;\n",
              "        border: none;\n",
              "        border-radius: 50%;\n",
              "        cursor: pointer;\n",
              "        display: none;\n",
              "        fill: #1967D2;\n",
              "        height: 32px;\n",
              "        padding: 0 0 0 0;\n",
              "        width: 32px;\n",
              "      }\n",
              "\n",
              "      .colab-df-generate:hover {\n",
              "        background-color: #E2EBFA;\n",
              "        box-shadow: 0px 1px 2px rgba(60, 64, 67, 0.3), 0px 1px 3px 1px rgba(60, 64, 67, 0.15);\n",
              "        fill: #174EA6;\n",
              "      }\n",
              "\n",
              "      [theme=dark] .colab-df-generate {\n",
              "        background-color: #3B4455;\n",
              "        fill: #D2E3FC;\n",
              "      }\n",
              "\n",
              "      [theme=dark] .colab-df-generate:hover {\n",
              "        background-color: #434B5C;\n",
              "        box-shadow: 0px 1px 3px 1px rgba(0, 0, 0, 0.15);\n",
              "        filter: drop-shadow(0px 1px 2px rgba(0, 0, 0, 0.3));\n",
              "        fill: #FFFFFF;\n",
              "      }\n",
              "    </style>\n",
              "    <button class=\"colab-df-generate\" onclick=\"generateWithVariable('df')\"\n",
              "            title=\"Generate code using this dataframe.\"\n",
              "            style=\"display:none;\">\n",
              "\n",
              "  <svg xmlns=\"http://www.w3.org/2000/svg\" height=\"24px\"viewBox=\"0 0 24 24\"\n",
              "       width=\"24px\">\n",
              "    <path d=\"M7,19H8.4L18.45,9,17,7.55,7,17.6ZM5,21V16.75L18.45,3.32a2,2,0,0,1,2.83,0l1.4,1.43a1.91,1.91,0,0,1,.58,1.4,1.91,1.91,0,0,1-.58,1.4L9.25,21ZM18.45,9,17,7.55Zm-12,3A5.31,5.31,0,0,0,4.9,8.1,5.31,5.31,0,0,0,1,6.5,5.31,5.31,0,0,0,4.9,4.9,5.31,5.31,0,0,0,6.5,1,5.31,5.31,0,0,0,8.1,4.9,5.31,5.31,0,0,0,12,6.5,5.46,5.46,0,0,0,6.5,12Z\"/>\n",
              "  </svg>\n",
              "    </button>\n",
              "    <script>\n",
              "      (() => {\n",
              "      const buttonEl =\n",
              "        document.querySelector('#id_01d50b9b-12f1-4a9c-adfa-7be2910fe290 button.colab-df-generate');\n",
              "      buttonEl.style.display =\n",
              "        google.colab.kernel.accessAllowed ? 'block' : 'none';\n",
              "\n",
              "      buttonEl.onclick = () => {\n",
              "        google.colab.notebook.generateWithVariable('df');\n",
              "      }\n",
              "      })();\n",
              "    </script>\n",
              "  </div>\n",
              "\n",
              "    </div>\n",
              "  </div>\n"
            ],
            "application/vnd.google.colaboratory.intrinsic+json": {
              "type": "dataframe",
              "variable_name": "df",
              "summary": "{\n  \"name\": \"df\",\n  \"rows\": 24783,\n  \"fields\": [\n    {\n      \"column\": \"label\",\n      \"properties\": {\n        \"dtype\": \"number\",\n        \"std\": 0,\n        \"min\": 0,\n        \"max\": 2,\n        \"num_unique_values\": 3,\n        \"samples\": [\n          2,\n          1,\n          0\n        ],\n        \"semantic_type\": \"\",\n        \"description\": \"\"\n      }\n    },\n    {\n      \"column\": \"text\",\n      \"properties\": {\n        \"dtype\": \"string\",\n        \"num_unique_values\": 24783,\n        \"samples\": [\n          \"934 8616\\ni got a missed call from yo bitch\",\n          \"RT @KINGTUNCHI_: Fucking with a bad bitch you gone need some money lil homie!\",\n          \"RT @eanahS__: @1inkkofrosess lol my credit ain't no where near good , but I know the right man for the job .. that ho nice though!\"\n        ],\n        \"semantic_type\": \"\",\n        \"description\": \"\"\n      }\n    }\n  ]\n}"
            }
          },
          "metadata": {},
          "execution_count": 6
        }
      ]
    },
    {
      "cell_type": "code",
      "source": [
        "print(df['label'].unique())        # Shows unique label values\n",
        "print(df['label'].value_counts())  # Shows how many of each label"
      ],
      "metadata": {
        "colab": {
          "base_uri": "https://localhost:8080/"
        },
        "id": "_5SYi5AxhxQW",
        "outputId": "981469e2-ccf4-46fe-b050-640aef1e19fa"
      },
      "execution_count": 7,
      "outputs": [
        {
          "output_type": "stream",
          "name": "stdout",
          "text": [
            "[2 1 0]\n",
            "label\n",
            "1    19190\n",
            "2     4163\n",
            "0     1430\n",
            "Name: count, dtype: int64\n"
          ]
        }
      ]
    },
    {
      "cell_type": "markdown",
      "source": [
        "##  Clean the text"
      ],
      "metadata": {
        "id": "-7-5tv63GzmE"
      }
    },
    {
      "cell_type": "markdown",
      "source": [
        "**Lowercasing**"
      ],
      "metadata": {
        "id": "Z-5IAsTFMKMR"
      }
    },
    {
      "cell_type": "code",
      "source": [
        "df['clean_text'] = df['text'].str.lower()"
      ],
      "metadata": {
        "id": "gmwm2bCaI_2O"
      },
      "execution_count": 8,
      "outputs": []
    },
    {
      "cell_type": "markdown",
      "source": [
        "There may be require the original test column for the comparision or any other resuable task. so new column text_column is created and implementing the data preprocessing steps.\n",
        "\n",
        "And the reason of converting all the text to lower case is for standarization, so words like \"Hate\" and \"hate\" are treated as the same word during analysis and this helps to improve accuracy in tasks like word frequency, tokenization, and model training."
      ],
      "metadata": {
        "id": "gk5-uB-vRzw9"
      }
    },
    {
      "cell_type": "code",
      "source": [
        "df"
      ],
      "metadata": {
        "colab": {
          "base_uri": "https://localhost:8080/",
          "height": 0
        },
        "id": "yAsC9mINJQr-",
        "outputId": "bde869f7-e614-4b02-f40d-145c96bb58e4"
      },
      "execution_count": 9,
      "outputs": [
        {
          "output_type": "execute_result",
          "data": {
            "text/plain": [
              "       label                                               text  \\\n",
              "0          2  !!! RT @mayasolovely: As a woman you shouldn't...   \n",
              "1          1  !!!!! RT @mleew17: boy dats cold...tyga dwn ba...   \n",
              "2          1  !!!!!!! RT @UrKindOfBrand Dawg!!!! RT @80sbaby...   \n",
              "3          1  !!!!!!!!! RT @C_G_Anderson: @viva_based she lo...   \n",
              "4          1  !!!!!!!!!!!!! RT @ShenikaRoberts: The shit you...   \n",
              "...      ...                                                ...   \n",
              "24778      1  you's a muthaf***in lie &#8220;@LifeAsKing: @2...   \n",
              "24779      2  you've gone and broke the wrong heart baby, an...   \n",
              "24780      1  young buck wanna eat!!.. dat nigguh like I ain...   \n",
              "24781      1              youu got wild bitches tellin you lies   \n",
              "24782      2  ~~Ruffled | Ntac Eileen Dahlia - Beautiful col...   \n",
              "\n",
              "                                              clean_text  \n",
              "0      !!! rt @mayasolovely: as a woman you shouldn't...  \n",
              "1      !!!!! rt @mleew17: boy dats cold...tyga dwn ba...  \n",
              "2      !!!!!!! rt @urkindofbrand dawg!!!! rt @80sbaby...  \n",
              "3      !!!!!!!!! rt @c_g_anderson: @viva_based she lo...  \n",
              "4      !!!!!!!!!!!!! rt @shenikaroberts: the shit you...  \n",
              "...                                                  ...  \n",
              "24778  you's a muthaf***in lie &#8220;@lifeasking: @2...  \n",
              "24779  you've gone and broke the wrong heart baby, an...  \n",
              "24780  young buck wanna eat!!.. dat nigguh like i ain...  \n",
              "24781              youu got wild bitches tellin you lies  \n",
              "24782  ~~ruffled | ntac eileen dahlia - beautiful col...  \n",
              "\n",
              "[24783 rows x 3 columns]"
            ],
            "text/html": [
              "\n",
              "  <div id=\"df-a504f6b4-0a92-469f-a91b-50b34acb7ab0\" class=\"colab-df-container\">\n",
              "    <div>\n",
              "<style scoped>\n",
              "    .dataframe tbody tr th:only-of-type {\n",
              "        vertical-align: middle;\n",
              "    }\n",
              "\n",
              "    .dataframe tbody tr th {\n",
              "        vertical-align: top;\n",
              "    }\n",
              "\n",
              "    .dataframe thead th {\n",
              "        text-align: right;\n",
              "    }\n",
              "</style>\n",
              "<table border=\"1\" class=\"dataframe\">\n",
              "  <thead>\n",
              "    <tr style=\"text-align: right;\">\n",
              "      <th></th>\n",
              "      <th>label</th>\n",
              "      <th>text</th>\n",
              "      <th>clean_text</th>\n",
              "    </tr>\n",
              "  </thead>\n",
              "  <tbody>\n",
              "    <tr>\n",
              "      <th>0</th>\n",
              "      <td>2</td>\n",
              "      <td>!!! RT @mayasolovely: As a woman you shouldn't...</td>\n",
              "      <td>!!! rt @mayasolovely: as a woman you shouldn't...</td>\n",
              "    </tr>\n",
              "    <tr>\n",
              "      <th>1</th>\n",
              "      <td>1</td>\n",
              "      <td>!!!!! RT @mleew17: boy dats cold...tyga dwn ba...</td>\n",
              "      <td>!!!!! rt @mleew17: boy dats cold...tyga dwn ba...</td>\n",
              "    </tr>\n",
              "    <tr>\n",
              "      <th>2</th>\n",
              "      <td>1</td>\n",
              "      <td>!!!!!!! RT @UrKindOfBrand Dawg!!!! RT @80sbaby...</td>\n",
              "      <td>!!!!!!! rt @urkindofbrand dawg!!!! rt @80sbaby...</td>\n",
              "    </tr>\n",
              "    <tr>\n",
              "      <th>3</th>\n",
              "      <td>1</td>\n",
              "      <td>!!!!!!!!! RT @C_G_Anderson: @viva_based she lo...</td>\n",
              "      <td>!!!!!!!!! rt @c_g_anderson: @viva_based she lo...</td>\n",
              "    </tr>\n",
              "    <tr>\n",
              "      <th>4</th>\n",
              "      <td>1</td>\n",
              "      <td>!!!!!!!!!!!!! RT @ShenikaRoberts: The shit you...</td>\n",
              "      <td>!!!!!!!!!!!!! rt @shenikaroberts: the shit you...</td>\n",
              "    </tr>\n",
              "    <tr>\n",
              "      <th>...</th>\n",
              "      <td>...</td>\n",
              "      <td>...</td>\n",
              "      <td>...</td>\n",
              "    </tr>\n",
              "    <tr>\n",
              "      <th>24778</th>\n",
              "      <td>1</td>\n",
              "      <td>you's a muthaf***in lie &amp;#8220;@LifeAsKing: @2...</td>\n",
              "      <td>you's a muthaf***in lie &amp;#8220;@lifeasking: @2...</td>\n",
              "    </tr>\n",
              "    <tr>\n",
              "      <th>24779</th>\n",
              "      <td>2</td>\n",
              "      <td>you've gone and broke the wrong heart baby, an...</td>\n",
              "      <td>you've gone and broke the wrong heart baby, an...</td>\n",
              "    </tr>\n",
              "    <tr>\n",
              "      <th>24780</th>\n",
              "      <td>1</td>\n",
              "      <td>young buck wanna eat!!.. dat nigguh like I ain...</td>\n",
              "      <td>young buck wanna eat!!.. dat nigguh like i ain...</td>\n",
              "    </tr>\n",
              "    <tr>\n",
              "      <th>24781</th>\n",
              "      <td>1</td>\n",
              "      <td>youu got wild bitches tellin you lies</td>\n",
              "      <td>youu got wild bitches tellin you lies</td>\n",
              "    </tr>\n",
              "    <tr>\n",
              "      <th>24782</th>\n",
              "      <td>2</td>\n",
              "      <td>~~Ruffled | Ntac Eileen Dahlia - Beautiful col...</td>\n",
              "      <td>~~ruffled | ntac eileen dahlia - beautiful col...</td>\n",
              "    </tr>\n",
              "  </tbody>\n",
              "</table>\n",
              "<p>24783 rows × 3 columns</p>\n",
              "</div>\n",
              "    <div class=\"colab-df-buttons\">\n",
              "\n",
              "  <div class=\"colab-df-container\">\n",
              "    <button class=\"colab-df-convert\" onclick=\"convertToInteractive('df-a504f6b4-0a92-469f-a91b-50b34acb7ab0')\"\n",
              "            title=\"Convert this dataframe to an interactive table.\"\n",
              "            style=\"display:none;\">\n",
              "\n",
              "  <svg xmlns=\"http://www.w3.org/2000/svg\" height=\"24px\" viewBox=\"0 -960 960 960\">\n",
              "    <path d=\"M120-120v-720h720v720H120Zm60-500h600v-160H180v160Zm220 220h160v-160H400v160Zm0 220h160v-160H400v160ZM180-400h160v-160H180v160Zm440 0h160v-160H620v160ZM180-180h160v-160H180v160Zm440 0h160v-160H620v160Z\"/>\n",
              "  </svg>\n",
              "    </button>\n",
              "\n",
              "  <style>\n",
              "    .colab-df-container {\n",
              "      display:flex;\n",
              "      gap: 12px;\n",
              "    }\n",
              "\n",
              "    .colab-df-convert {\n",
              "      background-color: #E8F0FE;\n",
              "      border: none;\n",
              "      border-radius: 50%;\n",
              "      cursor: pointer;\n",
              "      display: none;\n",
              "      fill: #1967D2;\n",
              "      height: 32px;\n",
              "      padding: 0 0 0 0;\n",
              "      width: 32px;\n",
              "    }\n",
              "\n",
              "    .colab-df-convert:hover {\n",
              "      background-color: #E2EBFA;\n",
              "      box-shadow: 0px 1px 2px rgba(60, 64, 67, 0.3), 0px 1px 3px 1px rgba(60, 64, 67, 0.15);\n",
              "      fill: #174EA6;\n",
              "    }\n",
              "\n",
              "    .colab-df-buttons div {\n",
              "      margin-bottom: 4px;\n",
              "    }\n",
              "\n",
              "    [theme=dark] .colab-df-convert {\n",
              "      background-color: #3B4455;\n",
              "      fill: #D2E3FC;\n",
              "    }\n",
              "\n",
              "    [theme=dark] .colab-df-convert:hover {\n",
              "      background-color: #434B5C;\n",
              "      box-shadow: 0px 1px 3px 1px rgba(0, 0, 0, 0.15);\n",
              "      filter: drop-shadow(0px 1px 2px rgba(0, 0, 0, 0.3));\n",
              "      fill: #FFFFFF;\n",
              "    }\n",
              "  </style>\n",
              "\n",
              "    <script>\n",
              "      const buttonEl =\n",
              "        document.querySelector('#df-a504f6b4-0a92-469f-a91b-50b34acb7ab0 button.colab-df-convert');\n",
              "      buttonEl.style.display =\n",
              "        google.colab.kernel.accessAllowed ? 'block' : 'none';\n",
              "\n",
              "      async function convertToInteractive(key) {\n",
              "        const element = document.querySelector('#df-a504f6b4-0a92-469f-a91b-50b34acb7ab0');\n",
              "        const dataTable =\n",
              "          await google.colab.kernel.invokeFunction('convertToInteractive',\n",
              "                                                    [key], {});\n",
              "        if (!dataTable) return;\n",
              "\n",
              "        const docLinkHtml = 'Like what you see? Visit the ' +\n",
              "          '<a target=\"_blank\" href=https://colab.research.google.com/notebooks/data_table.ipynb>data table notebook</a>'\n",
              "          + ' to learn more about interactive tables.';\n",
              "        element.innerHTML = '';\n",
              "        dataTable['output_type'] = 'display_data';\n",
              "        await google.colab.output.renderOutput(dataTable, element);\n",
              "        const docLink = document.createElement('div');\n",
              "        docLink.innerHTML = docLinkHtml;\n",
              "        element.appendChild(docLink);\n",
              "      }\n",
              "    </script>\n",
              "  </div>\n",
              "\n",
              "\n",
              "    <div id=\"df-839d54b6-00e3-4ac0-82f0-347f24ecf97c\">\n",
              "      <button class=\"colab-df-quickchart\" onclick=\"quickchart('df-839d54b6-00e3-4ac0-82f0-347f24ecf97c')\"\n",
              "                title=\"Suggest charts\"\n",
              "                style=\"display:none;\">\n",
              "\n",
              "<svg xmlns=\"http://www.w3.org/2000/svg\" height=\"24px\"viewBox=\"0 0 24 24\"\n",
              "     width=\"24px\">\n",
              "    <g>\n",
              "        <path d=\"M19 3H5c-1.1 0-2 .9-2 2v14c0 1.1.9 2 2 2h14c1.1 0 2-.9 2-2V5c0-1.1-.9-2-2-2zM9 17H7v-7h2v7zm4 0h-2V7h2v10zm4 0h-2v-4h2v4z\"/>\n",
              "    </g>\n",
              "</svg>\n",
              "      </button>\n",
              "\n",
              "<style>\n",
              "  .colab-df-quickchart {\n",
              "      --bg-color: #E8F0FE;\n",
              "      --fill-color: #1967D2;\n",
              "      --hover-bg-color: #E2EBFA;\n",
              "      --hover-fill-color: #174EA6;\n",
              "      --disabled-fill-color: #AAA;\n",
              "      --disabled-bg-color: #DDD;\n",
              "  }\n",
              "\n",
              "  [theme=dark] .colab-df-quickchart {\n",
              "      --bg-color: #3B4455;\n",
              "      --fill-color: #D2E3FC;\n",
              "      --hover-bg-color: #434B5C;\n",
              "      --hover-fill-color: #FFFFFF;\n",
              "      --disabled-bg-color: #3B4455;\n",
              "      --disabled-fill-color: #666;\n",
              "  }\n",
              "\n",
              "  .colab-df-quickchart {\n",
              "    background-color: var(--bg-color);\n",
              "    border: none;\n",
              "    border-radius: 50%;\n",
              "    cursor: pointer;\n",
              "    display: none;\n",
              "    fill: var(--fill-color);\n",
              "    height: 32px;\n",
              "    padding: 0;\n",
              "    width: 32px;\n",
              "  }\n",
              "\n",
              "  .colab-df-quickchart:hover {\n",
              "    background-color: var(--hover-bg-color);\n",
              "    box-shadow: 0 1px 2px rgba(60, 64, 67, 0.3), 0 1px 3px 1px rgba(60, 64, 67, 0.15);\n",
              "    fill: var(--button-hover-fill-color);\n",
              "  }\n",
              "\n",
              "  .colab-df-quickchart-complete:disabled,\n",
              "  .colab-df-quickchart-complete:disabled:hover {\n",
              "    background-color: var(--disabled-bg-color);\n",
              "    fill: var(--disabled-fill-color);\n",
              "    box-shadow: none;\n",
              "  }\n",
              "\n",
              "  .colab-df-spinner {\n",
              "    border: 2px solid var(--fill-color);\n",
              "    border-color: transparent;\n",
              "    border-bottom-color: var(--fill-color);\n",
              "    animation:\n",
              "      spin 1s steps(1) infinite;\n",
              "  }\n",
              "\n",
              "  @keyframes spin {\n",
              "    0% {\n",
              "      border-color: transparent;\n",
              "      border-bottom-color: var(--fill-color);\n",
              "      border-left-color: var(--fill-color);\n",
              "    }\n",
              "    20% {\n",
              "      border-color: transparent;\n",
              "      border-left-color: var(--fill-color);\n",
              "      border-top-color: var(--fill-color);\n",
              "    }\n",
              "    30% {\n",
              "      border-color: transparent;\n",
              "      border-left-color: var(--fill-color);\n",
              "      border-top-color: var(--fill-color);\n",
              "      border-right-color: var(--fill-color);\n",
              "    }\n",
              "    40% {\n",
              "      border-color: transparent;\n",
              "      border-right-color: var(--fill-color);\n",
              "      border-top-color: var(--fill-color);\n",
              "    }\n",
              "    60% {\n",
              "      border-color: transparent;\n",
              "      border-right-color: var(--fill-color);\n",
              "    }\n",
              "    80% {\n",
              "      border-color: transparent;\n",
              "      border-right-color: var(--fill-color);\n",
              "      border-bottom-color: var(--fill-color);\n",
              "    }\n",
              "    90% {\n",
              "      border-color: transparent;\n",
              "      border-bottom-color: var(--fill-color);\n",
              "    }\n",
              "  }\n",
              "</style>\n",
              "\n",
              "      <script>\n",
              "        async function quickchart(key) {\n",
              "          const quickchartButtonEl =\n",
              "            document.querySelector('#' + key + ' button');\n",
              "          quickchartButtonEl.disabled = true;  // To prevent multiple clicks.\n",
              "          quickchartButtonEl.classList.add('colab-df-spinner');\n",
              "          try {\n",
              "            const charts = await google.colab.kernel.invokeFunction(\n",
              "                'suggestCharts', [key], {});\n",
              "          } catch (error) {\n",
              "            console.error('Error during call to suggestCharts:', error);\n",
              "          }\n",
              "          quickchartButtonEl.classList.remove('colab-df-spinner');\n",
              "          quickchartButtonEl.classList.add('colab-df-quickchart-complete');\n",
              "        }\n",
              "        (() => {\n",
              "          let quickchartButtonEl =\n",
              "            document.querySelector('#df-839d54b6-00e3-4ac0-82f0-347f24ecf97c button');\n",
              "          quickchartButtonEl.style.display =\n",
              "            google.colab.kernel.accessAllowed ? 'block' : 'none';\n",
              "        })();\n",
              "      </script>\n",
              "    </div>\n",
              "\n",
              "  <div id=\"id_8a0e4692-c992-489f-8fdc-0bf52776a644\">\n",
              "    <style>\n",
              "      .colab-df-generate {\n",
              "        background-color: #E8F0FE;\n",
              "        border: none;\n",
              "        border-radius: 50%;\n",
              "        cursor: pointer;\n",
              "        display: none;\n",
              "        fill: #1967D2;\n",
              "        height: 32px;\n",
              "        padding: 0 0 0 0;\n",
              "        width: 32px;\n",
              "      }\n",
              "\n",
              "      .colab-df-generate:hover {\n",
              "        background-color: #E2EBFA;\n",
              "        box-shadow: 0px 1px 2px rgba(60, 64, 67, 0.3), 0px 1px 3px 1px rgba(60, 64, 67, 0.15);\n",
              "        fill: #174EA6;\n",
              "      }\n",
              "\n",
              "      [theme=dark] .colab-df-generate {\n",
              "        background-color: #3B4455;\n",
              "        fill: #D2E3FC;\n",
              "      }\n",
              "\n",
              "      [theme=dark] .colab-df-generate:hover {\n",
              "        background-color: #434B5C;\n",
              "        box-shadow: 0px 1px 3px 1px rgba(0, 0, 0, 0.15);\n",
              "        filter: drop-shadow(0px 1px 2px rgba(0, 0, 0, 0.3));\n",
              "        fill: #FFFFFF;\n",
              "      }\n",
              "    </style>\n",
              "    <button class=\"colab-df-generate\" onclick=\"generateWithVariable('df')\"\n",
              "            title=\"Generate code using this dataframe.\"\n",
              "            style=\"display:none;\">\n",
              "\n",
              "  <svg xmlns=\"http://www.w3.org/2000/svg\" height=\"24px\"viewBox=\"0 0 24 24\"\n",
              "       width=\"24px\">\n",
              "    <path d=\"M7,19H8.4L18.45,9,17,7.55,7,17.6ZM5,21V16.75L18.45,3.32a2,2,0,0,1,2.83,0l1.4,1.43a1.91,1.91,0,0,1,.58,1.4,1.91,1.91,0,0,1-.58,1.4L9.25,21ZM18.45,9,17,7.55Zm-12,3A5.31,5.31,0,0,0,4.9,8.1,5.31,5.31,0,0,0,1,6.5,5.31,5.31,0,0,0,4.9,4.9,5.31,5.31,0,0,0,6.5,1,5.31,5.31,0,0,0,8.1,4.9,5.31,5.31,0,0,0,12,6.5,5.46,5.46,0,0,0,6.5,12Z\"/>\n",
              "  </svg>\n",
              "    </button>\n",
              "    <script>\n",
              "      (() => {\n",
              "      const buttonEl =\n",
              "        document.querySelector('#id_8a0e4692-c992-489f-8fdc-0bf52776a644 button.colab-df-generate');\n",
              "      buttonEl.style.display =\n",
              "        google.colab.kernel.accessAllowed ? 'block' : 'none';\n",
              "\n",
              "      buttonEl.onclick = () => {\n",
              "        google.colab.notebook.generateWithVariable('df');\n",
              "      }\n",
              "      })();\n",
              "    </script>\n",
              "  </div>\n",
              "\n",
              "    </div>\n",
              "  </div>\n"
            ],
            "application/vnd.google.colaboratory.intrinsic+json": {
              "type": "dataframe",
              "variable_name": "df",
              "summary": "{\n  \"name\": \"df\",\n  \"rows\": 24783,\n  \"fields\": [\n    {\n      \"column\": \"label\",\n      \"properties\": {\n        \"dtype\": \"number\",\n        \"std\": 0,\n        \"min\": 0,\n        \"max\": 2,\n        \"num_unique_values\": 3,\n        \"samples\": [\n          2,\n          1,\n          0\n        ],\n        \"semantic_type\": \"\",\n        \"description\": \"\"\n      }\n    },\n    {\n      \"column\": \"text\",\n      \"properties\": {\n        \"dtype\": \"string\",\n        \"num_unique_values\": 24783,\n        \"samples\": [\n          \"934 8616\\ni got a missed call from yo bitch\",\n          \"RT @KINGTUNCHI_: Fucking with a bad bitch you gone need some money lil homie!\",\n          \"RT @eanahS__: @1inkkofrosess lol my credit ain't no where near good , but I know the right man for the job .. that ho nice though!\"\n        ],\n        \"semantic_type\": \"\",\n        \"description\": \"\"\n      }\n    },\n    {\n      \"column\": \"clean_text\",\n      \"properties\": {\n        \"dtype\": \"string\",\n        \"num_unique_values\": 24773,\n        \"samples\": [\n          \"i like to mock apple, but i'm legitimately interested to see what their wearable looks like.\",\n          \"if you hang with hoes, you're a hoe by association. if you try and debate this, you're a hoe. if you get offended by this, you're a hoe.&#128175;\",\n          \"@youngrecklesss_ the fuck das wat bitches wit uh fuckd up mouf do &#128514;&#128514;\"\n        ],\n        \"semantic_type\": \"\",\n        \"description\": \"\"\n      }\n    }\n  ]\n}"
            }
          },
          "metadata": {},
          "execution_count": 9
        }
      ]
    },
    {
      "cell_type": "markdown",
      "source": [
        "There we can see the total number of rows and columns of the dataframe is 24783 and 3 columns respectively."
      ],
      "metadata": {
        "id": "k0AAQCDHSKSb"
      }
    },
    {
      "cell_type": "markdown",
      "source": [
        "**Remove URLs, mentions, hashtags, numbers, special characters**"
      ],
      "metadata": {
        "id": "Eto7I-orMWG3"
      }
    },
    {
      "cell_type": "code",
      "source": [
        "import re\n",
        "def clean_text(text):\n",
        "    text = re.sub(r\"http\\S+|www\\S+|https\\S+\", '', text, flags=re.MULTILINE)  # URLs\n",
        "    text = re.sub(r'\\@\\w+|\\#', '', text)  # mentions and hashtags\n",
        "    text = re.sub(r'\\d+', '', text)  # numbers\n",
        "    text = re.sub(r'[^\\w\\s]', '', text)  # special characters\n",
        "    return text\n",
        "\n",
        "df['clean_text'] = df['clean_text'].apply(clean_text)"
      ],
      "metadata": {
        "id": "T-UAgBDUJc49"
      },
      "execution_count": 10,
      "outputs": []
    },
    {
      "cell_type": "markdown",
      "source": [
        "Rrrelevant or distracting elements: This function cleans the text by removing unwanted noise parts like: URLs, Mention, (@username) and hashtags, Numbers, Special characters (like !, ?, #)\n",
        "\n",
        "This makes the text cleaner and more useful for NLP tasks like sentiment or hate speech analysis."
      ],
      "metadata": {
        "id": "4sByHfVhWjev"
      }
    },
    {
      "cell_type": "code",
      "source": [
        "df.head()"
      ],
      "metadata": {
        "colab": {
          "base_uri": "https://localhost:8080/",
          "height": 0
        },
        "id": "rlETo241JnBF",
        "outputId": "1791a743-9008-4299-e25e-5b6a235ef668"
      },
      "execution_count": 11,
      "outputs": [
        {
          "output_type": "execute_result",
          "data": {
            "text/plain": [
              "   label                                               text  \\\n",
              "0      2  !!! RT @mayasolovely: As a woman you shouldn't...   \n",
              "1      1  !!!!! RT @mleew17: boy dats cold...tyga dwn ba...   \n",
              "2      1  !!!!!!! RT @UrKindOfBrand Dawg!!!! RT @80sbaby...   \n",
              "3      1  !!!!!!!!! RT @C_G_Anderson: @viva_based she lo...   \n",
              "4      1  !!!!!!!!!!!!! RT @ShenikaRoberts: The shit you...   \n",
              "\n",
              "                                          clean_text  \n",
              "0   rt  as a woman you shouldnt complain about cl...  \n",
              "1   rt  boy dats coldtyga dwn bad for cuffin dat ...  \n",
              "2   rt  dawg rt  you ever fuck a bitch and she st...  \n",
              "3                        rt   she look like a tranny  \n",
              "4   rt  the shit you hear about me might be true ...  "
            ],
            "text/html": [
              "\n",
              "  <div id=\"df-d2349a24-e3ba-4c7c-a5b0-983af24a9222\" class=\"colab-df-container\">\n",
              "    <div>\n",
              "<style scoped>\n",
              "    .dataframe tbody tr th:only-of-type {\n",
              "        vertical-align: middle;\n",
              "    }\n",
              "\n",
              "    .dataframe tbody tr th {\n",
              "        vertical-align: top;\n",
              "    }\n",
              "\n",
              "    .dataframe thead th {\n",
              "        text-align: right;\n",
              "    }\n",
              "</style>\n",
              "<table border=\"1\" class=\"dataframe\">\n",
              "  <thead>\n",
              "    <tr style=\"text-align: right;\">\n",
              "      <th></th>\n",
              "      <th>label</th>\n",
              "      <th>text</th>\n",
              "      <th>clean_text</th>\n",
              "    </tr>\n",
              "  </thead>\n",
              "  <tbody>\n",
              "    <tr>\n",
              "      <th>0</th>\n",
              "      <td>2</td>\n",
              "      <td>!!! RT @mayasolovely: As a woman you shouldn't...</td>\n",
              "      <td>rt  as a woman you shouldnt complain about cl...</td>\n",
              "    </tr>\n",
              "    <tr>\n",
              "      <th>1</th>\n",
              "      <td>1</td>\n",
              "      <td>!!!!! RT @mleew17: boy dats cold...tyga dwn ba...</td>\n",
              "      <td>rt  boy dats coldtyga dwn bad for cuffin dat ...</td>\n",
              "    </tr>\n",
              "    <tr>\n",
              "      <th>2</th>\n",
              "      <td>1</td>\n",
              "      <td>!!!!!!! RT @UrKindOfBrand Dawg!!!! RT @80sbaby...</td>\n",
              "      <td>rt  dawg rt  you ever fuck a bitch and she st...</td>\n",
              "    </tr>\n",
              "    <tr>\n",
              "      <th>3</th>\n",
              "      <td>1</td>\n",
              "      <td>!!!!!!!!! RT @C_G_Anderson: @viva_based she lo...</td>\n",
              "      <td>rt   she look like a tranny</td>\n",
              "    </tr>\n",
              "    <tr>\n",
              "      <th>4</th>\n",
              "      <td>1</td>\n",
              "      <td>!!!!!!!!!!!!! RT @ShenikaRoberts: The shit you...</td>\n",
              "      <td>rt  the shit you hear about me might be true ...</td>\n",
              "    </tr>\n",
              "  </tbody>\n",
              "</table>\n",
              "</div>\n",
              "    <div class=\"colab-df-buttons\">\n",
              "\n",
              "  <div class=\"colab-df-container\">\n",
              "    <button class=\"colab-df-convert\" onclick=\"convertToInteractive('df-d2349a24-e3ba-4c7c-a5b0-983af24a9222')\"\n",
              "            title=\"Convert this dataframe to an interactive table.\"\n",
              "            style=\"display:none;\">\n",
              "\n",
              "  <svg xmlns=\"http://www.w3.org/2000/svg\" height=\"24px\" viewBox=\"0 -960 960 960\">\n",
              "    <path d=\"M120-120v-720h720v720H120Zm60-500h600v-160H180v160Zm220 220h160v-160H400v160Zm0 220h160v-160H400v160ZM180-400h160v-160H180v160Zm440 0h160v-160H620v160ZM180-180h160v-160H180v160Zm440 0h160v-160H620v160Z\"/>\n",
              "  </svg>\n",
              "    </button>\n",
              "\n",
              "  <style>\n",
              "    .colab-df-container {\n",
              "      display:flex;\n",
              "      gap: 12px;\n",
              "    }\n",
              "\n",
              "    .colab-df-convert {\n",
              "      background-color: #E8F0FE;\n",
              "      border: none;\n",
              "      border-radius: 50%;\n",
              "      cursor: pointer;\n",
              "      display: none;\n",
              "      fill: #1967D2;\n",
              "      height: 32px;\n",
              "      padding: 0 0 0 0;\n",
              "      width: 32px;\n",
              "    }\n",
              "\n",
              "    .colab-df-convert:hover {\n",
              "      background-color: #E2EBFA;\n",
              "      box-shadow: 0px 1px 2px rgba(60, 64, 67, 0.3), 0px 1px 3px 1px rgba(60, 64, 67, 0.15);\n",
              "      fill: #174EA6;\n",
              "    }\n",
              "\n",
              "    .colab-df-buttons div {\n",
              "      margin-bottom: 4px;\n",
              "    }\n",
              "\n",
              "    [theme=dark] .colab-df-convert {\n",
              "      background-color: #3B4455;\n",
              "      fill: #D2E3FC;\n",
              "    }\n",
              "\n",
              "    [theme=dark] .colab-df-convert:hover {\n",
              "      background-color: #434B5C;\n",
              "      box-shadow: 0px 1px 3px 1px rgba(0, 0, 0, 0.15);\n",
              "      filter: drop-shadow(0px 1px 2px rgba(0, 0, 0, 0.3));\n",
              "      fill: #FFFFFF;\n",
              "    }\n",
              "  </style>\n",
              "\n",
              "    <script>\n",
              "      const buttonEl =\n",
              "        document.querySelector('#df-d2349a24-e3ba-4c7c-a5b0-983af24a9222 button.colab-df-convert');\n",
              "      buttonEl.style.display =\n",
              "        google.colab.kernel.accessAllowed ? 'block' : 'none';\n",
              "\n",
              "      async function convertToInteractive(key) {\n",
              "        const element = document.querySelector('#df-d2349a24-e3ba-4c7c-a5b0-983af24a9222');\n",
              "        const dataTable =\n",
              "          await google.colab.kernel.invokeFunction('convertToInteractive',\n",
              "                                                    [key], {});\n",
              "        if (!dataTable) return;\n",
              "\n",
              "        const docLinkHtml = 'Like what you see? Visit the ' +\n",
              "          '<a target=\"_blank\" href=https://colab.research.google.com/notebooks/data_table.ipynb>data table notebook</a>'\n",
              "          + ' to learn more about interactive tables.';\n",
              "        element.innerHTML = '';\n",
              "        dataTable['output_type'] = 'display_data';\n",
              "        await google.colab.output.renderOutput(dataTable, element);\n",
              "        const docLink = document.createElement('div');\n",
              "        docLink.innerHTML = docLinkHtml;\n",
              "        element.appendChild(docLink);\n",
              "      }\n",
              "    </script>\n",
              "  </div>\n",
              "\n",
              "\n",
              "    <div id=\"df-376f13ae-fa5c-415f-a8f7-43a80375be72\">\n",
              "      <button class=\"colab-df-quickchart\" onclick=\"quickchart('df-376f13ae-fa5c-415f-a8f7-43a80375be72')\"\n",
              "                title=\"Suggest charts\"\n",
              "                style=\"display:none;\">\n",
              "\n",
              "<svg xmlns=\"http://www.w3.org/2000/svg\" height=\"24px\"viewBox=\"0 0 24 24\"\n",
              "     width=\"24px\">\n",
              "    <g>\n",
              "        <path d=\"M19 3H5c-1.1 0-2 .9-2 2v14c0 1.1.9 2 2 2h14c1.1 0 2-.9 2-2V5c0-1.1-.9-2-2-2zM9 17H7v-7h2v7zm4 0h-2V7h2v10zm4 0h-2v-4h2v4z\"/>\n",
              "    </g>\n",
              "</svg>\n",
              "      </button>\n",
              "\n",
              "<style>\n",
              "  .colab-df-quickchart {\n",
              "      --bg-color: #E8F0FE;\n",
              "      --fill-color: #1967D2;\n",
              "      --hover-bg-color: #E2EBFA;\n",
              "      --hover-fill-color: #174EA6;\n",
              "      --disabled-fill-color: #AAA;\n",
              "      --disabled-bg-color: #DDD;\n",
              "  }\n",
              "\n",
              "  [theme=dark] .colab-df-quickchart {\n",
              "      --bg-color: #3B4455;\n",
              "      --fill-color: #D2E3FC;\n",
              "      --hover-bg-color: #434B5C;\n",
              "      --hover-fill-color: #FFFFFF;\n",
              "      --disabled-bg-color: #3B4455;\n",
              "      --disabled-fill-color: #666;\n",
              "  }\n",
              "\n",
              "  .colab-df-quickchart {\n",
              "    background-color: var(--bg-color);\n",
              "    border: none;\n",
              "    border-radius: 50%;\n",
              "    cursor: pointer;\n",
              "    display: none;\n",
              "    fill: var(--fill-color);\n",
              "    height: 32px;\n",
              "    padding: 0;\n",
              "    width: 32px;\n",
              "  }\n",
              "\n",
              "  .colab-df-quickchart:hover {\n",
              "    background-color: var(--hover-bg-color);\n",
              "    box-shadow: 0 1px 2px rgba(60, 64, 67, 0.3), 0 1px 3px 1px rgba(60, 64, 67, 0.15);\n",
              "    fill: var(--button-hover-fill-color);\n",
              "  }\n",
              "\n",
              "  .colab-df-quickchart-complete:disabled,\n",
              "  .colab-df-quickchart-complete:disabled:hover {\n",
              "    background-color: var(--disabled-bg-color);\n",
              "    fill: var(--disabled-fill-color);\n",
              "    box-shadow: none;\n",
              "  }\n",
              "\n",
              "  .colab-df-spinner {\n",
              "    border: 2px solid var(--fill-color);\n",
              "    border-color: transparent;\n",
              "    border-bottom-color: var(--fill-color);\n",
              "    animation:\n",
              "      spin 1s steps(1) infinite;\n",
              "  }\n",
              "\n",
              "  @keyframes spin {\n",
              "    0% {\n",
              "      border-color: transparent;\n",
              "      border-bottom-color: var(--fill-color);\n",
              "      border-left-color: var(--fill-color);\n",
              "    }\n",
              "    20% {\n",
              "      border-color: transparent;\n",
              "      border-left-color: var(--fill-color);\n",
              "      border-top-color: var(--fill-color);\n",
              "    }\n",
              "    30% {\n",
              "      border-color: transparent;\n",
              "      border-left-color: var(--fill-color);\n",
              "      border-top-color: var(--fill-color);\n",
              "      border-right-color: var(--fill-color);\n",
              "    }\n",
              "    40% {\n",
              "      border-color: transparent;\n",
              "      border-right-color: var(--fill-color);\n",
              "      border-top-color: var(--fill-color);\n",
              "    }\n",
              "    60% {\n",
              "      border-color: transparent;\n",
              "      border-right-color: var(--fill-color);\n",
              "    }\n",
              "    80% {\n",
              "      border-color: transparent;\n",
              "      border-right-color: var(--fill-color);\n",
              "      border-bottom-color: var(--fill-color);\n",
              "    }\n",
              "    90% {\n",
              "      border-color: transparent;\n",
              "      border-bottom-color: var(--fill-color);\n",
              "    }\n",
              "  }\n",
              "</style>\n",
              "\n",
              "      <script>\n",
              "        async function quickchart(key) {\n",
              "          const quickchartButtonEl =\n",
              "            document.querySelector('#' + key + ' button');\n",
              "          quickchartButtonEl.disabled = true;  // To prevent multiple clicks.\n",
              "          quickchartButtonEl.classList.add('colab-df-spinner');\n",
              "          try {\n",
              "            const charts = await google.colab.kernel.invokeFunction(\n",
              "                'suggestCharts', [key], {});\n",
              "          } catch (error) {\n",
              "            console.error('Error during call to suggestCharts:', error);\n",
              "          }\n",
              "          quickchartButtonEl.classList.remove('colab-df-spinner');\n",
              "          quickchartButtonEl.classList.add('colab-df-quickchart-complete');\n",
              "        }\n",
              "        (() => {\n",
              "          let quickchartButtonEl =\n",
              "            document.querySelector('#df-376f13ae-fa5c-415f-a8f7-43a80375be72 button');\n",
              "          quickchartButtonEl.style.display =\n",
              "            google.colab.kernel.accessAllowed ? 'block' : 'none';\n",
              "        })();\n",
              "      </script>\n",
              "    </div>\n",
              "\n",
              "    </div>\n",
              "  </div>\n"
            ],
            "application/vnd.google.colaboratory.intrinsic+json": {
              "type": "dataframe",
              "variable_name": "df",
              "summary": "{\n  \"name\": \"df\",\n  \"rows\": 24783,\n  \"fields\": [\n    {\n      \"column\": \"label\",\n      \"properties\": {\n        \"dtype\": \"number\",\n        \"std\": 0,\n        \"min\": 0,\n        \"max\": 2,\n        \"num_unique_values\": 3,\n        \"samples\": [\n          2,\n          1,\n          0\n        ],\n        \"semantic_type\": \"\",\n        \"description\": \"\"\n      }\n    },\n    {\n      \"column\": \"text\",\n      \"properties\": {\n        \"dtype\": \"string\",\n        \"num_unique_values\": 24783,\n        \"samples\": [\n          \"934 8616\\ni got a missed call from yo bitch\",\n          \"RT @KINGTUNCHI_: Fucking with a bad bitch you gone need some money lil homie!\",\n          \"RT @eanahS__: @1inkkofrosess lol my credit ain't no where near good , but I know the right man for the job .. that ho nice though!\"\n        ],\n        \"semantic_type\": \"\",\n        \"description\": \"\"\n      }\n    },\n    {\n      \"column\": \"clean_text\",\n      \"properties\": {\n        \"dtype\": \"string\",\n        \"num_unique_values\": 24451,\n        \"samples\": [\n          \"blood this nigga dion retarded\",\n          \"rt   you think she classy niggah but she really ratchet\",\n          \"rt  i dont be worrying about these messy hood ass hoes but they worrying about me though why \"\n        ],\n        \"semantic_type\": \"\",\n        \"description\": \"\"\n      }\n    }\n  ]\n}"
            }
          },
          "metadata": {},
          "execution_count": 11
        }
      ]
    },
    {
      "cell_type": "markdown",
      "source": [
        "**Handle contractions**"
      ],
      "metadata": {
        "id": "dMRSs7qRKtV9"
      }
    },
    {
      "cell_type": "code",
      "source": [
        "!pip install contractions"
      ],
      "metadata": {
        "colab": {
          "base_uri": "https://localhost:8080/"
        },
        "id": "KrUUxSIFKOqe",
        "outputId": "7c80e42f-fa8a-4022-c850-1187893e3064"
      },
      "execution_count": 12,
      "outputs": [
        {
          "output_type": "stream",
          "name": "stdout",
          "text": [
            "Requirement already satisfied: contractions in /usr/local/lib/python3.11/dist-packages (0.1.73)\n",
            "Requirement already satisfied: textsearch>=0.0.21 in /usr/local/lib/python3.11/dist-packages (from contractions) (0.0.24)\n",
            "Requirement already satisfied: anyascii in /usr/local/lib/python3.11/dist-packages (from textsearch>=0.0.21->contractions) (0.3.2)\n",
            "Requirement already satisfied: pyahocorasick in /usr/local/lib/python3.11/dist-packages (from textsearch>=0.0.21->contractions) (2.1.0)\n"
          ]
        }
      ]
    },
    {
      "cell_type": "code",
      "source": [
        "import contractions\n",
        "df['clean_text'] = df['clean_text'].apply(lambda x: contractions.fix(x))"
      ],
      "metadata": {
        "id": "Dx4sf_SWJzAo"
      },
      "execution_count": 13,
      "outputs": []
    },
    {
      "cell_type": "markdown",
      "source": [
        "This will expand contractions like \"don't\" → \"do not\", \"I'm\" → \"I am\", which helps improve text preprocessing for NLP tasks.  This is done to make the text clearer and more consistent.\n",
        "\n",
        "The contractions.fix(x) is to expand contractions in each text entry of the 'clean_text' column using .apply() — which applies the function row by row across the column."
      ],
      "metadata": {
        "id": "lmrnNonEKUSm"
      }
    },
    {
      "cell_type": "markdown",
      "source": [
        "**Remove stopwords and apply lemmatization:**"
      ],
      "metadata": {
        "id": "czE826QAKh2S"
      }
    },
    {
      "cell_type": "code",
      "source": [
        "import nltk\n",
        "from nltk.corpus import stopwords\n",
        "from nltk.stem import WordNetLemmatizer\n",
        "\n",
        "nltk.download('stopwords')\n",
        "nltk.download('wordnet')\n",
        "stop_words = set(stopwords.words('english'))\n",
        "lemmatizer = WordNetLemmatizer()\n",
        "\n",
        "def preprocess(text):\n",
        "    tokens = text.split()\n",
        "    tokens = [lemmatizer.lemmatize(word) for word in tokens if word not in stop_words]\n",
        "    return ' '.join(tokens)\n",
        "\n",
        "df['clean_text'] = df['clean_text'].apply(preprocess)"
      ],
      "metadata": {
        "colab": {
          "base_uri": "https://localhost:8080/"
        },
        "id": "Gg0-f8ZTKRWf",
        "outputId": "1a891fcf-0cfe-4368-c0b9-600ef07bc3a2"
      },
      "execution_count": 14,
      "outputs": [
        {
          "output_type": "stream",
          "name": "stderr",
          "text": [
            "[nltk_data] Downloading package stopwords to /root/nltk_data...\n",
            "[nltk_data]   Package stopwords is already up-to-date!\n",
            "[nltk_data] Downloading package wordnet to /root/nltk_data...\n",
            "[nltk_data]   Package wordnet is already up-to-date!\n"
          ]
        }
      ]
    },
    {
      "cell_type": "markdown",
      "source": [
        "NLTK stands for Natural Language Toolkit.\n",
        "\n",
        "It’s a popular Python library used for natural language processing (NLP) tasks like:\n",
        "\n",
        "Tokenization\n",
        "\n",
        "Stopword removal\n",
        "\n",
        "Lemmatization\n",
        "\n",
        "Text classification"
      ],
      "metadata": {
        "id": "USGFX0CJamco"
      }
    },
    {
      "cell_type": "markdown",
      "source": [
        "This code further cleans and simplifies the text by:\n",
        "\n",
        "Removing stopwords (common words like \"the\", \"is\", \"and\" that add little meaning)\n",
        "\n",
        "Lemmatizing (reducing words to their base form, e.g., \"running\" → \"run\")\n",
        "\n",
        "This helps models focus on the most meaningful words for better analysis and predictions."
      ],
      "metadata": {
        "id": "-8Yd_kDRaJ5P"
      }
    },
    {
      "cell_type": "code",
      "source": [
        "df.head()"
      ],
      "metadata": {
        "colab": {
          "base_uri": "https://localhost:8080/",
          "height": 0
        },
        "id": "88lnq_a-MiSn",
        "outputId": "93090658-e83c-40ca-84e1-33b9d124f87d"
      },
      "execution_count": 15,
      "outputs": [
        {
          "output_type": "execute_result",
          "data": {
            "text/plain": [
              "   label                                               text  \\\n",
              "0      2  !!! RT @mayasolovely: As a woman you shouldn't...   \n",
              "1      1  !!!!! RT @mleew17: boy dats cold...tyga dwn ba...   \n",
              "2      1  !!!!!!! RT @UrKindOfBrand Dawg!!!! RT @80sbaby...   \n",
              "3      1  !!!!!!!!! RT @C_G_Anderson: @viva_based she lo...   \n",
              "4      1  !!!!!!!!!!!!! RT @ShenikaRoberts: The shit you...   \n",
              "\n",
              "                                          clean_text  \n",
              "0  rt woman complain cleaning house amp man alway...  \n",
              "1  rt boy dat coldtyga dwn bad cuffin dat hoe st ...  \n",
              "2  rt dawg rt ever fuck bitch start cry confused ...  \n",
              "3                                rt look like tranny  \n",
              "4  rt shit hear might true might faker bitch told ya  "
            ],
            "text/html": [
              "\n",
              "  <div id=\"df-b527114e-3376-499f-a6e0-c78f0ebea543\" class=\"colab-df-container\">\n",
              "    <div>\n",
              "<style scoped>\n",
              "    .dataframe tbody tr th:only-of-type {\n",
              "        vertical-align: middle;\n",
              "    }\n",
              "\n",
              "    .dataframe tbody tr th {\n",
              "        vertical-align: top;\n",
              "    }\n",
              "\n",
              "    .dataframe thead th {\n",
              "        text-align: right;\n",
              "    }\n",
              "</style>\n",
              "<table border=\"1\" class=\"dataframe\">\n",
              "  <thead>\n",
              "    <tr style=\"text-align: right;\">\n",
              "      <th></th>\n",
              "      <th>label</th>\n",
              "      <th>text</th>\n",
              "      <th>clean_text</th>\n",
              "    </tr>\n",
              "  </thead>\n",
              "  <tbody>\n",
              "    <tr>\n",
              "      <th>0</th>\n",
              "      <td>2</td>\n",
              "      <td>!!! RT @mayasolovely: As a woman you shouldn't...</td>\n",
              "      <td>rt woman complain cleaning house amp man alway...</td>\n",
              "    </tr>\n",
              "    <tr>\n",
              "      <th>1</th>\n",
              "      <td>1</td>\n",
              "      <td>!!!!! RT @mleew17: boy dats cold...tyga dwn ba...</td>\n",
              "      <td>rt boy dat coldtyga dwn bad cuffin dat hoe st ...</td>\n",
              "    </tr>\n",
              "    <tr>\n",
              "      <th>2</th>\n",
              "      <td>1</td>\n",
              "      <td>!!!!!!! RT @UrKindOfBrand Dawg!!!! RT @80sbaby...</td>\n",
              "      <td>rt dawg rt ever fuck bitch start cry confused ...</td>\n",
              "    </tr>\n",
              "    <tr>\n",
              "      <th>3</th>\n",
              "      <td>1</td>\n",
              "      <td>!!!!!!!!! RT @C_G_Anderson: @viva_based she lo...</td>\n",
              "      <td>rt look like tranny</td>\n",
              "    </tr>\n",
              "    <tr>\n",
              "      <th>4</th>\n",
              "      <td>1</td>\n",
              "      <td>!!!!!!!!!!!!! RT @ShenikaRoberts: The shit you...</td>\n",
              "      <td>rt shit hear might true might faker bitch told ya</td>\n",
              "    </tr>\n",
              "  </tbody>\n",
              "</table>\n",
              "</div>\n",
              "    <div class=\"colab-df-buttons\">\n",
              "\n",
              "  <div class=\"colab-df-container\">\n",
              "    <button class=\"colab-df-convert\" onclick=\"convertToInteractive('df-b527114e-3376-499f-a6e0-c78f0ebea543')\"\n",
              "            title=\"Convert this dataframe to an interactive table.\"\n",
              "            style=\"display:none;\">\n",
              "\n",
              "  <svg xmlns=\"http://www.w3.org/2000/svg\" height=\"24px\" viewBox=\"0 -960 960 960\">\n",
              "    <path d=\"M120-120v-720h720v720H120Zm60-500h600v-160H180v160Zm220 220h160v-160H400v160Zm0 220h160v-160H400v160ZM180-400h160v-160H180v160Zm440 0h160v-160H620v160ZM180-180h160v-160H180v160Zm440 0h160v-160H620v160Z\"/>\n",
              "  </svg>\n",
              "    </button>\n",
              "\n",
              "  <style>\n",
              "    .colab-df-container {\n",
              "      display:flex;\n",
              "      gap: 12px;\n",
              "    }\n",
              "\n",
              "    .colab-df-convert {\n",
              "      background-color: #E8F0FE;\n",
              "      border: none;\n",
              "      border-radius: 50%;\n",
              "      cursor: pointer;\n",
              "      display: none;\n",
              "      fill: #1967D2;\n",
              "      height: 32px;\n",
              "      padding: 0 0 0 0;\n",
              "      width: 32px;\n",
              "    }\n",
              "\n",
              "    .colab-df-convert:hover {\n",
              "      background-color: #E2EBFA;\n",
              "      box-shadow: 0px 1px 2px rgba(60, 64, 67, 0.3), 0px 1px 3px 1px rgba(60, 64, 67, 0.15);\n",
              "      fill: #174EA6;\n",
              "    }\n",
              "\n",
              "    .colab-df-buttons div {\n",
              "      margin-bottom: 4px;\n",
              "    }\n",
              "\n",
              "    [theme=dark] .colab-df-convert {\n",
              "      background-color: #3B4455;\n",
              "      fill: #D2E3FC;\n",
              "    }\n",
              "\n",
              "    [theme=dark] .colab-df-convert:hover {\n",
              "      background-color: #434B5C;\n",
              "      box-shadow: 0px 1px 3px 1px rgba(0, 0, 0, 0.15);\n",
              "      filter: drop-shadow(0px 1px 2px rgba(0, 0, 0, 0.3));\n",
              "      fill: #FFFFFF;\n",
              "    }\n",
              "  </style>\n",
              "\n",
              "    <script>\n",
              "      const buttonEl =\n",
              "        document.querySelector('#df-b527114e-3376-499f-a6e0-c78f0ebea543 button.colab-df-convert');\n",
              "      buttonEl.style.display =\n",
              "        google.colab.kernel.accessAllowed ? 'block' : 'none';\n",
              "\n",
              "      async function convertToInteractive(key) {\n",
              "        const element = document.querySelector('#df-b527114e-3376-499f-a6e0-c78f0ebea543');\n",
              "        const dataTable =\n",
              "          await google.colab.kernel.invokeFunction('convertToInteractive',\n",
              "                                                    [key], {});\n",
              "        if (!dataTable) return;\n",
              "\n",
              "        const docLinkHtml = 'Like what you see? Visit the ' +\n",
              "          '<a target=\"_blank\" href=https://colab.research.google.com/notebooks/data_table.ipynb>data table notebook</a>'\n",
              "          + ' to learn more about interactive tables.';\n",
              "        element.innerHTML = '';\n",
              "        dataTable['output_type'] = 'display_data';\n",
              "        await google.colab.output.renderOutput(dataTable, element);\n",
              "        const docLink = document.createElement('div');\n",
              "        docLink.innerHTML = docLinkHtml;\n",
              "        element.appendChild(docLink);\n",
              "      }\n",
              "    </script>\n",
              "  </div>\n",
              "\n",
              "\n",
              "    <div id=\"df-9e2eeb6a-8f71-4f36-9931-13e045f6dde5\">\n",
              "      <button class=\"colab-df-quickchart\" onclick=\"quickchart('df-9e2eeb6a-8f71-4f36-9931-13e045f6dde5')\"\n",
              "                title=\"Suggest charts\"\n",
              "                style=\"display:none;\">\n",
              "\n",
              "<svg xmlns=\"http://www.w3.org/2000/svg\" height=\"24px\"viewBox=\"0 0 24 24\"\n",
              "     width=\"24px\">\n",
              "    <g>\n",
              "        <path d=\"M19 3H5c-1.1 0-2 .9-2 2v14c0 1.1.9 2 2 2h14c1.1 0 2-.9 2-2V5c0-1.1-.9-2-2-2zM9 17H7v-7h2v7zm4 0h-2V7h2v10zm4 0h-2v-4h2v4z\"/>\n",
              "    </g>\n",
              "</svg>\n",
              "      </button>\n",
              "\n",
              "<style>\n",
              "  .colab-df-quickchart {\n",
              "      --bg-color: #E8F0FE;\n",
              "      --fill-color: #1967D2;\n",
              "      --hover-bg-color: #E2EBFA;\n",
              "      --hover-fill-color: #174EA6;\n",
              "      --disabled-fill-color: #AAA;\n",
              "      --disabled-bg-color: #DDD;\n",
              "  }\n",
              "\n",
              "  [theme=dark] .colab-df-quickchart {\n",
              "      --bg-color: #3B4455;\n",
              "      --fill-color: #D2E3FC;\n",
              "      --hover-bg-color: #434B5C;\n",
              "      --hover-fill-color: #FFFFFF;\n",
              "      --disabled-bg-color: #3B4455;\n",
              "      --disabled-fill-color: #666;\n",
              "  }\n",
              "\n",
              "  .colab-df-quickchart {\n",
              "    background-color: var(--bg-color);\n",
              "    border: none;\n",
              "    border-radius: 50%;\n",
              "    cursor: pointer;\n",
              "    display: none;\n",
              "    fill: var(--fill-color);\n",
              "    height: 32px;\n",
              "    padding: 0;\n",
              "    width: 32px;\n",
              "  }\n",
              "\n",
              "  .colab-df-quickchart:hover {\n",
              "    background-color: var(--hover-bg-color);\n",
              "    box-shadow: 0 1px 2px rgba(60, 64, 67, 0.3), 0 1px 3px 1px rgba(60, 64, 67, 0.15);\n",
              "    fill: var(--button-hover-fill-color);\n",
              "  }\n",
              "\n",
              "  .colab-df-quickchart-complete:disabled,\n",
              "  .colab-df-quickchart-complete:disabled:hover {\n",
              "    background-color: var(--disabled-bg-color);\n",
              "    fill: var(--disabled-fill-color);\n",
              "    box-shadow: none;\n",
              "  }\n",
              "\n",
              "  .colab-df-spinner {\n",
              "    border: 2px solid var(--fill-color);\n",
              "    border-color: transparent;\n",
              "    border-bottom-color: var(--fill-color);\n",
              "    animation:\n",
              "      spin 1s steps(1) infinite;\n",
              "  }\n",
              "\n",
              "  @keyframes spin {\n",
              "    0% {\n",
              "      border-color: transparent;\n",
              "      border-bottom-color: var(--fill-color);\n",
              "      border-left-color: var(--fill-color);\n",
              "    }\n",
              "    20% {\n",
              "      border-color: transparent;\n",
              "      border-left-color: var(--fill-color);\n",
              "      border-top-color: var(--fill-color);\n",
              "    }\n",
              "    30% {\n",
              "      border-color: transparent;\n",
              "      border-left-color: var(--fill-color);\n",
              "      border-top-color: var(--fill-color);\n",
              "      border-right-color: var(--fill-color);\n",
              "    }\n",
              "    40% {\n",
              "      border-color: transparent;\n",
              "      border-right-color: var(--fill-color);\n",
              "      border-top-color: var(--fill-color);\n",
              "    }\n",
              "    60% {\n",
              "      border-color: transparent;\n",
              "      border-right-color: var(--fill-color);\n",
              "    }\n",
              "    80% {\n",
              "      border-color: transparent;\n",
              "      border-right-color: var(--fill-color);\n",
              "      border-bottom-color: var(--fill-color);\n",
              "    }\n",
              "    90% {\n",
              "      border-color: transparent;\n",
              "      border-bottom-color: var(--fill-color);\n",
              "    }\n",
              "  }\n",
              "</style>\n",
              "\n",
              "      <script>\n",
              "        async function quickchart(key) {\n",
              "          const quickchartButtonEl =\n",
              "            document.querySelector('#' + key + ' button');\n",
              "          quickchartButtonEl.disabled = true;  // To prevent multiple clicks.\n",
              "          quickchartButtonEl.classList.add('colab-df-spinner');\n",
              "          try {\n",
              "            const charts = await google.colab.kernel.invokeFunction(\n",
              "                'suggestCharts', [key], {});\n",
              "          } catch (error) {\n",
              "            console.error('Error during call to suggestCharts:', error);\n",
              "          }\n",
              "          quickchartButtonEl.classList.remove('colab-df-spinner');\n",
              "          quickchartButtonEl.classList.add('colab-df-quickchart-complete');\n",
              "        }\n",
              "        (() => {\n",
              "          let quickchartButtonEl =\n",
              "            document.querySelector('#df-9e2eeb6a-8f71-4f36-9931-13e045f6dde5 button');\n",
              "          quickchartButtonEl.style.display =\n",
              "            google.colab.kernel.accessAllowed ? 'block' : 'none';\n",
              "        })();\n",
              "      </script>\n",
              "    </div>\n",
              "\n",
              "    </div>\n",
              "  </div>\n"
            ],
            "application/vnd.google.colaboratory.intrinsic+json": {
              "type": "dataframe",
              "variable_name": "df",
              "summary": "{\n  \"name\": \"df\",\n  \"rows\": 24783,\n  \"fields\": [\n    {\n      \"column\": \"label\",\n      \"properties\": {\n        \"dtype\": \"number\",\n        \"std\": 0,\n        \"min\": 0,\n        \"max\": 2,\n        \"num_unique_values\": 3,\n        \"samples\": [\n          2,\n          1,\n          0\n        ],\n        \"semantic_type\": \"\",\n        \"description\": \"\"\n      }\n    },\n    {\n      \"column\": \"text\",\n      \"properties\": {\n        \"dtype\": \"string\",\n        \"num_unique_values\": 24783,\n        \"samples\": [\n          \"934 8616\\ni got a missed call from yo bitch\",\n          \"RT @KINGTUNCHI_: Fucking with a bad bitch you gone need some money lil homie!\",\n          \"RT @eanahS__: @1inkkofrosess lol my credit ain't no where near good , but I know the right man for the job .. that ho nice though!\"\n        ],\n        \"semantic_type\": \"\",\n        \"description\": \"\"\n      }\n    },\n    {\n      \"column\": \"clean_text\",\n      \"properties\": {\n        \"dtype\": \"string\",\n        \"num_unique_values\": 23882,\n        \"samples\": [\n          \"dad eye red son smoked weed dad dad lie cry faggot\",\n          \"scrappy mom run bitch away\",\n          \"want baddest bitch world right lap\"\n        ],\n        \"semantic_type\": \"\",\n        \"description\": \"\"\n      }\n    }\n  ]\n}"
            }
          },
          "metadata": {},
          "execution_count": 15
        }
      ]
    },
    {
      "cell_type": "markdown",
      "source": [
        "## Visualize the cleaned data"
      ],
      "metadata": {
        "id": "IV7HPRw5G2t1"
      }
    },
    {
      "cell_type": "code",
      "source": [
        "from wordcloud import WordCloud\n",
        "import matplotlib.pyplot as plt\n",
        "\n",
        "text = ' '.join(df['clean_text'])\n",
        "wordcloud = WordCloud(width=800, height=400, background_color='white').generate(text)\n",
        "plt.figure(figsize=(10,5))\n",
        "plt.imshow(wordcloud, interpolation='bilinear')\n",
        "plt.axis('off')\n",
        "plt.show()"
      ],
      "metadata": {
        "colab": {
          "base_uri": "https://localhost:8080/",
          "height": 0
        },
        "id": "-2X765OEJArd",
        "outputId": "6584e474-f49f-436d-8f34-6583d108de28"
      },
      "execution_count": 16,
      "outputs": [
        {
          "output_type": "display_data",
          "data": {
            "text/plain": [
              "<Figure size 1000x500 with 1 Axes>"
            ],
            "image/png": "[encoded data removed]"
          },
          "metadata": {}
        }
      ]
    },
    {
      "cell_type": "markdown",
      "source": [
        "The above is to create and display a word cloud, which is to visualize the most common words in the cleaned text.\n",
        "\n",
        "where larger words like 'bitch', 'hoe', and 'nigga' appear more often in the text. This helps identify the most commonly used terms and overall themes in the comments.\"\n",
        "\n",
        "Since this dataset is used for hate speech and offensive language detection, it's there in the above wordcloud, many common words are offensive. This actually proves that the data contains harmful language, which is what our model is meant to detect and handle."
      ],
      "metadata": {
        "id": "Q4AyE8YSa2PA"
      }
    },
    {
      "cell_type": "markdown",
      "source": [
        "##  Tokenization and Padding"
      ],
      "metadata": {
        "id": "Uu2BVgrXG5qU"
      }
    },
    {
      "cell_type": "markdown",
      "source": [
        "**Train-test split (80/20)**"
      ],
      "metadata": {
        "id": "7A-K61OcNScp"
      }
    },
    {
      "cell_type": "code",
      "source": [
        "from sklearn.model_selection import train_test_split\n",
        "\n",
        "# Step 1: Split into train and test (80% train, 20% test)\n",
        "X_train, X_test, y_train, y_test = train_test_split(df['clean_text'], df['label'], test_size=0.2, random_state=42)\n",
        "\n",
        "# Step 2: Further split the training data into train and validation sets (80% train, 20% validation)\n",
        "X_train, X_val, y_train, y_val = train_test_split(X_train, y_train, test_size=0.2, random_state=42)"
      ],
      "metadata": {
        "id": "y7pSAd8kGuP0"
      },
      "execution_count": 17,
      "outputs": []
    },
    {
      "cell_type": "code",
      "source": [
        "X_train"
      ],
      "metadata": {
        "colab": {
          "base_uri": "https://localhost:8080/",
          "height": 458
        },
        "id": "vPhvXlg69zOS",
        "outputId": "9ac05344-4f20-4dfe-8a4f-89378c141b40"
      },
      "execution_count": 18,
      "outputs": [
        {
          "output_type": "execute_result",
          "data": {
            "text/plain": [
              "14430                                   rt ugh white trash\n",
              "8931                              eat vegetable grow pussy\n",
              "6700                                 queer gnarles charles\n",
              "12764                         maple room bitch sacto style\n",
              "22856    black girl got thots nobody bringing fat white...\n",
              "                               ...                        \n",
              "12620    lol freshman said dress baby retarded said wel...\n",
              "10618    knew new orleans nig would say something crazy...\n",
              "19791    rt cannot worried bout bitch bitch could somew...\n",
              "5746                                              ho ho ho\n",
              "21561    girl skipping school nothing yo made say head ...\n",
              "Name: clean_text, Length: 15860, dtype: object"
            ],
            "text/html": [
              "<div>\n",
              "<style scoped>\n",
              "    .dataframe tbody tr th:only-of-type {\n",
              "        vertical-align: middle;\n",
              "    }\n",
              "\n",
              "    .dataframe tbody tr th {\n",
              "        vertical-align: top;\n",
              "    }\n",
              "\n",
              "    .dataframe thead th {\n",
              "        text-align: right;\n",
              "    }\n",
              "</style>\n",
              "<table border=\"1\" class=\"dataframe\">\n",
              "  <thead>\n",
              "    <tr style=\"text-align: right;\">\n",
              "      <th></th>\n",
              "      <th>clean_text</th>\n",
              "    </tr>\n",
              "  </thead>\n",
              "  <tbody>\n",
              "    <tr>\n",
              "      <th>14430</th>\n",
              "      <td>rt ugh white trash</td>\n",
              "    </tr>\n",
              "    <tr>\n",
              "      <th>8931</th>\n",
              "      <td>eat vegetable grow pussy</td>\n",
              "    </tr>\n",
              "    <tr>\n",
              "      <th>6700</th>\n",
              "      <td>queer gnarles charles</td>\n",
              "    </tr>\n",
              "    <tr>\n",
              "      <th>12764</th>\n",
              "      <td>maple room bitch sacto style</td>\n",
              "    </tr>\n",
              "    <tr>\n",
              "      <th>22856</th>\n",
              "      <td>black girl got thots nobody bringing fat white...</td>\n",
              "    </tr>\n",
              "    <tr>\n",
              "      <th>...</th>\n",
              "      <td>...</td>\n",
              "    </tr>\n",
              "    <tr>\n",
              "      <th>12620</th>\n",
              "      <td>lol freshman said dress baby retarded said wel...</td>\n",
              "    </tr>\n",
              "    <tr>\n",
              "      <th>10618</th>\n",
              "      <td>knew new orleans nig would say something crazy...</td>\n",
              "    </tr>\n",
              "    <tr>\n",
              "      <th>19791</th>\n",
              "      <td>rt cannot worried bout bitch bitch could somew...</td>\n",
              "    </tr>\n",
              "    <tr>\n",
              "      <th>5746</th>\n",
              "      <td>ho ho ho</td>\n",
              "    </tr>\n",
              "    <tr>\n",
              "      <th>21561</th>\n",
              "      <td>girl skipping school nothing yo made say head ...</td>\n",
              "    </tr>\n",
              "  </tbody>\n",
              "</table>\n",
              "<p>15860 rows × 1 columns</p>\n",
              "</div><br><label><b>dtype:</b> object</label>"
            ]
          },
          "metadata": {},
          "execution_count": 18
        }
      ]
    },
    {
      "cell_type": "markdown",
      "source": [
        "**Tokenization:**"
      ],
      "metadata": {
        "id": "of_mvE4_NOXR"
      }
    },
    {
      "cell_type": "markdown",
      "source": [
        "Tokenization is the process of converting text into numbers so that it can be understood by a machine learning model.\n",
        "\n",
        "The tokenizer assigns a unique integer ID to each word.\n",
        "\n",
        "This turns the comment/text into a sequence of numbers."
      ],
      "metadata": {
        "id": "Z00pSPjK_QmD"
      }
    },
    {
      "cell_type": "code",
      "source": [
        "from tensorflow.keras.preprocessing.text import Tokenizer\n",
        "\n",
        "tokenizer = Tokenizer()\n",
        "tokenizer.fit_on_texts(X_train)\n",
        "\n",
        "X_train_seq = tokenizer.texts_to_sequences(X_train)\n",
        "X_val_seq = tokenizer.texts_to_sequences(X_val)\n",
        "X_test_seq = tokenizer.texts_to_sequences(X_test)"
      ],
      "metadata": {
        "id": "oYw2Ji_ANFAR"
      },
      "execution_count": 19,
      "outputs": []
    },
    {
      "cell_type": "code",
      "source": [
        "X_test_seq"
      ],
      "metadata": {
        "colab": {
          "base_uri": "https://localhost:8080/"
        },
        "id": "so5yIwck-E8j",
        "outputId": "b6400a11-c0a5-4598-9c95-f64f994f80c6"
      },
      "execution_count": 20,
      "outputs": [
        {
          "output_type": "execute_result",
          "data": {
            "text/plain": [
              "[[7, 1472, 56, 24, 1],\n",
              " [2, 25, 30, 1, 139, 32, 78, 88, 766],\n",
              " [2, 13, 2029, 1345, 28, 15, 47, 31, 262, 121, 306, 54],\n",
              " [2, 2674, 1357, 34, 2, 1117, 13618, 21, 42, 11],\n",
              " [6, 451, 1, 826, 377, 43, 8855, 10371, 1],\n",
              " [466, 556, 354, 993, 106, 4769, 20, 131, 593, 1],\n",
              " [48, 4443, 1, 7, 36, 1822, 2663],\n",
              " [776, 22, 1],\n",
              " [660, 111, 104, 4, 1, 4355, 96],\n",
              " [2, 541, 1, 529, 14, 429, 660],\n",
              " [4, 1, 169, 2481, 2247],\n",
              " [1741, 202, 225, 1439, 120],\n",
              " [668, 1, 36, 302, 2180],\n",
              " [25, 317],\n",
              " [1, 691, 6, 158, 433, 185],\n",
              " [1556, 13153, 89, 314, 1],\n",
              " [7, 18, 182, 26, 1211, 1349, 1732],\n",
              " [842, 1292, 3, 333, 356, 937, 8, 31, 6],\n",
              " [68, 12891, 368, 11, 12890, 287, 1, 287],\n",
              " [12, 54],\n",
              " [2,\n",
              "  720,\n",
              "  604,\n",
              "  88,\n",
              "  1,\n",
              "  55,\n",
              "  231,\n",
              "  144,\n",
              "  12834,\n",
              "  5951,\n",
              "  762,\n",
              "  5191,\n",
              "  20,\n",
              "  2840,\n",
              "  1193,\n",
              "  5,\n",
              "  1310],\n",
              " [32, 17, 128, 218, 96, 1, 1284, 754, 3, 7029, 13],\n",
              " [2, 1466, 4860, 2570, 369, 281, 101, 327, 517, 73],\n",
              " [157, 6, 1389, 1640, 949, 69, 1215, 71, 1, 55, 9, 59, 29, 69, 6514],\n",
              " [3, 322],\n",
              " [227, 33, 647, 20, 6161, 2066, 417, 1],\n",
              " [163, 118, 3],\n",
              " [2, 11, 3106],\n",
              " [1, 421],\n",
              " [2, 14, 510, 1, 9, 14, 90, 331, 1],\n",
              " [2, 1287, 2878, 1350, 1],\n",
              " [2, 190, 58, 1, 2, 2884, 1135, 949, 351],\n",
              " [2, 85, 1, 1058, 2220, 6319],\n",
              " [3, 697, 218, 129],\n",
              " [2, 9, 5, 172, 147],\n",
              " [2, 120, 86, 19, 120, 87, 1],\n",
              " [137, 9, 299, 23, 163, 105],\n",
              " [776, 6074, 1, 2874, 149, 526, 525, 35, 83, 933],\n",
              " [264, 7, 3261, 122, 607, 1, 10845, 386],\n",
              " [233, 93],\n",
              " [17, 968, 83, 6522, 221, 87, 262, 2567, 7, 76, 151, 399],\n",
              " [18, 5, 954],\n",
              " [1126, 30, 1, 27, 28],\n",
              " [1856, 1856],\n",
              " [249, 16, 27, 4],\n",
              " [2, 296, 361, 3, 83, 3009],\n",
              " [2, 6, 72, 242, 101, 356, 347, 817, 517, 576, 1, 672, 490],\n",
              " [6121, 3010, 115, 118, 26, 615, 998, 5503],\n",
              " [4072, 16, 9179, 3416, 1098, 3493, 310, 596, 2548, 383],\n",
              " [763, 1, 41],\n",
              " [42, 6, 126, 3, 20],\n",
              " [1, 236, 349, 104, 223, 349, 36, 104, 11, 994, 375, 4319, 359, 5, 75],\n",
              " [2, 6, 3],\n",
              " [1, 36, 20],\n",
              " [29, 1721, 1170, 427, 5565, 537, 1290, 811, 95],\n",
              " [671, 160, 53, 437, 338, 20, 38, 1],\n",
              " [1110, 55, 1, 143, 1682, 232, 224],\n",
              " [10, 2669, 5],\n",
              " [2, 1, 7, 150, 66, 1231, 7, 337, 4, 126],\n",
              " [2, 2, 2, 11739, 403, 5],\n",
              " [2, 33, 505, 2626, 3, 20, 36],\n",
              " [60, 304, 12, 31, 2, 146, 346, 2194, 786],\n",
              " [2876, 25, 653, 426, 12],\n",
              " [335, 453, 1],\n",
              " [222, 94, 222, 1, 222, 55, 11],\n",
              " [11, 211, 733, 4],\n",
              " [2, 1659, 9813, 262, 22, 758, 771, 15, 430, 114, 368, 22],\n",
              " [1813, 46, 12, 557],\n",
              " [2, 1507, 4, 63, 1, 954],\n",
              " [168, 11, 92, 183],\n",
              " [212, 36, 2, 1292, 331, 1, 2503, 368, 212],\n",
              " [9, 3, 8, 1594, 10839],\n",
              " [408, 753, 2559, 827, 4291, 106, 3431],\n",
              " [2, 6230, 86, 249, 3879],\n",
              " [335, 1886, 38, 1, 8],\n",
              " [667, 9877, 317, 481, 1775, 46, 1777, 9, 254, 1567, 106, 8587],\n",
              " [2, 20, 1034, 86, 1670, 526, 261, 130, 73],\n",
              " [315, 3506, 1552, 3991, 10826, 3, 2672, 9665],\n",
              " [2, 3, 845, 10655],\n",
              " [48, 6, 400, 1102, 1119, 93, 1016, 1, 206, 1041, 1229],\n",
              " [2, 263, 151, 3258, 1262, 1758, 178],\n",
              " [15, 10, 1, 19],\n",
              " [76, 1],\n",
              " [3, 27, 630, 614],\n",
              " [2, 48, 1, 15, 7, 81, 1206, 227],\n",
              " [2, 241, 1, 4, 78, 80, 2302, 333, 379, 341],\n",
              " [580, 309, 27, 141, 242, 1, 182, 198, 981, 594],\n",
              " [52, 48, 195, 353, 101, 658, 474, 274, 11, 62, 8, 13],\n",
              " [2, 2561, 70, 883, 892, 920, 1836, 1335, 86, 221, 2374, 173, 246, 369],\n",
              " [2, 19, 229, 208, 80, 6, 14, 1, 320, 3523, 11],\n",
              " [45, 185, 433, 2376, 1436],\n",
              " [6, 757, 1703, 2186, 31, 1738, 32, 57, 1, 8, 6, 31],\n",
              " [324, 1],\n",
              " [4, 49, 255, 461, 271, 23, 365, 817, 105, 365],\n",
              " [887, 114, 314, 5, 459],\n",
              " [2, 1127, 3, 214, 1834, 189],\n",
              " [126, 84, 2716, 127, 32, 172],\n",
              " [3, 715, 61, 201, 97, 66],\n",
              " [8167, 17, 646, 9895, 3014, 8167, 28, 1156, 3014, 4870, 12],\n",
              " [2, 309, 2039, 151, 45, 1, 75],\n",
              " [21, 1],\n",
              " [338, 1636, 9830, 869, 565, 3583, 433, 857, 3004, 136, 880, 1],\n",
              " [208, 1118, 1209, 1162, 249],\n",
              " [2, 20, 201, 474, 104, 240, 201, 5715, 1, 8],\n",
              " [408, 728, 1138, 4, 1],\n",
              " [180, 60, 23],\n",
              " [24, 77],\n",
              " [2, 1, 3760, 102],\n",
              " [14, 30, 3, 14, 4282, 562],\n",
              " [6, 819, 102, 4, 1829, 396, 4288, 5],\n",
              " [212, 3558, 5, 3037],\n",
              " [41, 434, 516, 3, 1500],\n",
              " [1, 24, 8, 155, 124, 16, 107, 8, 2050],\n",
              " [5],\n",
              " [114, 3014, 34],\n",
              " [2, 324, 38, 62],\n",
              " [3, 2295, 4976],\n",
              " [61, 80, 3, 2519, 182, 975, 273],\n",
              " [14, 500, 481, 1],\n",
              " [2, 629, 38, 5, 211, 57, 698, 40, 76, 221, 181],\n",
              " [10, 93, 1919],\n",
              " [46, 236, 27, 4, 1566, 128, 88, 5526, 1012, 8, 1, 4],\n",
              " [4, 5918, 644, 3021, 210, 23, 763, 611, 1722, 2101, 3108],\n",
              " [66, 1, 1627, 3186],\n",
              " [13, 1230, 254, 220, 225, 1584, 44, 9, 10396],\n",
              " [1049, 866, 4568, 197, 104, 1153, 8773],\n",
              " [73, 27, 1793, 1554, 316],\n",
              " [4787, 1175, 12, 1503, 11682, 1175],\n",
              " [2309, 124, 5721, 484, 1, 1914],\n",
              " [11, 33, 56, 1349, 577, 108, 10, 20, 82, 774, 372, 39, 107, 1],\n",
              " [670, 13838, 6, 5],\n",
              " [458, 1],\n",
              " [2, 34, 2, 374, 28, 420, 1, 751, 812, 54, 921],\n",
              " [183, 1994, 49, 194, 28, 667, 77],\n",
              " [7, 6638, 3, 5411, 101, 79, 1242, 16, 21, 57, 4, 137, 2558],\n",
              " [3655, 23, 555, 817, 2384, 7904, 557, 681, 341, 4267, 655],\n",
              " [2, 2, 4, 5380, 14177, 9509, 10623, 14177, 1845, 1321],\n",
              " [26, 1908, 4, 17, 1],\n",
              " [3, 324],\n",
              " [44, 157, 1080, 7403, 588, 11, 66, 266, 3688, 16, 12],\n",
              " [5765, 51, 19, 5765, 51, 19, 1, 287, 518, 4513, 359],\n",
              " [2, 1, 775, 505, 1102, 31, 262, 48, 6081, 59, 3, 79, 564, 264],\n",
              " [67, 1825, 213, 629, 67, 43, 1],\n",
              " [726, 5, 5, 266, 238],\n",
              " [2, 67, 1, 112],\n",
              " [41, 51, 12, 182, 175, 4, 2084, 26, 119, 51, 12],\n",
              " [411, 35, 620, 25, 458, 1, 2337, 198, 80, 3],\n",
              " [244, 475, 8, 915, 2503, 302, 2745, 129, 77],\n",
              " [2, 6268, 609, 4, 1, 701, 37, 38, 1211],\n",
              " [2, 954, 818, 145, 4, 24, 237, 77],\n",
              " [760, 11703, 9, 3, 404, 90, 197, 137, 57],\n",
              " [313, 54, 483, 220, 1, 259, 11, 46],\n",
              " [14, 820, 640, 30, 1],\n",
              " [1285, 2962, 7, 220, 5, 56, 955, 6, 915, 18],\n",
              " [212, 37, 57, 3515, 2248, 207, 161, 167, 86],\n",
              " [2332, 13866, 356, 139, 11, 9, 1527],\n",
              " [56, 1337, 4419, 3],\n",
              " [2, 1, 264, 18, 9, 3808],\n",
              " [22, 231, 557, 73, 47, 10024, 1105, 73, 5646],\n",
              " [2,\n",
              "  4108,\n",
              "  5510,\n",
              "  1095,\n",
              "  1623,\n",
              "  1624,\n",
              "  5688,\n",
              "  6,\n",
              "  3996,\n",
              "  698,\n",
              "  170,\n",
              "  8,\n",
              "  1,\n",
              "  50,\n",
              "  607,\n",
              "  132,\n",
              "  22],\n",
              " [1, 7551, 9810],\n",
              " [2, 1, 14, 494, 1173, 1],\n",
              " [243, 3, 14, 913],\n",
              " [1299, 7273, 6082, 371, 3227, 241, 356, 35, 317, 174, 112],\n",
              " [218, 71, 79, 1],\n",
              " [2, 2, 195, 2, 1299, 3, 5688],\n",
              " [2, 415, 582, 5159, 206, 534, 2098, 785, 928, 530],\n",
              " [35, 515, 5384, 31, 157, 37, 253, 565, 596],\n",
              " [7, 4, 71, 1982, 627, 265],\n",
              " [2, 15, 1, 218, 635, 1769, 6, 46, 10],\n",
              " [687, 8289, 1],\n",
              " [37, 314, 1445, 2432, 809, 50, 5],\n",
              " [2, 392, 31, 93, 711, 1605, 112, 1566, 145],\n",
              " [17, 556, 1],\n",
              " [1, 10151, 11316],\n",
              " [2, 1011, 3484, 207, 10, 3],\n",
              " [209, 3, 7, 160],\n",
              " [2, 219, 1, 14, 636, 1],\n",
              " [2, 1],\n",
              " [1, 1029, 11],\n",
              " [494, 96, 494],\n",
              " [2, 531, 2684, 166, 8287, 12],\n",
              " [723, 61, 245, 88, 1],\n",
              " [518, 171, 123, 12, 1686, 7099],\n",
              " [4161, 58, 13, 14, 9343, 423, 1, 161, 255, 2606],\n",
              " [3442, 1476, 959, 181, 77],\n",
              " [2, 152, 335, 15, 201, 206, 3622, 18, 5673, 3, 60, 119],\n",
              " [159, 79, 45, 1274],\n",
              " [945, 5704, 19, 1657, 227, 32, 59, 1, 585, 696, 513],\n",
              " [3, 332, 14, 749, 64, 11, 4, 85, 4, 606],\n",
              " [183, 265, 607, 34, 182, 198],\n",
              " [10242, 8282, 52, 15, 235, 11, 2632, 1707, 3],\n",
              " [2, 59, 4403, 38, 174, 65, 275, 207, 1004, 6, 2734, 55, 1773, 3],\n",
              " [95, 638, 241, 638],\n",
              " [2, 1, 240, 845, 3613, 1834],\n",
              " [4, 693, 78, 230, 4060, 144, 92, 1190, 8725, 245],\n",
              " [1178, 4, 1],\n",
              " [4738, 5923, 578, 2855, 721, 2056, 11, 9, 48, 1],\n",
              " [8644, 251, 1],\n",
              " [7, 5635, 7, 1],\n",
              " [164, 1235],\n",
              " [2, 7111, 1, 357, 29, 7230, 10381, 1, 77],\n",
              " [2, 3, 5297],\n",
              " [13711, 34, 582, 732],\n",
              " [2, 1278, 5, 2175, 387, 915, 1558, 2688, 52, 54],\n",
              " [237, 1],\n",
              " [2, 20, 199, 12, 41, 119, 2741],\n",
              " [114, 1],\n",
              " [18, 3],\n",
              " [2, 4975, 1, 732],\n",
              " [5, 28, 728, 4, 289, 7, 728],\n",
              " [1, 247, 192, 288, 1253],\n",
              " [2, 829, 12674, 29, 116, 237, 350, 955, 923, 2041, 151, 45, 172, 147],\n",
              " [61, 1397, 2615, 5],\n",
              " [2, 5, 919],\n",
              " [2, 10661, 77, 36, 312, 194],\n",
              " [484, 127, 79, 310, 255, 3, 402, 278],\n",
              " [222, 7, 1637, 1, 1637, 188],\n",
              " [200, 1, 579, 81],\n",
              " [3012, 2341, 134, 300, 387, 555, 3939, 10894],\n",
              " [2, 2, 150, 1, 336, 4281, 240, 1194, 4, 12633],\n",
              " [1, 124, 359, 454],\n",
              " [14056, 9361, 410, 650],\n",
              " [5380, 497, 5003, 18, 7452, 1845, 1144],\n",
              " [2, 49, 774, 1, 56, 15068, 1769, 1016, 841],\n",
              " [2, 1358, 293, 3, 1594, 13],\n",
              " [335, 1, 81, 11, 102],\n",
              " [70, 1705],\n",
              " [1, 217],\n",
              " [3382, 367, 11483, 367, 35, 346, 582, 226, 143, 509, 935, 1],\n",
              " [5082, 407, 374, 55, 1, 8721],\n",
              " [345, 15, 1, 537, 22, 842, 5882, 1, 4, 60],\n",
              " [2, 147, 2762, 207, 519, 378, 9, 1],\n",
              " [1185, 10019, 395, 2267, 1, 127],\n",
              " [1582, 867, 8, 1, 13],\n",
              " [47, 5],\n",
              " [109, 278, 240, 377, 4370, 103, 8504, 41, 321, 857, 110, 51, 1],\n",
              " [2, 26, 5],\n",
              " [2, 167],\n",
              " [2, 3562, 5394, 3, 7, 644, 1224, 352, 35, 4061, 264],\n",
              " [10, 2686, 5, 2110],\n",
              " [168, 7216, 101, 3],\n",
              " [7, 192, 7066, 249],\n",
              " [252, 3783, 18],\n",
              " [113, 1893, 266, 5, 76, 57, 76, 74, 20, 166, 17, 643, 599, 301],\n",
              " [2, 19, 40, 99, 576, 4, 93, 2049, 955, 2049],\n",
              " [470, 1, 7],\n",
              " [2, 6, 3355, 1, 42, 72, 65, 1, 1217, 810, 169, 422],\n",
              " [7, 1096, 5630, 6, 24, 1, 94, 3332, 6],\n",
              " [5651, 3, 17],\n",
              " [16, 121, 9, 1004],\n",
              " [7, 3037, 1213, 639, 6068, 1569, 1542, 1935, 410, 3],\n",
              " [2, 301, 497, 1010, 125, 210, 3684, 3973, 6304, 125, 472, 538, 4529],\n",
              " [2, 242, 79, 1, 202, 453, 81, 453, 81],\n",
              " [90, 231, 358, 544, 209, 15, 187, 400, 1505],\n",
              " [422, 807, 146, 516, 210, 1021, 1806, 9894],\n",
              " [1151, 45, 74, 9, 87, 326, 1292, 225, 80, 1009, 2727, 20, 725],\n",
              " [72, 22, 3571, 1, 2577, 4145],\n",
              " [16, 10, 2626, 714, 8, 3],\n",
              " [2626, 3, 5330],\n",
              " [141, 558, 782, 685, 533, 270, 1038, 1191],\n",
              " [4, 4599, 867, 4, 1653, 53, 100, 244, 567, 3572],\n",
              " [2, 1063, 406, 23, 2192, 1063, 47],\n",
              " [1810, 3395, 107, 1, 1651, 262, 1375, 599, 2103, 407, 120],\n",
              " [36, 46, 921, 35, 77],\n",
              " [1],\n",
              " [2, 247, 1293, 683, 3],\n",
              " [10, 1399, 2191, 33, 4604, 2267, 733, 796, 2853, 603, 2384, 4220, 819],\n",
              " [22, 100, 790, 3626, 11370, 1093],\n",
              " [2, 109, 3, 7328, 3891],\n",
              " [95, 13, 1201],\n",
              " [13, 2393, 1586, 4513, 160, 661, 185, 433, 14950, 2832, 504],\n",
              " [35, 574, 646, 1873, 72, 1899, 17, 712, 1, 2050, 17, 134, 2244, 596],\n",
              " [158, 156, 2226, 1705],\n",
              " [2, 70, 883, 866, 83, 12647, 4169, 10472, 145, 4265, 3902],\n",
              " [424, 21, 228, 42, 3194, 22, 1367, 538, 11, 1259, 3839],\n",
              " [192, 939, 1, 2538, 1008, 23, 2287],\n",
              " [2, 263, 2116, 857],\n",
              " [2, 3, 214],\n",
              " [133, 11, 2, 1966, 12, 12],\n",
              " [2, 471, 1],\n",
              " [2, 7, 5526, 5156, 1821, 3],\n",
              " [1, 112, 13],\n",
              " [34],\n",
              " [3],\n",
              " [2, 471, 91, 1946, 1967, 577, 37, 4471, 2449, 121],\n",
              " [120, 86, 1],\n",
              " [56, 13, 2786, 100, 129, 31, 1569, 554, 757, 53, 43],\n",
              " [6, 1916, 2570, 7, 587, 34, 237, 192, 2884, 11, 13],\n",
              " [50, 2, 50, 2, 44, 1196, 34, 905, 1],\n",
              " [1768, 45, 4, 159, 81, 2538, 45, 3, 4],\n",
              " [7, 238, 1],\n",
              " [249, 280],\n",
              " [2, 408, 390, 12, 4, 33, 166],\n",
              " [10, 349, 104, 171, 22, 57, 6, 18, 51, 1, 4355, 197],\n",
              " [61, 3, 6044, 31],\n",
              " [364, 5231, 92, 98],\n",
              " [2, 1761, 49, 202, 1719, 597, 4085, 733, 1646, 42, 6506, 2509],\n",
              " [518, 82, 650, 673, 346, 34, 731, 63, 921],\n",
              " [60, 13, 65, 275, 125, 1169, 1343, 4, 609, 8, 1],\n",
              " [2, 938, 437, 11, 20, 3, 48, 691],\n",
              " [380, 181, 1931, 169, 209, 1],\n",
              " [633, 3810, 1452, 249, 633, 16, 109, 155, 11464],\n",
              " [158, 4, 309, 136, 1, 21, 143, 418, 136, 96, 49, 48],\n",
              " [2, 11, 23],\n",
              " [2, 612, 4041, 186, 25, 3, 186, 33, 5700],\n",
              " [4240, 1],\n",
              " [1423, 3, 217, 284, 226],\n",
              " [3506, 2933, 6263, 868, 3991, 932, 2458, 2933, 2933, 3506, 835, 3060, 5863],\n",
              " [439, 52, 7, 57, 3, 606, 129],\n",
              " [87, 1],\n",
              " [2, 2247, 2194, 83, 1248, 1, 17, 3, 22, 20, 57, 222, 150],\n",
              " [119, 956, 12],\n",
              " [29, 434, 5, 21, 982, 26, 850],\n",
              " [401, 370, 654, 394, 3433],\n",
              " [2, 41, 34, 64, 11, 677, 21, 2059, 1, 1204, 5951, 2447],\n",
              " [3589, 271, 3, 64, 85],\n",
              " [4, 180, 60, 464, 1],\n",
              " [197, 2370, 1, 11],\n",
              " [63, 110, 8, 1, 94],\n",
              " [2, 1130, 331, 611, 6, 14, 1130, 331, 611, 1, 14],\n",
              " [3216, 1597, 69, 1, 251, 421, 1736, 375, 180],\n",
              " [294, 12, 410],\n",
              " [6, 64, 5, 9, 534, 2, 3673, 854, 5],\n",
              " [307, 27, 4, 4265, 2324, 1160, 10, 62, 175, 484, 19],\n",
              " [179, 929, 3, 289],\n",
              " [2, 4045, 455, 65],\n",
              " [2, 1, 21, 52, 606, 24, 60, 138],\n",
              " [2, 286, 83, 1440, 73],\n",
              " [274, 120, 482, 1, 320, 91, 784, 43, 368],\n",
              " [2632, 789, 4879, 202, 99, 309, 3087, 5810, 77, 10582, 10583],\n",
              " [2, 1774, 338, 308, 3],\n",
              " [2, 2748, 1146, 862, 289, 74, 29, 15, 121, 44, 360],\n",
              " [2, 1764, 5, 620],\n",
              " [211, 994, 1, 9332, 69, 1875],\n",
              " [2, 1, 198, 990, 12038, 495, 239, 37, 80],\n",
              " [133, 1, 353, 131],\n",
              " [704, 1],\n",
              " [2, 45, 1929, 654, 45, 9988, 1, 1348],\n",
              " [196, 196, 18, 424],\n",
              " [1, 871, 613, 475, 13, 555, 2799, 118, 619, 8601],\n",
              " [179, 757, 251, 1],\n",
              " [2, 280, 14, 66, 25, 1],\n",
              " [1163, 272, 719, 154, 13, 154, 708, 45, 817, 1047],\n",
              " [1, 59, 13781],\n",
              " [1120, 85, 1872, 12676, 230, 5],\n",
              " [1, 74, 181, 2235, 38, 357, 213, 18, 1326],\n",
              " [498, 1, 1305, 53, 128, 20, 128, 47, 37, 91, 327, 592, 343],\n",
              " [2, 6, 94, 34],\n",
              " [954, 56, 177, 14, 23, 2887, 492],\n",
              " [31, 7, 701, 5281, 3452, 1073, 9964, 3],\n",
              " [53, 317],\n",
              " [2, 1, 8, 303, 5934, 72, 499, 424],\n",
              " [63, 1, 3139, 138, 940, 132, 9, 9810, 2173, 690],\n",
              " [209, 1050, 182, 104, 477, 5],\n",
              " [30, 1, 11, 769],\n",
              " [9, 126, 643, 20, 5840, 4, 236, 676, 291, 1],\n",
              " [2, 70, 311],\n",
              " [2, 41, 37, 294, 12, 188],\n",
              " [5, 1553, 400, 105, 5, 3870, 50, 7, 2606],\n",
              " [2, 274, 388, 2634, 2196, 1, 1560, 1321],\n",
              " [],\n",
              " [13, 22, 27, 1, 8, 14],\n",
              " [2, 47, 2, 3450, 2, 321, 5, 255, 114, 82, 8],\n",
              " [2, 409, 1155, 357, 3566, 188, 1653, 43, 1, 4347],\n",
              " [2, 135, 5, 1275, 99, 40, 76, 42, 776, 47, 13647, 776, 309, 13647, 102],\n",
              " [1, 65, 43],\n",
              " [2847, 17, 1834, 1208, 128, 1834, 100, 50, 10],\n",
              " [197, 4, 46, 1241, 4, 321, 5, 43, 26, 382, 4, 382, 168, 4, 321, 8],\n",
              " [142, 248, 258, 111, 2133, 108, 1412, 1491],\n",
              " [2, 83, 1440, 1, 4, 1876],\n",
              " [2, 21, 57, 1, 11, 9, 262],\n",
              " [2, 2587, 253, 1170, 13548, 250, 1982, 16, 2570],\n",
              " [41, 37, 5411, 59, 104, 4, 68, 307, 1],\n",
              " [2, 7, 3306, 39, 1],\n",
              " [122, 47, 1],\n",
              " [1637, 30, 1, 71, 49, 144, 1004, 165, 27, 4, 7, 101, 5427],\n",
              " [3, 214],\n",
              " [44, 392, 356, 35, 1684],\n",
              " [2, 3159, 2726, 1291, 3, 244, 856, 658],\n",
              " [2, 36, 1, 2, 13, 124, 553],\n",
              " [3],\n",
              " [2, 6, 81, 9, 5, 1305, 17, 90, 85, 1, 3413, 5587],\n",
              " [124, 5, 7, 12256],\n",
              " [158, 7, 9387, 14, 1, 145, 5, 4, 5502],\n",
              " [1, 52, 35, 757, 55],\n",
              " [226, 46, 105, 188, 129, 3, 1321, 81],\n",
              " [2, 2, 3962, 12, 4, 497, 97, 662, 439],\n",
              " [13, 1, 335, 20, 9, 13674, 268, 2946, 916, 5, 8],\n",
              " [2, 490, 39, 321, 5, 179, 959, 518, 82, 1792, 3578, 46, 198],\n",
              " [40, 3244, 5, 15072],\n",
              " [48, 92, 14],\n",
              " [205, 1428, 624, 625, 105, 6199, 219, 2415, 6200, 45],\n",
              " [57, 54, 62, 89, 163, 105],\n",
              " [189, 20, 4, 1, 12535, 13, 1567, 1396],\n",
              " [85, 202, 6, 1, 25, 1291, 11],\n",
              " [1591, 1, 6648, 35, 585, 459],\n",
              " [324, 321, 761, 324, 233, 1016, 5981],\n",
              " [106, 3641, 6, 1, 174, 114, 876],\n",
              " [2, 82, 5, 153, 5, 4100, 5, 321, 28],\n",
              " [9808, 3],\n",
              " [7, 3, 13, 2, 409, 5951, 188],\n",
              " [1698, 401, 513, 174, 478, 100, 1964, 100, 822, 174, 170, 2407, 9, 384],\n",
              " [473, 6, 976, 155, 795, 1],\n",
              " [410, 11, 31, 366, 1, 8, 1336, 197, 2, 12290, 855, 368, 149, 427, 129],\n",
              " [2, 937, 11, 23],\n",
              " [18, 45, 91, 53, 1981, 4702, 6225, 6482, 26, 102, 580, 2105, 346],\n",
              " [1235, 3551],\n",
              " [21, 9, 78, 1783, 3],\n",
              " [38, 1, 308, 735, 565, 1540, 1577],\n",
              " [856, 2838, 7, 172, 3979, 5],\n",
              " [1, 4353, 55, 3552],\n",
              " [375, 77, 75, 6100],\n",
              " [7, 83, 1, 7, 8, 420, 318, 4, 113, 15, 126],\n",
              " [2, 515, 15, 28, 989, 6241, 4805, 340, 16, 23, 284],\n",
              " [2, 189, 79, 39, 953, 2063, 124, 148, 490, 371, 907, 3, 390, 61, 500, 38, 58],\n",
              " [52, 348, 1],\n",
              " [17, 31, 12, 149, 31, 2724, 319],\n",
              " [44, 715, 145, 1, 91, 6017, 145, 2730, 137, 94, 82, 10, 390, 61],\n",
              " [2206, 67, 29, 10, 3, 45, 629, 40, 3, 120, 58, 1372, 448, 740, 18, 1782],\n",
              " [2, 7, 238, 4367, 1],\n",
              " [357, 314, 239, 8, 869, 316, 248, 3, 709, 4, 91, 90, 39, 45, 13],\n",
              " [2, 3739, 63, 1, 125, 39, 408, 291, 1872, 80, 944],\n",
              " [498, 1],\n",
              " [1382, 1124, 33, 9],\n",
              " [554, 38, 628, 8062, 420, 8, 1],\n",
              " [3013, 1, 2804, 568],\n",
              " [2074, 2902, 166, 28, 51, 12, 3, 2759],\n",
              " [274, 320, 704, 154, 5309, 3, 4, 1187],\n",
              " [954, 2, 597, 491, 4400, 6850],\n",
              " [116, 448, 103, 2034, 14, 1],\n",
              " [142, 149, 1175, 45, 609, 8, 237, 1, 18, 54, 6690, 5980, 5836],\n",
              " [6, 49, 3469, 115, 1],\n",
              " [2, 5, 10152, 2837],\n",
              " [2, 2, 152, 201, 2, 1859, 637, 895, 1859, 12],\n",
              " [686, 59, 1008, 23, 4057, 71, 6539, 20, 3471, 3356, 2, 71, 44, 64],\n",
              " [49, 24, 1, 1, 27, 5221],\n",
              " [2, 67, 10, 1, 48, 691],\n",
              " [609, 355, 1],\n",
              " [2, 14, 1224, 1930, 1224, 16, 226, 1, 4367],\n",
              " [2, 50, 3, 141, 847, 1513, 13, 3, 1513, 325, 1075],\n",
              " [207, 10, 1, 14, 2041],\n",
              " [1, 27, 4, 3668],\n",
              " [288, 197, 15, 12742, 2, 228, 454, 13, 9, 100, 618],\n",
              " [223, 56, 43, 339, 526, 629, 396, 709, 1, 8, 6],\n",
              " [453, 54, 13, 2, 19, 35, 16, 26, 5, 831, 11],\n",
              " [2, 945, 5704, 6, 10, 87, 370, 5704, 6, 1767, 1, 123],\n",
              " [187, 80, 1597, 1],\n",
              " [93, 4210],\n",
              " [865, 1602, 1, 240, 261, 14432],\n",
              " [2, 6, 1447, 1, 1, 1548],\n",
              " [578, 3, 176, 1431, 5712],\n",
              " [2, 89, 185, 9, 126, 63, 97, 21, 990, 736, 3],\n",
              " [3, 7, 160, 87, 3215, 120],\n",
              " [2, 10, 2870, 1, 1166],\n",
              " [1, 350, 3364, 433, 8, 1773, 641],\n",
              " [2, 7614, 240, 3148, 1, 459, 223, 2414, 3208, 378],\n",
              " [367, 5, 48, 6],\n",
              " [4, 1, 385],\n",
              " [7909, 2, 90, 34, 2, 61],\n",
              " [2, 107, 1, 925, 1],\n",
              " [51, 37, 32, 3687, 4471, 4556, 12, 3919, 76],\n",
              " [117, 3, 256, 50],\n",
              " [2, 41, 6, 9, 126, 143, 150, 19, 46, 142, 1886, 1, 2045],\n",
              " [1874, 1, 160, 6],\n",
              " [3869, 127, 94, 1],\n",
              " [1, 13180, 25, 1251, 76, 128, 1, 4, 10, 2558, 20, 94, 1251],\n",
              " [158, 67, 6111, 930, 4, 12548, 12549, 11272, 231],\n",
              " [34],\n",
              " [5],\n",
              " [5, 313, 5],\n",
              " [107, 1, 35, 122, 191],\n",
              " [1, 15, 954],\n",
              " [193, 2221, 1418, 9, 5, 150],\n",
              " [5711, 915, 2503, 3],\n",
              " [1097, 12801, 151, 908, 1209, 42],\n",
              " [2, 935, 3, 9, 109, 265, 14, 4282, 359, 1965, 435, 162, 1036, 16],\n",
              " [1126, 5, 4, 12100],\n",
              " [111, 527, 1000, 23, 572, 3858, 7361, 3640, 1631],\n",
              " [448, 1, 19, 21, 59],\n",
              " [2, 90, 5, 13768],\n",
              " [33, 797, 3089],\n",
              " [1, 1051, 58, 187, 186, 153, 11],\n",
              " [57, 283, 529, 1, 47],\n",
              " [52, 7464, 23, 4, 1024],\n",
              " [4349, 14, 1041, 1907, 1373, 1752, 479, 13],\n",
              " [40, 3, 1613, 1779, 6881, 6881],\n",
              " [96, 77, 459, 95],\n",
              " [82, 5, 555, 18],\n",
              " [2, 574, 5328, 86, 39, 12],\n",
              " [1, 4, 1047, 201, 55, 69, 1],\n",
              " [5, 245, 446],\n",
              " [30, 1, 14829, 74, 970],\n",
              " [2, 413, 3, 64, 11],\n",
              " [2, 108, 3, 91, 14, 1082, 385, 32, 128, 259, 1082],\n",
              " [1198, 792, 1, 163, 628, 1132, 1, 358],\n",
              " [2, 1, 4823, 2, 970, 1, 21, 57, 573],\n",
              " [1177, 7, 259, 30, 1, 97, 4],\n",
              " [905, 1, 65, 11993, 548, 663],\n",
              " [2, 352, 53, 137, 327, 7577, 352, 1870, 54, 1, 25, 7988],\n",
              " [2, 209, 180, 12613, 1738, 293, 1],\n",
              " [2075, 720, 1, 882, 56, 2191, 1, 3811, 1250, 54],\n",
              " [1, 186, 490, 6, 49, 28, 10099, 43],\n",
              " [29, 1568, 230, 83, 17, 3],\n",
              " [831, 132, 1],\n",
              " [2, 2538, 128, 40, 776, 5632, 379, 705, 438, 1246, 1055, 121],\n",
              " [13874, 1, 18, 687, 123, 2929],\n",
              " [740, 81, 5, 44, 738, 713, 24, 7, 119],\n",
              " [5],\n",
              " [3, 32, 162, 3, 399, 1220],\n",
              " [2112, 2, 1, 4, 505, 1102, 107, 8, 6],\n",
              " [10, 69, 932, 1, 55, 1109, 13673, 2934],\n",
              " [1190,\n",
              "  857,\n",
              "  122,\n",
              "  290,\n",
              "  631,\n",
              "  351,\n",
              "  25,\n",
              "  1505,\n",
              "  2622,\n",
              "  53,\n",
              "  16,\n",
              "  176,\n",
              "  1078,\n",
              "  388,\n",
              "  657,\n",
              "  2651],\n",
              " [711, 7670, 303, 100, 3583, 1053, 7420, 7714],\n",
              " [2, 118, 1, 41, 300, 581, 76, 71],\n",
              " [164, 10, 25, 84],\n",
              " [2, 3, 29, 944, 352],\n",
              " [385, 446, 1, 6, 543, 14, 148, 29],\n",
              " [479, 98],\n",
              " [17, 1, 104, 11, 61, 11],\n",
              " [223, 48, 96, 5232, 3, 5890],\n",
              " [2, 2, 3, 322],\n",
              " [2, 293, 149, 34, 293, 149, 4299, 983, 81, 127, 306],\n",
              " [356, 1, 4, 80, 1894, 6, 139],\n",
              " [3, 58, 1465, 141],\n",
              " [113, 239, 156, 291, 111, 2957, 37, 595, 11024, 1409],\n",
              " [8587, 894, 37, 51, 115, 233, 93, 644, 1801, 114, 1908, 341],\n",
              " [2072, 3, 563],\n",
              " [2, 1, 721, 147, 4],\n",
              " [2, 237, 50, 2, 22, 245, 79, 39, 2, 1],\n",
              " [1, 113, 15, 186, 312],\n",
              " [1, 615],\n",
              " [7, 268, 233, 1016],\n",
              " [8207, 8, 6159, 5],\n",
              " [200, 167],\n",
              " [3617, 274, 27, 4, 1, 1637, 4502],\n",
              " [221, 541, 1132, 82, 5, 17, 1009, 257, 733],\n",
              " [197, 145, 106, 67, 26, 27, 4, 261, 12, 1241, 63, 39, 309],\n",
              " [380, 5039, 63, 3734, 2131, 72],\n",
              " [1989, 1],\n",
              " [38, 1838, 69, 1073, 48, 4232, 4538, 1209, 151, 5],\n",
              " [78, 105, 14588, 1, 105],\n",
              " [2, 46, 9, 1428, 42, 30, 1, 2825, 936, 645, 91, 26, 521],\n",
              " [2632, 166, 241, 2819, 984, 860, 8, 14336, 5],\n",
              " [5953, 3],\n",
              " [366, 260, 12251],\n",
              " [228, 5276, 84, 2821],\n",
              " [56, 1, 1],\n",
              " [15, 61, 24, 863, 8, 3697, 62],\n",
              " [3792, 1230, 230, 1],\n",
              " [901, 179, 529],\n",
              " [1, 111, 105, 942],\n",
              " [1062, 3, 736],\n",
              " [2, 1840, 1, 245, 7, 1644, 1, 338, 574, 24],\n",
              " [14, 5015, 3, 1764, 19],\n",
              " [22, 1310, 1, 1779, 1310, 1779, 13],\n",
              " [2, 99, 444, 169, 5, 19, 287, 4331, 169, 1054, 11, 6987, 354, 42, 340],\n",
              " [2, 10, 187, 328, 8231, 4, 645, 62],\n",
              " [3, 9, 1004],\n",
              " [220, 1805, 1, 8999, 384, 755, 1],\n",
              " [2, 488, 46, 4, 436, 3, 318, 16, 3310, 2099],\n",
              " [41, 3392, 3393, 1],\n",
              " [37, 1, 553, 626, 299, 112, 52, 9],\n",
              " [1050, 2226, 193, 186, 3, 241],\n",
              " [133, 2606, 510, 597, 117, 4326, 1148, 3749, 6307],\n",
              " [7, 205, 3],\n",
              " [54, 1, 14, 94, 189],\n",
              " [221, 68, 5, 343, 6, 94, 44, 468],\n",
              " [1114, 4382, 3, 13],\n",
              " [2, 214, 5],\n",
              " [826, 193, 133, 152, 1, 4923, 9, 10783, 505, 505, 41],\n",
              " [2403, 7, 3, 191, 9682, 567],\n",
              " [296, 320, 7, 3],\n",
              " [2318, 4, 261, 1],\n",
              " [221, 999, 326, 72, 255, 1121, 3930, 603, 3, 47, 6, 5507, 1563],\n",
              " [59, 1],\n",
              " [200, 799, 1, 9, 38, 11, 1485],\n",
              " [2, 14, 216],\n",
              " [314, 504, 2011, 154, 383],\n",
              " [2, 116, 2269, 11344, 8631, 823, 290, 3406, 75, 142, 1482, 1],\n",
              " [14927, 62],\n",
              " [715, 61, 1, 7, 17, 19, 19, 17, 411, 101],\n",
              " [72, 392, 2705, 371, 187, 181, 2140, 41, 1, 280, 66],\n",
              " [1140, 135, 1, 79, 39],\n",
              " [498, 1, 158, 9],\n",
              " [2, 114, 271, 10383, 15, 574, 1324, 12, 47, 452, 322, 408, 13893],\n",
              " [40, 1, 29, 7, 889, 58, 180, 67, 1662, 11, 161, 265, 457, 7, 2426],\n",
              " [2, 146, 1, 12397, 27, 21, 266, 160, 1752, 4, 978],\n",
              " [213, 1, 2004],\n",
              " [120, 1, 65, 43],\n",
              " [1838, 59, 3, 316, 356, 208, 607, 652, 3],\n",
              " [2046, 138, 3, 54],\n",
              " [10, 1, 6, 11, 67, 1742, 38],\n",
              " [133, 1247, 1, 14, 64, 11],\n",
              " [307, 691, 1453, 1],\n",
              " [66, 171, 1187, 11, 863, 25, 747, 1720, 509, 267, 11, 164, 1],\n",
              " [19, 1569, 59, 60, 1345, 7, 310, 134, 530, 1, 111, 103, 43],\n",
              " [320, 33, 269, 5, 7, 2247],\n",
              " [388, 1, 80],\n",
              " [5],\n",
              " [2, 1291, 1],\n",
              " [9175, 146, 6, 3478, 55, 2364, 4, 85, 1, 708, 4],\n",
              " [667, 9791, 5076, 415, 234, 433, 2029, 6566, 4102],\n",
              " [156, 42, 156, 2087],\n",
              " [2, 115, 577, 827, 8043, 114, 245, 531, 612],\n",
              " [2, 3527, 53, 1, 5900, 1148, 99, 91, 43],\n",
              " [679, 13, 126, 62, 126],\n",
              " [8, 263, 144],\n",
              " [2, 2051, 61, 1064, 418, 232, 328, 71, 664, 8, 129, 202, 499],\n",
              " [2, 901, 230, 2913, 8557],\n",
              " [56, 1],\n",
              " [50, 2, 825, 1085, 21, 52, 990, 1148, 600, 1852, 465],\n",
              " [137, 1, 568],\n",
              " [19, 29, 4, 4349, 85, 4, 1, 3338, 1927, 4, 506, 3536, 3824, 10],\n",
              " [3705, 536, 2606, 2642, 17, 99, 393, 3],\n",
              " [1, 419],\n",
              " [2, 690, 11, 9, 51, 12, 18, 2119],\n",
              " [283, 23],\n",
              " [63, 84, 33, 4833, 21, 337, 99],\n",
              " [7, 18, 779, 93, 370, 1215, 151, 17],\n",
              " [1],\n",
              " [213, 3224, 3, 69, 721, 10218],\n",
              " [127, 423, 1, 268, 3272],\n",
              " [2, 130, 4, 183, 566, 476, 3632, 101, 1863, 599, 3459, 10742, 1],\n",
              " [18, 30, 1, 94, 238, 2053, 48, 11, 21, 52, 446],\n",
              " [4455, 731, 9, 103, 172, 121, 6134],\n",
              " [4, 272, 53, 173, 72, 14],\n",
              " [2, 7, 158, 728, 579, 1, 48, 2330],\n",
              " [116, 140, 250, 140],\n",
              " [10, 35, 35, 1, 4511, 10, 384, 11, 537, 36, 585, 1739, 4251],\n",
              " [1603, 267, 673, 12, 3953, 9, 11497, 148, 1404, 217, 1355, 383],\n",
              " [41, 90, 331, 1],\n",
              " [594, 1, 357, 611, 2420],\n",
              " [2, 2, 885, 146, 240, 261, 12],\n",
              " [68, 76, 2029, 1, 240, 16, 288, 206],\n",
              " [2, 129, 6, 7547, 95, 2, 256, 2, 1934, 8718, 3069],\n",
              " [8258, 28, 941, 12, 2, 1778, 3450, 2, 1710, 372, 1524, 8258],\n",
              " [109, 3, 7600, 249, 1589, 19, 64],\n",
              " [657, 1924, 1231, 180, 79, 2429, 961, 79, 23, 3021],\n",
              " [2, 467, 225, 789, 261, 45],\n",
              " [7, 3, 549, 1686, 256],\n",
              " [1111, 3679, 1, 382],\n",
              " [698, 6225, 18, 23],\n",
              " [842, 31, 10, 3, 306, 27],\n",
              " [2, 1, 1412, 987, 32, 59, 2026, 78, 1498, 230, 1385, 270, 4, 941, 1461],\n",
              " [2, 105, 461, 4, 2122, 3854, 24, 1, 4, 3134, 13532],\n",
              " [2, 410, 1, 2103, 1],\n",
              " [210, 345, 541, 6792, 999, 326, 1],\n",
              " [1449, 959, 193, 34, 439],\n",
              " [2, 1479, 565, 596, 1340, 1223, 23, 2095, 16, 4291, 351, 950, 1761],\n",
              " [252, 289, 741, 1, 13],\n",
              " [383, 115, 12011, 152],\n",
              " [182, 8730, 603, 344, 4, 25, 167],\n",
              " [25, 110, 216],\n",
              " [544, 3164, 302, 111, 1558, 5718, 2685, 55, 67, 343, 16, 1, 3459],\n",
              " [2, 728, 2783, 3, 5158, 2783, 1, 5158, 9, 2533, 286, 1548, 5158],\n",
              " [2, 12885, 2809, 832, 1],\n",
              " [3, 451],\n",
              " [2, 37, 2099, 654, 2625, 986, 132, 25, 95],\n",
              " [1473, 75, 1890],\n",
              " [15, 1],\n",
              " [2, 1, 4, 580, 85, 412, 3, 2499, 35],\n",
              " [50, 48, 11, 54, 1, 107, 10, 129],\n",
              " [5559, 15, 1125, 11336, 200, 2, 2563, 653, 761, 360, 123, 3],\n",
              " [33,\n",
              "  4,\n",
              "  4100,\n",
              "  515,\n",
              "  135,\n",
              "  108,\n",
              "  110,\n",
              "  202,\n",
              "  62,\n",
              "  1489,\n",
              "  95,\n",
              "  1521,\n",
              "  239,\n",
              "  1201,\n",
              "  13094,\n",
              "  77],\n",
              " [353, 5674, 459, 294, 383, 9621, 289, 11726, 4711, 97, 101, 1],\n",
              " [2, 1287, 1350, 84],\n",
              " [1945, 288, 462, 474, 1507, 945, 5692, 4, 3931, 424, 443],\n",
              " [14, 53, 230, 13636, 6303, 2247, 232, 302, 86, 1043],\n",
              " [2, 12935, 424, 27, 4, 12, 46, 28],\n",
              " [239, 924, 69, 3436, 26, 126, 1500, 159, 183, 51, 33, 4],\n",
              " [619, 196],\n",
              " [2, 99, 72, 135, 144, 1, 482, 1086, 1086, 187, 44, 72, 35, 1194, 4, 10],\n",
              " [13, 95],\n",
              " [80, 38, 273, 587, 1],\n",
              " [243, 1, 18, 1501, 318, 320, 144, 119, 163, 1501, 144, 6, 150],\n",
              " [424, 517, 231, 394, 11, 394, 6],\n",
              " [177, 4, 3, 375, 180, 247, 922, 13],\n",
              " [253, 1170, 542],\n",
              " [2, 1, 614, 106, 2652],\n",
              " [2, 18, 1669, 3],\n",
              " [2, 393, 93, 1101],\n",
              " [51, 12, 323],\n",
              " [184, 29, 13711, 33, 1403, 34, 407, 43, 66, 112, 45, 4577],\n",
              " [59, 13094, 1959, 8, 216],\n",
              " [19, 205, 3, 91, 148, 29, 61, 31, 342, 17, 1286, 10, 480, 43],\n",
              " [5],\n",
              " [1, 1084, 151, 399, 9, 10, 710],\n",
              " [94, 14, 473, 665, 34, 8, 3320, 355, 2329],\n",
              " [1043, 8251, 7848, 2, 36, 295, 2, 166, 1987, 3, 1781],\n",
              " [17, 3, 8987, 2287],\n",
              " [14620, 1910, 753, 860, 16, 25, 4211, 1438, 950],\n",
              " [2, 111, 858, 3],\n",
              " [1],\n",
              " [2, 1, 734, 505, 54, 4, 2783, 800, 3],\n",
              " [2062, 2021, 2288],\n",
              " [2, 6, 2017, 4635, 8, 124, 576, 89, 800, 476, 447, 3351, 3],\n",
              " [550, 10160, 57, 272, 235],\n",
              " [1, 359, 4266, 732],\n",
              " [27, 1, 1712, 38, 2898, 1],\n",
              " [2, 1750, 57, 560, 10094, 1],\n",
              " [41, 37, 57, 146, 1221, 26, 27, 85, 4, 1, 10],\n",
              " [2855, 4300, 152, 1161],\n",
              " [252, 99, 151, 144, 77],\n",
              " [2, 15, 510, 1, 35, 7, 8, 877],\n",
              " [2, 1560, 74, 266, 17, 97, 33, 266, 7369, 1, 322, 5221],\n",
              " [394, 2, 3, 18, 1558, 3315, 1296, 25],\n",
              " [41, 3911, 305, 8, 3],\n",
              " [982, 456],\n",
              " [4, 1, 151, 399],\n",
              " [152, 8024, 753, 48, 8, 225],\n",
              " [2, 19, 34, 29, 5, 11, 4, 209],\n",
              " [689, 2, 3, 1680, 713, 3379, 659, 477],\n",
              " [1526, 5, 4, 4828],\n",
              " [2, 18, 416, 3, 517],\n",
              " [2, 1510, 20, 89, 11, 387, 220, 1, 9, 103, 119, 2029, 193, 206],\n",
              " [724, 77, 5106, 5628, 396, 449, 14, 1019, 67, 162, 10623],\n",
              " [3100, 5, 9, 47],\n",
              " [53, 9, 2307, 5],\n",
              " [133, 36, 104, 1, 286, 416, 12720, 54],\n",
              " [89, 21, 148, 135, 254, 3],\n",
              " [13, 11693, 232, 309, 71, 47],\n",
              " [1155, 4195, 1293, 53, 88, 1, 14, 1155, 5940],\n",
              " [2, 1, 175, 131, 46, 14],\n",
              " [4, 2472, 201, 2584, 12659, 1, 78],\n",
              " [271, 1143, 885],\n",
              " [6784,\n",
              "  130,\n",
              "  158,\n",
              "  944,\n",
              "  121,\n",
              "  944,\n",
              "  121,\n",
              "  1628,\n",
              "  20,\n",
              "  492,\n",
              "  298,\n",
              "  4,\n",
              "  944,\n",
              "  121,\n",
              "  944,\n",
              "  121],\n",
              " [164, 34, 8, 496, 5],\n",
              " [1, 1521, 11],\n",
              " [5, 1699, 2818, 4, 188, 576, 1360, 80],\n",
              " [2, 63, 110, 8, 1, 25],\n",
              " [252, 1903, 165, 62, 531, 612, 1605, 1591, 2723, 941, 1151],\n",
              " [117, 2145, 8, 1, 50],\n",
              " [408, 2457, 4823, 103, 537, 1, 5, 1447],\n",
              " [2, 106, 109, 19, 10134, 901, 3422, 3190, 6122, 43, 43, 3994, 1335, 73],\n",
              " [856, 28, 71, 1, 11463],\n",
              " [2, 3296, 40, 76, 9, 78, 7, 7994, 7, 3, 76],\n",
              " [1190, 145, 2126, 131, 1, 16, 111, 5411, 3006, 739],\n",
              " [2, 410, 138, 417, 270, 638, 627],\n",
              " [2, 189, 2, 155, 209, 141, 118, 589, 1, 218],\n",
              " [3,\n",
              "  165,\n",
              "  16,\n",
              "  4017,\n",
              "  205,\n",
              "  267,\n",
              "  8,\n",
              "  369,\n",
              "  345,\n",
              "  42,\n",
              "  9203,\n",
              "  178,\n",
              "  152,\n",
              "  399,\n",
              "  601,\n",
              "  178,\n",
              "  755],\n",
              " [224, 169, 9, 710, 349, 5583, 1732],\n",
              " [395, 94, 58, 1, 116, 8, 1330, 53, 173, 126],\n",
              " [1, 15, 260],\n",
              " [856, 2007, 2042, 4, 1, 24, 1622, 24, 562, 856, 421],\n",
              " [8632, 1, 8632],\n",
              " [1, 223, 107, 22, 132, 411, 171, 164, 11],\n",
              " [56, 5],\n",
              " [2, 272],\n",
              " [1, 82, 38, 5, 45, 231, 7, 66],\n",
              " [31, 59, 344, 4, 34, 20, 285],\n",
              " [2, 1625, 2002, 1961, 730, 1],\n",
              " [2, 101, 1, 396, 493, 1, 309, 174, 94, 123],\n",
              " [2, 1979, 615, 45, 13580, 2000, 10902, 216, 194],\n",
              " [2, 3, 45, 4],\n",
              " [110, 1],\n",
              " [506, 1, 255, 3477],\n",
              " [11153, 7693, 121, 2032, 708],\n",
              " [2, 606, 1],\n",
              " [239, 82, 5],\n",
              " [86, 1183, 101, 1813, 282, 1388, 99, 490, 3872, 411],\n",
              " [4, 223, 1, 1084],\n",
              " [1106, 261, 270, 1],\n",
              " [168, 63, 1, 128, 130, 1067, 102, 1051, 239, 647],\n",
              " [11, 13, 14, 78, 1, 411, 68, 17],\n",
              " [2, 624, 2260, 561, 625, 145, 487],\n",
              " [700, 564, 2588, 8788, 239, 1, 66],\n",
              " [2306, 170, 4, 977, 233, 1056, 5634, 712, 75, 1004, 165],\n",
              " [2, 3, 214, 6, 1072, 19, 39, 178],\n",
              " [10, 47, 5],\n",
              " [4261, 3, 2315, 19, 5861, 2359, 506, 251, 482, 2955, 1128, 5862, 219],\n",
              " [2, 1, 554, 626, 680, 236],\n",
              " [2, 765, 3652, 1950, 14, 2606, 1, 1090, 106, 60, 738],\n",
              " [2, 95, 435, 1565, 468, 266, 248],\n",
              " [2, 127, 3, 2614, 169],\n",
              " [2, 112, 1, 112, 2, 2226, 115, 4278, 15, 2762],\n",
              " [102, 859, 12, 257, 645, 147],\n",
              " [2, 1, 1635, 280, 585, 1, 1635, 8919, 65, 908],\n",
              " [10, 25, 210, 236, 349, 104, 200, 10, 1],\n",
              " [44, 98, 178, 111, 274, 731, 4, 8, 44, 240, 312, 10, 1],\n",
              " [1, 431, 3595, 97],\n",
              " [270, 421, 8, 239, 3, 44, 7, 78, 52, 405, 178],\n",
              " [2, 359, 1, 4, 69, 374, 4],\n",
              " [2, 1, 50, 46, 29, 360, 54, 21, 446],\n",
              " [1726, 124, 563, 124, 215, 3, 1879, 524, 2503, 250, 75, 7, 2153, 11135],\n",
              " [281, 34, 195, 129, 129, 129],\n",
              " [437, 105, 216, 47],\n",
              " [130, 1],\n",
              " [1, 8, 3, 8, 6, 186, 9, 5],\n",
              " [2, 56, 89, 1, 9],\n",
              " [2, 113, 10, 936, 67, 82, 5, 9594, 2996, 4708],\n",
              " [2, 3, 22, 127, 755, 155, 171, 11, 32],\n",
              " [47, 3, 214],\n",
              " [42, 174, 90, 8, 115, 1],\n",
              " [12,\n",
              "  2,\n",
              "  1266,\n",
              "  48,\n",
              "  540,\n",
              "  431,\n",
              "  71,\n",
              "  3272,\n",
              "  4,\n",
              "  341,\n",
              "  2,\n",
              "  2,\n",
              "  55,\n",
              "  1260,\n",
              "  341,\n",
              "  240,\n",
              "  6,\n",
              "  138],\n",
              " [103, 72, 266, 581, 3, 55, 24, 109, 278, 288, 917, 678, 137, 872, 129],\n",
              " [2, 338, 3, 8, 6, 163, 19, 333, 35, 6],\n",
              " [1, 382],\n",
              " [4, 3, 328, 58, 45, 194, 328],\n",
              " [410, 394, 2, 2, 2196, 683, 405],\n",
              " [1, 26, 1052, 5, 2951, 1150, 348, 4034, 773, 818, 1653],\n",
              " [284, 314, 25, 77],\n",
              " [335, 30, 3],\n",
              " [73, 44, 336, 257, 99, 1292, 101, 73, 747],\n",
              " [109, 138, 91, 35, 250, 140, 211, 55],\n",
              " [2, 2493, 910, 3, 479, 14647],\n",
              " [15, 211, 444, 1, 14661],\n",
              " [1],\n",
              " [2, 2014, 682, 1084, 1, 94, 3, 235, 118, 665],\n",
              " [1426, 1010, 941, 3252, 8, 1],\n",
              " [240, 414, 7, 126, 881, 12],\n",
              " [1, 32, 176, 1207, 388],\n",
              " [7, 8, 1, 7, 1135, 1, 7, 2457, 1, 419, 1, 30, 103, 254],\n",
              " [2, 202, 202, 3, 421, 549, 478, 364, 277, 475, 185, 294, 37, 671],\n",
              " [2, 120, 56, 2285, 5443, 12, 64, 2642, 941],\n",
              " [26, 51, 12, 869, 1406],\n",
              " [244, 1, 551],\n",
              " [60, 235, 90, 234, 580, 90, 84],\n",
              " [2, 684, 1271, 1, 5216],\n",
              " [412, 127, 183, 51, 12],\n",
              " [17, 103, 5, 149, 4410],\n",
              " [1190, 2257, 2061, 8085, 8086, 2308, 1395, 12, 5046],\n",
              " [2, 345, 52, 242, 1840, 1, 536, 5248, 10],\n",
              " [2, 42, 17, 9281, 96, 2432, 5],\n",
              " [434, 3, 792, 1024],\n",
              " [113, 1738, 2500, 5, 8, 1227],\n",
              " [164, 1, 6],\n",
              " [954, 412, 31, 2, 24, 14, 2, 422, 197, 13, 2, 432, 23, 809],\n",
              " [2, 114, 61, 1, 189],\n",
              " [18, 296, 1340, 2687, 14937, 545, 4846, 2907],\n",
              " [1656, 42, 315, 2178, 89, 314, 1772, 144, 4, 1, 3, 482, 155, 129],\n",
              " [982, 1997, 827, 254, 77, 655, 16, 2012],\n",
              " [1],\n",
              " [2, 1, 351, 1148],\n",
              " [200, 18, 227],\n",
              " [168, 1],\n",
              " [2, 5, 8, 6],\n",
              " [4, 1],\n",
              " [2, 498, 1, 6],\n",
              " [226, 84],\n",
              " [11192, 1],\n",
              " [17, 1133, 1, 247, 6],\n",
              " [12741, 3734, 1673, 2996, 6365, 14053, 505, 2973, 1144, 160, 497, 2066],\n",
              " [6104, 550, 56, 722, 1080, 242, 355, 1008, 939, 1, 27, 3209],\n",
              " [2390, 163, 1],\n",
              " [1518, 52, 151, 97, 261, 20, 34, 317, 597, 202, 52, 959],\n",
              " [21, 990, 37, 68, 495, 351, 691, 4, 382, 1],\n",
              " [3237, 1, 42],\n",
              " [2, 35, 283, 3, 5162, 2802, 3158, 4125, 3982],\n",
              " [2468, 1, 112, 14997, 87, 9, 12362, 1668, 7823, 1107],\n",
              " [2, 5, 44, 176, 244],\n",
              " [1],\n",
              " [2, 267, 22, 1, 271],\n",
              " [2676, 5, 8207, 998, 3419, 4758, 366, 8, 103],\n",
              " [30, 1619, 1982, 65, 159, 838],\n",
              " [300, 257, 5],\n",
              " [99, 7, 556, 270, 393, 388, 3515, 151, 97, 1, 49, 10065],\n",
              " [2, 1, 376, 4803, 112, 18, 4803],\n",
              " [235, 156, 5778],\n",
              " [2, 27, 4, 117, 376, 12, 426],\n",
              " [2, 2250, 6, 14, 82, 5],\n",
              " [2, 12240, 7, 85, 3, 113, 12241, 540, 1416, 274, 87, 2030],\n",
              " [46, 14, 19, 26, 196],\n",
              " [4817, 7393, 1018, 8409, 1, 500],\n",
              " [25, 496, 968, 25, 2146, 491, 1417, 168, 25, 379, 8, 5, 3718],\n",
              " [84],\n",
              " [432, 23, 9, 846],\n",
              " [2, 13, 137, 1246, 805, 1],\n",
              " [252, 8305, 1940, 2433, 4, 10, 1, 2117],\n",
              " [2, 12093, 889, 620, 12, 13, 5706],\n",
              " [7, 177, 858, 692, 7, 2141, 1],\n",
              " [171, 1, 842, 2254, 1],\n",
              " [45, 1, 6304, 338],\n",
              " [552, 3830, 5004],\n",
              " [1, 513, 66, 150, 18, 66, 150, 565, 66, 150, 14536, 66, 150],\n",
              " [2, 36, 4300, 263, 7313, 154],\n",
              " [2, 668, 774, 14689, 217, 489, 3417, 1923, 253],\n",
              " [59, 2073, 70, 311, 3063],\n",
              " [2, 1231, 217, 40, 1, 181, 2235],\n",
              " [526, 397, 22, 276, 3445, 1],\n",
              " [2, 345, 102, 1127, 1],\n",
              " [1, 5093],\n",
              " [496, 924, 69, 1, 1192, 71, 11, 11, 1137, 119, 2253, 1592, 1031, 1],\n",
              " [10, 258, 1182, 64, 236, 455, 64],\n",
              " [2, 9, 3, 32, 193, 5041, 514, 8, 724, 64, 28, 86],\n",
              " [66, 1, 3, 431, 29],\n",
              " [410, 473, 1790, 1790, 5, 1107],\n",
              " [2, 1, 7, 1051, 998, 551],\n",
              " [2, 19, 2900, 2142, 3],\n",
              " [2, 908, 662, 2, 908, 5438, 618, 1096, 9197, 1101, 12, 1364],\n",
              " [195, 147, 2968, 107, 3],\n",
              " [74, 10, 2621, 2278, 216, 6742],\n",
              " [2, 6, 45, 300, 1695, 9, 5],\n",
              " [675, 2127, 87, 93, 17],\n",
              " [12, 2896, 10, 53, 2560, 3403],\n",
              " [2, 2303, 92, 20, 348],\n",
              " [1539, 14703, 274, 6012, 3514, 1, 17, 17, 1660, 1276, 60, 2097],\n",
              " [2, 442, 1, 91, 14, 182, 120, 48, 6, 4, 442, 1, 69, 9, 1699, 71, 251, 1447],\n",
              " [2, 517, 26, 5160, 973, 1616, 1, 120],\n",
              " [4, 2122, 1],\n",
              " [320, 4, 1, 64, 1],\n",
              " [195, 489, 62, 7582, 14079, 161, 1024, 690, 22],\n",
              " [3, 201, 1139, 26, 2669, 14, 1628],\n",
              " [6, 1, 151, 399],\n",
              " [199, 3],\n",
              " [10, 19, 350, 1037],\n",
              " [1, 915, 261, 12722, 172, 882, 3689, 52, 33, 36, 3689],\n",
              " [250, 75, 502, 229, 9, 78, 10, 3],\n",
              " [2, 41, 553, 148, 226, 29, 114, 289, 2105, 4, 1, 358, 490],\n",
              " [232, 14, 1107, 68, 7, 5230, 5228, 5229],\n",
              " [2, 30, 156],\n",
              " [10212, 11283, 7, 730, 2400, 5, 13],\n",
              " [168, 3037, 2931, 248, 5093, 5096, 248, 581, 472, 21, 228, 42, 906, 13],\n",
              " [140, 71, 213, 1, 757, 86, 177],\n",
              " [186, 41, 52, 27, 51, 3776, 51, 227, 699, 216],\n",
              " [14, 1, 1],\n",
              " [378, 36, 475, 125, 130, 1128, 5526, 1, 254, 4363],\n",
              " [1, 10, 5119, 429, 9, 502],\n",
              " [449, 274, 12, 1920, 114, 222, 13],\n",
              " [2, 3143, 6067, 1234, 101, 316, 101, 1388],\n",
              " [133, 12, 29, 12, 22, 111, 1057, 740, 12, 7, 1203],\n",
              " [168, 1, 8, 1017],\n",
              " [2, 7, 60, 1351, 1, 55, 1246, 8, 58, 860, 2321, 1046, 3740],\n",
              " [12, 2, 7, 9075, 13],\n",
              " [1240, 1, 716],\n",
              " [2, 5218, 234, 6542, 429, 12084, 3008, 1076, 12, 64, 1572, 5998, 350],\n",
              " [187, 41, 333, 4, 34, 905, 8, 3],\n",
              " [1, 2920, 1074],\n",
              " [2, 2, 40, 1, 949, 1021, 17, 39, 413],\n",
              " [38, 136, 1, 7, 15, 1228, 242, 869, 1471, 1309, 61, 1188],\n",
              " [2, 24, 1, 25, 78, 1061, 6, 78, 10],\n",
              " [2, 1403, 1, 20, 347, 347],\n",
              " [5, 16],\n",
              " [905, 5, 8, 1, 127, 369, 199, 14, 14, 101, 19, 94, 1],\n",
              " [2, 984, 5, 4, 124, 2738, 1322, 4, 463],\n",
              " [2, 348, 77, 248, 112],\n",
              " [2, 1, 95, 2, 315, 1166, 350, 960],\n",
              " [278, 367, 5, 4],\n",
              " [450, 81, 3],\n",
              " [162, 1036, 457, 301, 3],\n",
              " [2, 2, 6042, 89, 282, 5, 326, 2321, 51, 19, 58, 860, 115],\n",
              " [13, 195, 126, 202, 34, 10, 1838, 9, 1, 8, 6],\n",
              " [261, 4, 1, 2355, 2044, 2826, 45, 6],\n",
              " [164, 23, 363, 39],\n",
              " [321, 309],\n",
              " [164, 24, 83, 106, 83, 420, 8, 1],\n",
              " [178, 37, 29, 1, 6, 2438, 761],\n",
              " [1428, 477, 16, 1482, 16, 1531, 1, 1274],\n",
              " [1189, 108, 16, 51, 2, 37, 95, 13, 2, 46, 35, 1189, 108, 54, 68, 343],\n",
              " [2, 19, 1408, 255, 100, 266, 372, 414, 424, 255, 110, 377],\n",
              " [2, 1, 72, 9, 6634, 103],\n",
              " [2, 1, 104],\n",
              " [296, 35, 1, 30, 11976],\n",
              " [394, 156, 4, 3544, 161, 456, 245, 11, 39, 2138, 1147],\n",
              " [4, 1, 1710, 235, 2082, 40, 37, 9],\n",
              " [63, 1, 8],\n",
              " [4573, 437, 1, 27, 87],\n",
              " [2, 2151, 1163, 6, 1546, 981, 76, 1311, 6, 60, 93, 37],\n",
              " [2, 183, 132, 33, 26, 210, 3, 214],\n",
              " [2, 380, 4039, 22, 141, 472, 72, 308, 1],\n",
              " [209, 185, 322, 411, 1],\n",
              " [3, 1311, 1384, 76, 1384, 9, 2151, 15],\n",
              " [2615, 34, 2, 288],\n",
              " [297, 1, 439],\n",
              " [243, 336, 5, 8, 105],\n",
              " [286, 28, 5],\n",
              " [5028, 971, 1],\n",
              " [141, 558, 782, 2838, 685, 533, 270, 1038, 1191],\n",
              " [2, 10646, 5],\n",
              " [954, 354, 3, 1064, 465],\n",
              " [27, 2462, 92, 13],\n",
              " [218, 1684, 73, 2912],\n",
              " [5800, 5800, 3, 51, 539, 502, 159],\n",
              " [72, 68, 5, 257, 111, 744, 887],\n",
              " [3],\n",
              " [335, 83, 118, 118, 541, 1330, 17, 193, 3084, 118, 71, 13],\n",
              " [59, 3915, 11, 143, 36, 211, 82, 1668, 602, 107, 1],\n",
              " [1, 11904],\n",
              " [775, 1],\n",
              " [105, 473, 537, 10, 79, 39, 148, 13, 1714, 99],\n",
              " [597],\n",
              " [2, 182, 57, 3136, 388, 12],\n",
              " [77],\n",
              " [73, 557, 54, 113],\n",
              " [2, 57, 1, 161, 1],\n",
              " [149, 557, 5965, 79, 17, 73, 124],\n",
              " [107, 1, 25],\n",
              " [776, 416, 3],\n",
              " [20, 3685, 34],\n",
              " [1069, 1],\n",
              " [122, 11, 35, 65, 626, 160],\n",
              " [1606, 164, 1123, 16, 13318, 912, 4, 28, 12955, 156],\n",
              " [2, 83, 4577, 9604, 398, 1115, 1373, 12],\n",
              " [410, 99, 1628, 4, 5, 585, 259, 315],\n",
              " [299, 821, 2736, 250],\n",
              " [50, 9434, 27, 4, 60, 895, 1, 111, 390],\n",
              " [393, 9023, 107, 1, 1217, 169, 271],\n",
              " [164, 34, 17, 185],\n",
              " [2, 376, 598, 310, 530, 1130, 38, 7598, 3, 7598, 3],\n",
              " [63, 479],\n",
              " ...]"
            ]
          },
          "metadata": {},
          "execution_count": 20
        }
      ]
    },
    {
      "cell_type": "markdown",
      "source": [
        "**Padding**"
      ],
      "metadata": {
        "id": "wtg3RSE6NIqP"
      }
    },
    {
      "cell_type": "markdown",
      "source": [
        "Padding ensures that all sequences (lists of numbers) are of the same length, which is required by neural networks like RNNs and LSTMs.\n",
        "\n",
        "So we make all sequences the same length by adding zeros (0) at the end."
      ],
      "metadata": {
        "id": "Rw_gdtzi_dET"
      }
    },
    {
      "cell_type": "code",
      "source": [
        "from keras.preprocessing.sequence import pad_sequences\n",
        "import numpy as np\n",
        "\n",
        "# Determine suitable max length (e.g., 95th percentile)\n",
        "lengths = [len(seq) for seq in X_train_seq]\n",
        "max_len = int(np.percentile(lengths, 95))\n",
        "\n",
        "X_train_pad = pad_sequences(X_train_seq, maxlen=max_len, padding='post')\n",
        "X_val_pad = pad_sequences(X_val_seq, maxlen=max_len, padding='post')\n",
        "X_test_pad = pad_sequences(X_test_seq, maxlen=max_len, padding='post')"
      ],
      "metadata": {
        "id": "cSPAAWkDNGHo"
      },
      "execution_count": 21,
      "outputs": []
    },
    {
      "cell_type": "code",
      "source": [
        "X_train_pad"
      ],
      "metadata": {
        "colab": {
          "base_uri": "https://localhost:8080/"
        },
        "id": "RSo2pWw9-LpZ",
        "outputId": "732358a9-aa80-46b3-c33e-ce47981a501f"
      },
      "execution_count": 22,
      "outputs": [
        {
          "output_type": "execute_result",
          "data": {
            "text/plain": [
              "array([[   2,  756,   51, ...,    0,    0,    0],\n",
              "       [  82, 2863,  606, ...,    0,    0,    0],\n",
              "       [ 317, 6346, 3410, ...,    0,    0,    0],\n",
              "       ...,\n",
              "       [   2,   21,  715, ...,    0,    0,    0],\n",
              "       [ 121,  121,  121, ...,    0,    0,    0],\n",
              "       [  19, 6335,  147, ...,  327,    0,    0]], dtype=int32)"
            ]
          },
          "metadata": {},
          "execution_count": 22
        }
      ]
    },
    {
      "cell_type": "markdown",
      "source": [
        "#  Model Building"
      ],
      "metadata": {
        "id": "5__DsHGAKhGq"
      }
    },
    {
      "cell_type": "markdown",
      "source": [
        "**Model 1: Simple RNN with Trainable Embedding**"
      ],
      "metadata": {
        "id": "1FShyk2TmYUM"
      }
    },
    {
      "cell_type": "code",
      "source": [
        "from keras.models import Sequential\n",
        "from keras.layers import Embedding, SimpleRNN, Dense\n",
        "\n",
        "vocab_size = len(tokenizer.word_index) + 1\n",
        "\n",
        "model1 = Sequential()\n",
        "model1.add(Embedding(input_dim=vocab_size, output_dim=64))  # removed input_length\n",
        "model1.add(SimpleRNN(64))\n",
        "model1.add(Dense(3, activation='softmax'))\n",
        "\n",
        "model1.compile(loss='sparse_categorical_crossentropy', optimizer='adam', metrics=['accuracy'])\n",
        "\n",
        "# Now force model to build (optional but helpful for summary)\n",
        "model1.build(input_shape=(None, X_train_pad.shape[1]))\n",
        "\n",
        "model1.summary()\n"
      ],
      "metadata": {
        "colab": {
          "base_uri": "https://localhost:8080/",
          "height": 234
        },
        "id": "N2BjWRoH-ODS",
        "outputId": "d55c1905-5322-44f5-ec93-016f3073ae16"
      },
      "execution_count": 23,
      "outputs": [
        {
          "output_type": "display_data",
          "data": {
            "text/plain": [
              "\u001b[1mModel: \"sequential\"\u001b[0m\n"
            ],
            "text/html": [
              "<pre style=\"white-space:pre;overflow-x:auto;line-height:normal;font-family:Menlo,'DejaVu Sans Mono',consolas,'Courier New',monospace\"><span style=\"font-weight: bold\">Model: \"sequential\"</span>\n",
              "</pre>\n"
            ]
          },
          "metadata": {}
        },
        {
          "output_type": "display_data",
          "data": {
            "text/plain": [
              "┏━━━━━━━━━━━━━━━━━━━━━━━━━━━━━━━━━┳━━━━━━━━━━━━━━━━━━━━━━━━┳━━━━━━━━━━━━━━━┓\n",
              "┃\u001b[1m \u001b[0m\u001b[1mLayer (type)                   \u001b[0m\u001b[1m \u001b[0m┃\u001b[1m \u001b[0m\u001b[1mOutput Shape          \u001b[0m\u001b[1m \u001b[0m┃\u001b[1m \u001b[0m\u001b[1m      Param #\u001b[0m\u001b[1m \u001b[0m┃\n",
              "┡━━━━━━━━━━━━━━━━━━━━━━━━━━━━━━━━━╇━━━━━━━━━━━━━━━━━━━━━━━━╇━━━━━━━━━━━━━━━┩\n",
              "│ embedding (\u001b[38;5;33mEmbedding\u001b[0m)           │ (\u001b[38;5;45mNone\u001b[0m, \u001b[38;5;34m14\u001b[0m, \u001b[38;5;34m64\u001b[0m)         │       \u001b[38;5;34m964,928\u001b[0m │\n",
              "├─────────────────────────────────┼────────────────────────┼───────────────┤\n",
              "│ simple_rnn (\u001b[38;5;33mSimpleRNN\u001b[0m)          │ (\u001b[38;5;45mNone\u001b[0m, \u001b[38;5;34m64\u001b[0m)             │         \u001b[38;5;34m8,256\u001b[0m │\n",
              "├─────────────────────────────────┼────────────────────────┼───────────────┤\n",
              "│ dense (\u001b[38;5;33mDense\u001b[0m)                   │ (\u001b[38;5;45mNone\u001b[0m, \u001b[38;5;34m3\u001b[0m)              │           \u001b[38;5;34m195\u001b[0m │\n",
              "└─────────────────────────────────┴────────────────────────┴───────────────┘\n"
            ],
            "text/html": [
              "<pre style=\"white-space:pre;overflow-x:auto;line-height:normal;font-family:Menlo,'DejaVu Sans Mono',consolas,'Courier New',monospace\">┏━━━━━━━━━━━━━━━━━━━━━━━━━━━━━━━━━┳━━━━━━━━━━━━━━━━━━━━━━━━┳━━━━━━━━━━━━━━━┓\n",
              "┃<span style=\"font-weight: bold\"> Layer (type)                    </span>┃<span style=\"font-weight: bold\"> Output Shape           </span>┃<span style=\"font-weight: bold\">       Param # </span>┃\n",
              "┡━━━━━━━━━━━━━━━━━━━━━━━━━━━━━━━━━╇━━━━━━━━━━━━━━━━━━━━━━━━╇━━━━━━━━━━━━━━━┩\n",
              "│ embedding (<span style=\"color: #0087ff; text-decoration-color: #0087ff\">Embedding</span>)           │ (<span style=\"color: #00d7ff; text-decoration-color: #00d7ff\">None</span>, <span style=\"color: #00af00; text-decoration-color: #00af00\">14</span>, <span style=\"color: #00af00; text-decoration-color: #00af00\">64</span>)         │       <span style=\"color: #00af00; text-decoration-color: #00af00\">964,928</span> │\n",
              "├─────────────────────────────────┼────────────────────────┼───────────────┤\n",
              "│ simple_rnn (<span style=\"color: #0087ff; text-decoration-color: #0087ff\">SimpleRNN</span>)          │ (<span style=\"color: #00d7ff; text-decoration-color: #00d7ff\">None</span>, <span style=\"color: #00af00; text-decoration-color: #00af00\">64</span>)             │         <span style=\"color: #00af00; text-decoration-color: #00af00\">8,256</span> │\n",
              "├─────────────────────────────────┼────────────────────────┼───────────────┤\n",
              "│ dense (<span style=\"color: #0087ff; text-decoration-color: #0087ff\">Dense</span>)                   │ (<span style=\"color: #00d7ff; text-decoration-color: #00d7ff\">None</span>, <span style=\"color: #00af00; text-decoration-color: #00af00\">3</span>)              │           <span style=\"color: #00af00; text-decoration-color: #00af00\">195</span> │\n",
              "└─────────────────────────────────┴────────────────────────┴───────────────┘\n",
              "</pre>\n"
            ]
          },
          "metadata": {}
        },
        {
          "output_type": "display_data",
          "data": {
            "text/plain": [
              "\u001b[1m Total params: \u001b[0m\u001b[38;5;34m973,379\u001b[0m (3.71 MB)\n"
            ],
            "text/html": [
              "<pre style=\"white-space:pre;overflow-x:auto;line-height:normal;font-family:Menlo,'DejaVu Sans Mono',consolas,'Courier New',monospace\"><span style=\"font-weight: bold\"> Total params: </span><span style=\"color: #00af00; text-decoration-color: #00af00\">973,379</span> (3.71 MB)\n",
              "</pre>\n"
            ]
          },
          "metadata": {}
        },
        {
          "output_type": "display_data",
          "data": {
            "text/plain": [
              "\u001b[1m Trainable params: \u001b[0m\u001b[38;5;34m973,379\u001b[0m (3.71 MB)\n"
            ],
            "text/html": [
              "<pre style=\"white-space:pre;overflow-x:auto;line-height:normal;font-family:Menlo,'DejaVu Sans Mono',consolas,'Courier New',monospace\"><span style=\"font-weight: bold\"> Trainable params: </span><span style=\"color: #00af00; text-decoration-color: #00af00\">973,379</span> (3.71 MB)\n",
              "</pre>\n"
            ]
          },
          "metadata": {}
        },
        {
          "output_type": "display_data",
          "data": {
            "text/plain": [
              "\u001b[1m Non-trainable params: \u001b[0m\u001b[38;5;34m0\u001b[0m (0.00 B)\n"
            ],
            "text/html": [
              "<pre style=\"white-space:pre;overflow-x:auto;line-height:normal;font-family:Menlo,'DejaVu Sans Mono',consolas,'Courier New',monospace\"><span style=\"font-weight: bold\"> Non-trainable params: </span><span style=\"color: #00af00; text-decoration-color: #00af00\">0</span> (0.00 B)\n",
              "</pre>\n"
            ]
          },
          "metadata": {}
        }
      ]
    },
    {
      "cell_type": "markdown",
      "source": [
        "**Model 2: LSTM with Trainable Embedding**"
      ],
      "metadata": {
        "id": "XjiyIQkSmw-n"
      }
    },
    {
      "cell_type": "code",
      "source": [
        "from keras.models import Sequential\n",
        "from keras.layers import Embedding, LSTM, Dense\n",
        "\n",
        "# Reuse your vocab_size\n",
        "model2 = Sequential()\n",
        "model2.add(Embedding(input_dim=vocab_size, output_dim=64))  # Removed input_length\n",
        "model2.add(LSTM(64))\n",
        "model2.add(Dense(3, activation='softmax'))\n",
        "\n",
        "model2.compile(loss='sparse_categorical_crossentropy', optimizer='adam', metrics=['accuracy'])\n",
        "\n",
        "# Force model to build (to see parameter count in summary)\n",
        "model2.build(input_shape=(None, X_train_pad.shape[1]))\n",
        "\n",
        "model2.summary()\n"
      ],
      "metadata": {
        "colab": {
          "base_uri": "https://localhost:8080/",
          "height": 234
        },
        "id": "If6FwummmuRw",
        "outputId": "2098f02d-de38-444a-a93a-26f2e40bbd4e"
      },
      "execution_count": 24,
      "outputs": [
        {
          "output_type": "display_data",
          "data": {
            "text/plain": [
              "\u001b[1mModel: \"sequential_1\"\u001b[0m\n"
            ],
            "text/html": [
              "<pre style=\"white-space:pre;overflow-x:auto;line-height:normal;font-family:Menlo,'DejaVu Sans Mono',consolas,'Courier New',monospace\"><span style=\"font-weight: bold\">Model: \"sequential_1\"</span>\n",
              "</pre>\n"
            ]
          },
          "metadata": {}
        },
        {
          "output_type": "display_data",
          "data": {
            "text/plain": [
              "┏━━━━━━━━━━━━━━━━━━━━━━━━━━━━━━━━━┳━━━━━━━━━━━━━━━━━━━━━━━━┳━━━━━━━━━━━━━━━┓\n",
              "┃\u001b[1m \u001b[0m\u001b[1mLayer (type)                   \u001b[0m\u001b[1m \u001b[0m┃\u001b[1m \u001b[0m\u001b[1mOutput Shape          \u001b[0m\u001b[1m \u001b[0m┃\u001b[1m \u001b[0m\u001b[1m      Param #\u001b[0m\u001b[1m \u001b[0m┃\n",
              "┡━━━━━━━━━━━━━━━━━━━━━━━━━━━━━━━━━╇━━━━━━━━━━━━━━━━━━━━━━━━╇━━━━━━━━━━━━━━━┩\n",
              "│ embedding_1 (\u001b[38;5;33mEmbedding\u001b[0m)         │ (\u001b[38;5;45mNone\u001b[0m, \u001b[38;5;34m14\u001b[0m, \u001b[38;5;34m64\u001b[0m)         │       \u001b[38;5;34m964,928\u001b[0m │\n",
              "├─────────────────────────────────┼────────────────────────┼───────────────┤\n",
              "│ lstm (\u001b[38;5;33mLSTM\u001b[0m)                     │ (\u001b[38;5;45mNone\u001b[0m, \u001b[38;5;34m64\u001b[0m)             │        \u001b[38;5;34m33,024\u001b[0m │\n",
              "├─────────────────────────────────┼────────────────────────┼───────────────┤\n",
              "│ dense_1 (\u001b[38;5;33mDense\u001b[0m)                 │ (\u001b[38;5;45mNone\u001b[0m, \u001b[38;5;34m3\u001b[0m)              │           \u001b[38;5;34m195\u001b[0m │\n",
              "└─────────────────────────────────┴────────────────────────┴───────────────┘\n"
            ],
            "text/html": [
              "<pre style=\"white-space:pre;overflow-x:auto;line-height:normal;font-family:Menlo,'DejaVu Sans Mono',consolas,'Courier New',monospace\">┏━━━━━━━━━━━━━━━━━━━━━━━━━━━━━━━━━┳━━━━━━━━━━━━━━━━━━━━━━━━┳━━━━━━━━━━━━━━━┓\n",
              "┃<span style=\"font-weight: bold\"> Layer (type)                    </span>┃<span style=\"font-weight: bold\"> Output Shape           </span>┃<span style=\"font-weight: bold\">       Param # </span>┃\n",
              "┡━━━━━━━━━━━━━━━━━━━━━━━━━━━━━━━━━╇━━━━━━━━━━━━━━━━━━━━━━━━╇━━━━━━━━━━━━━━━┩\n",
              "│ embedding_1 (<span style=\"color: #0087ff; text-decoration-color: #0087ff\">Embedding</span>)         │ (<span style=\"color: #00d7ff; text-decoration-color: #00d7ff\">None</span>, <span style=\"color: #00af00; text-decoration-color: #00af00\">14</span>, <span style=\"color: #00af00; text-decoration-color: #00af00\">64</span>)         │       <span style=\"color: #00af00; text-decoration-color: #00af00\">964,928</span> │\n",
              "├─────────────────────────────────┼────────────────────────┼───────────────┤\n",
              "│ lstm (<span style=\"color: #0087ff; text-decoration-color: #0087ff\">LSTM</span>)                     │ (<span style=\"color: #00d7ff; text-decoration-color: #00d7ff\">None</span>, <span style=\"color: #00af00; text-decoration-color: #00af00\">64</span>)             │        <span style=\"color: #00af00; text-decoration-color: #00af00\">33,024</span> │\n",
              "├─────────────────────────────────┼────────────────────────┼───────────────┤\n",
              "│ dense_1 (<span style=\"color: #0087ff; text-decoration-color: #0087ff\">Dense</span>)                 │ (<span style=\"color: #00d7ff; text-decoration-color: #00d7ff\">None</span>, <span style=\"color: #00af00; text-decoration-color: #00af00\">3</span>)              │           <span style=\"color: #00af00; text-decoration-color: #00af00\">195</span> │\n",
              "└─────────────────────────────────┴────────────────────────┴───────────────┘\n",
              "</pre>\n"
            ]
          },
          "metadata": {}
        },
        {
          "output_type": "display_data",
          "data": {
            "text/plain": [
              "\u001b[1m Total params: \u001b[0m\u001b[38;5;34m998,147\u001b[0m (3.81 MB)\n"
            ],
            "text/html": [
              "<pre style=\"white-space:pre;overflow-x:auto;line-height:normal;font-family:Menlo,'DejaVu Sans Mono',consolas,'Courier New',monospace\"><span style=\"font-weight: bold\"> Total params: </span><span style=\"color: #00af00; text-decoration-color: #00af00\">998,147</span> (3.81 MB)\n",
              "</pre>\n"
            ]
          },
          "metadata": {}
        },
        {
          "output_type": "display_data",
          "data": {
            "text/plain": [
              "\u001b[1m Trainable params: \u001b[0m\u001b[38;5;34m998,147\u001b[0m (3.81 MB)\n"
            ],
            "text/html": [
              "<pre style=\"white-space:pre;overflow-x:auto;line-height:normal;font-family:Menlo,'DejaVu Sans Mono',consolas,'Courier New',monospace\"><span style=\"font-weight: bold\"> Trainable params: </span><span style=\"color: #00af00; text-decoration-color: #00af00\">998,147</span> (3.81 MB)\n",
              "</pre>\n"
            ]
          },
          "metadata": {}
        },
        {
          "output_type": "display_data",
          "data": {
            "text/plain": [
              "\u001b[1m Non-trainable params: \u001b[0m\u001b[38;5;34m0\u001b[0m (0.00 B)\n"
            ],
            "text/html": [
              "<pre style=\"white-space:pre;overflow-x:auto;line-height:normal;font-family:Menlo,'DejaVu Sans Mono',consolas,'Courier New',monospace\"><span style=\"font-weight: bold\"> Non-trainable params: </span><span style=\"color: #00af00; text-decoration-color: #00af00\">0</span> (0.00 B)\n",
              "</pre>\n"
            ]
          },
          "metadata": {}
        }
      ]
    },
    {
      "cell_type": "code",
      "source": [
        "X_train_pad.shape"
      ],
      "metadata": {
        "colab": {
          "base_uri": "https://localhost:8080/"
        },
        "id": "XRPMqXuspaSq",
        "outputId": "4aa5de8d-ff2e-4a79-9ac8-2aa1fdcd8c16"
      },
      "execution_count": 25,
      "outputs": [
        {
          "output_type": "execute_result",
          "data": {
            "text/plain": [
              "(15860, 14)"
            ]
          },
          "metadata": {},
          "execution_count": 25
        }
      ]
    },
    {
      "cell_type": "markdown",
      "source": [
        "**Model 3: LSTM with Pretrained Word2Vec Embedding**"
      ],
      "metadata": {
        "id": "zvy-q8innBBB"
      }
    },
    {
      "cell_type": "markdown",
      "source": [
        "Load Pretrained Embedding"
      ],
      "metadata": {
        "id": "TuNYMn7PnMxB"
      }
    },
    {
      "cell_type": "code",
      "source": [
        "!pip install --upgrade numpy gensim"
      ],
      "metadata": {
        "colab": {
          "base_uri": "https://localhost:8080/"
        },
        "id": "S-xvOi4l7crN",
        "outputId": "80737ec5-c12d-4cd3-cb80-dc21926820b1"
      },
      "execution_count": 26,
      "outputs": [
        {
          "output_type": "stream",
          "name": "stdout",
          "text": [
            "Requirement already satisfied: numpy in /usr/local/lib/python3.11/dist-packages (1.26.4)\n",
            "Collecting numpy\n",
            "  Using cached numpy-2.2.5-cp311-cp311-manylinux_2_17_x86_64.manylinux2014_x86_64.whl.metadata (62 kB)\n",
            "Requirement already satisfied: gensim in /usr/local/lib/python3.11/dist-packages (4.3.3)\n",
            "Requirement already satisfied: scipy<1.14.0,>=1.7.0 in /usr/local/lib/python3.11/dist-packages (from gensim) (1.13.1)\n",
            "Requirement already satisfied: smart-open>=1.8.1 in /usr/local/lib/python3.11/dist-packages (from gensim) (7.1.0)\n",
            "Requirement already satisfied: wrapt in /usr/local/lib/python3.11/dist-packages (from smart-open>=1.8.1->gensim) (1.17.2)\n"
          ]
        }
      ]
    },
    {
      "cell_type": "code",
      "source": [
        "import gensim.downloader as api\n",
        "embedding_model = api.load('glove-wiki-gigaword-50')"
      ],
      "metadata": {
        "colab": {
          "base_uri": "https://localhost:8080/"
        },
        "id": "8GUyUx2mnEmp",
        "outputId": "aecb1431-632a-4466-ad55-f9433197ba83"
      },
      "execution_count": 28,
      "outputs": [
        {
          "output_type": "stream",
          "name": "stdout",
          "text": [
            "[==================================================] 100.0% 66.0/66.0MB downloaded\n"
          ]
        }
      ]
    },
    {
      "cell_type": "markdown",
      "source": [
        "Create Embedding Matrix"
      ],
      "metadata": {
        "id": "6lhZwlaXnPwY"
      }
    },
    {
      "cell_type": "code",
      "source": [
        "import numpy as np\n",
        "\n",
        "embedding_dim = 50\n",
        "embedding_matrix = np.zeros((vocab_size, embedding_dim))\n",
        "\n",
        "for word, i in tokenizer.word_index.items():\n",
        "    if word in embedding_model:\n",
        "        embedding_matrix[i] = embedding_model[word]\n"
      ],
      "metadata": {
        "id": "_On-AgT7nGoZ"
      },
      "execution_count": 32,
      "outputs": []
    },
    {
      "cell_type": "markdown",
      "source": [
        "Build the Model"
      ],
      "metadata": {
        "id": "Ml8XJMvxnQoJ"
      }
    },
    {
      "cell_type": "code",
      "source": [
        "from keras.models import Sequential\n",
        "from keras.layers import Embedding, LSTM, Dense\n",
        "\n",
        "model3 = Sequential()\n",
        "model3.add(Embedding(input_dim=vocab_size,\n",
        "                     output_dim=embedding_dim,\n",
        "                     weights=[embedding_matrix],\n",
        "                     trainable=False))  # Freeze embedding\n",
        "model3.add(LSTM(64))\n",
        "model3.add(Dense(3, activation='softmax'))\n",
        "\n",
        "# Compile the model\n",
        "model3.compile(loss='sparse_categorical_crossentropy', optimizer='adam', metrics=['accuracy'])\n",
        "\n",
        "# Force the model to build by specifying the input shape\n",
        "model3.build(input_shape=(None, X_train_pad.shape[1]))\n",
        "\n",
        "# Now print the model summary\n",
        "model3.summary()"
      ],
      "metadata": {
        "colab": {
          "base_uri": "https://localhost:8080/",
          "height": 234
        },
        "id": "EugrL5k5nHv4",
        "outputId": "9d1d5f30-f590-4006-ac0c-a68ec591dca2"
      },
      "execution_count": 36,
      "outputs": [
        {
          "output_type": "display_data",
          "data": {
            "text/plain": [
              "\u001b[1mModel: \"sequential_7\"\u001b[0m\n"
            ],
            "text/html": [
              "<pre style=\"white-space:pre;overflow-x:auto;line-height:normal;font-family:Menlo,'DejaVu Sans Mono',consolas,'Courier New',monospace\"><span style=\"font-weight: bold\">Model: \"sequential_7\"</span>\n",
              "</pre>\n"
            ]
          },
          "metadata": {}
        },
        {
          "output_type": "display_data",
          "data": {
            "text/plain": [
              "┏━━━━━━━━━━━━━━━━━━━━━━━━━━━━━━━━━┳━━━━━━━━━━━━━━━━━━━━━━━━┳━━━━━━━━━━━━━━━┓\n",
              "┃\u001b[1m \u001b[0m\u001b[1mLayer (type)                   \u001b[0m\u001b[1m \u001b[0m┃\u001b[1m \u001b[0m\u001b[1mOutput Shape          \u001b[0m\u001b[1m \u001b[0m┃\u001b[1m \u001b[0m\u001b[1m      Param #\u001b[0m\u001b[1m \u001b[0m┃\n",
              "┡━━━━━━━━━━━━━━━━━━━━━━━━━━━━━━━━━╇━━━━━━━━━━━━━━━━━━━━━━━━╇━━━━━━━━━━━━━━━┩\n",
              "│ embedding_7 (\u001b[38;5;33mEmbedding\u001b[0m)         │ (\u001b[38;5;45mNone\u001b[0m, \u001b[38;5;34m14\u001b[0m, \u001b[38;5;34m50\u001b[0m)         │       \u001b[38;5;34m753,850\u001b[0m │\n",
              "├─────────────────────────────────┼────────────────────────┼───────────────┤\n",
              "│ lstm_6 (\u001b[38;5;33mLSTM\u001b[0m)                   │ (\u001b[38;5;45mNone\u001b[0m, \u001b[38;5;34m64\u001b[0m)             │        \u001b[38;5;34m29,440\u001b[0m │\n",
              "├─────────────────────────────────┼────────────────────────┼───────────────┤\n",
              "│ dense_7 (\u001b[38;5;33mDense\u001b[0m)                 │ (\u001b[38;5;45mNone\u001b[0m, \u001b[38;5;34m3\u001b[0m)              │           \u001b[38;5;34m195\u001b[0m │\n",
              "└─────────────────────────────────┴────────────────────────┴───────────────┘\n"
            ],
            "text/html": [
              "<pre style=\"white-space:pre;overflow-x:auto;line-height:normal;font-family:Menlo,'DejaVu Sans Mono',consolas,'Courier New',monospace\">┏━━━━━━━━━━━━━━━━━━━━━━━━━━━━━━━━━┳━━━━━━━━━━━━━━━━━━━━━━━━┳━━━━━━━━━━━━━━━┓\n",
              "┃<span style=\"font-weight: bold\"> Layer (type)                    </span>┃<span style=\"font-weight: bold\"> Output Shape           </span>┃<span style=\"font-weight: bold\">       Param # </span>┃\n",
              "┡━━━━━━━━━━━━━━━━━━━━━━━━━━━━━━━━━╇━━━━━━━━━━━━━━━━━━━━━━━━╇━━━━━━━━━━━━━━━┩\n",
              "│ embedding_7 (<span style=\"color: #0087ff; text-decoration-color: #0087ff\">Embedding</span>)         │ (<span style=\"color: #00d7ff; text-decoration-color: #00d7ff\">None</span>, <span style=\"color: #00af00; text-decoration-color: #00af00\">14</span>, <span style=\"color: #00af00; text-decoration-color: #00af00\">50</span>)         │       <span style=\"color: #00af00; text-decoration-color: #00af00\">753,850</span> │\n",
              "├─────────────────────────────────┼────────────────────────┼───────────────┤\n",
              "│ lstm_6 (<span style=\"color: #0087ff; text-decoration-color: #0087ff\">LSTM</span>)                   │ (<span style=\"color: #00d7ff; text-decoration-color: #00d7ff\">None</span>, <span style=\"color: #00af00; text-decoration-color: #00af00\">64</span>)             │        <span style=\"color: #00af00; text-decoration-color: #00af00\">29,440</span> │\n",
              "├─────────────────────────────────┼────────────────────────┼───────────────┤\n",
              "│ dense_7 (<span style=\"color: #0087ff; text-decoration-color: #0087ff\">Dense</span>)                 │ (<span style=\"color: #00d7ff; text-decoration-color: #00d7ff\">None</span>, <span style=\"color: #00af00; text-decoration-color: #00af00\">3</span>)              │           <span style=\"color: #00af00; text-decoration-color: #00af00\">195</span> │\n",
              "└─────────────────────────────────┴────────────────────────┴───────────────┘\n",
              "</pre>\n"
            ]
          },
          "metadata": {}
        },
        {
          "output_type": "display_data",
          "data": {
            "text/plain": [
              "\u001b[1m Total params: \u001b[0m\u001b[38;5;34m783,485\u001b[0m (2.99 MB)\n"
            ],
            "text/html": [
              "<pre style=\"white-space:pre;overflow-x:auto;line-height:normal;font-family:Menlo,'DejaVu Sans Mono',consolas,'Courier New',monospace\"><span style=\"font-weight: bold\"> Total params: </span><span style=\"color: #00af00; text-decoration-color: #00af00\">783,485</span> (2.99 MB)\n",
              "</pre>\n"
            ]
          },
          "metadata": {}
        },
        {
          "output_type": "display_data",
          "data": {
            "text/plain": [
              "\u001b[1m Trainable params: \u001b[0m\u001b[38;5;34m29,635\u001b[0m (115.76 KB)\n"
            ],
            "text/html": [
              "<pre style=\"white-space:pre;overflow-x:auto;line-height:normal;font-family:Menlo,'DejaVu Sans Mono',consolas,'Courier New',monospace\"><span style=\"font-weight: bold\"> Trainable params: </span><span style=\"color: #00af00; text-decoration-color: #00af00\">29,635</span> (115.76 KB)\n",
              "</pre>\n"
            ]
          },
          "metadata": {}
        },
        {
          "output_type": "display_data",
          "data": {
            "text/plain": [
              "\u001b[1m Non-trainable params: \u001b[0m\u001b[38;5;34m753,850\u001b[0m (2.88 MB)\n"
            ],
            "text/html": [
              "<pre style=\"white-space:pre;overflow-x:auto;line-height:normal;font-family:Menlo,'DejaVu Sans Mono',consolas,'Courier New',monospace\"><span style=\"font-weight: bold\"> Non-trainable params: </span><span style=\"color: #00af00; text-decoration-color: #00af00\">753,850</span> (2.88 MB)\n",
              "</pre>\n"
            ]
          },
          "metadata": {}
        }
      ]
    },
    {
      "cell_type": "markdown",
      "source": [
        "# Model Training"
      ],
      "metadata": {
        "id": "ebo0GOfO_1wm"
      }
    },
    {
      "cell_type": "markdown",
      "source": [
        "**Compile Models**"
      ],
      "metadata": {
        "id": "sX7sA3tlBsvB"
      }
    },
    {
      "cell_type": "code",
      "source": [
        "from keras.callbacks import EarlyStopping\n",
        "from sklearn.metrics import classification_report, confusion_matrix\n",
        "import matplotlib.pyplot as plt\n",
        "import seaborn as sns\n",
        "\n",
        "# Early stopping callback to stop training once validation loss doesn't improve\n",
        "early_stopping = EarlyStopping(monitor='val_loss', patience=5, restore_best_weights=True)\n",
        "\n",
        "# Model Compilation\n",
        "model1.compile(loss='sparse_categorical_crossentropy', optimizer='adam', metrics=['accuracy'])\n",
        "model2.compile(loss='sparse_categorical_crossentropy', optimizer='adam', metrics=['accuracy'])\n",
        "model3.compile(loss='sparse_categorical_crossentropy', optimizer='adam', metrics=['accuracy'])"
      ],
      "metadata": {
        "id": "b4veJe75_7Iv"
      },
      "execution_count": 39,
      "outputs": []
    },
    {
      "cell_type": "markdown",
      "source": [
        "**Train Model 1**"
      ],
      "metadata": {
        "id": "E9mv9Jk1B-LJ"
      }
    },
    {
      "cell_type": "code",
      "source": [
        "history1 = model1.fit(X_train_pad, y_train, epochs=10, batch_size=64, validation_data=(X_val_pad, y_val), callbacks=[early_stopping])"
      ],
      "metadata": {
        "colab": {
          "base_uri": "https://localhost:8080/"
        },
        "id": "dAzMao3YBxYv",
        "outputId": "e3a0009a-6acc-4c3a-dffe-c7da016f7e42"
      },
      "execution_count": 40,
      "outputs": [
        {
          "output_type": "stream",
          "name": "stdout",
          "text": [
            "Epoch 1/10\n",
            "\u001b[1m248/248\u001b[0m \u001b[32m━━━━━━━━━━━━━━━━━━━━\u001b[0m\u001b[37m\u001b[0m \u001b[1m7s\u001b[0m 22ms/step - accuracy: 0.9231 - loss: 0.2415 - val_accuracy: 0.8825 - val_loss: 0.3186\n",
            "Epoch 2/10\n",
            "\u001b[1m248/248\u001b[0m \u001b[32m━━━━━━━━━━━━━━━━━━━━\u001b[0m\u001b[37m\u001b[0m \u001b[1m8s\u001b[0m 14ms/step - accuracy: 0.9606 - loss: 0.1202 - val_accuracy: 0.8762 - val_loss: 0.3747\n",
            "Epoch 3/10\n",
            "\u001b[1m248/248\u001b[0m \u001b[32m━━━━━━━━━━━━━━━━━━━━\u001b[0m\u001b[37m\u001b[0m \u001b[1m7s\u001b[0m 21ms/step - accuracy: 0.9794 - loss: 0.0630 - val_accuracy: 0.8593 - val_loss: 0.4771\n",
            "Epoch 4/10\n",
            "\u001b[1m248/248\u001b[0m \u001b[32m━━━━━━━━━━━━━━━━━━━━\u001b[0m\u001b[37m\u001b[0m \u001b[1m4s\u001b[0m 14ms/step - accuracy: 0.9875 - loss: 0.0379 - val_accuracy: 0.8606 - val_loss: 0.5201\n",
            "Epoch 5/10\n",
            "\u001b[1m248/248\u001b[0m \u001b[32m━━━━━━━━━━━━━━━━━━━━\u001b[0m\u001b[37m\u001b[0m \u001b[1m5s\u001b[0m 14ms/step - accuracy: 0.9902 - loss: 0.0289 - val_accuracy: 0.8480 - val_loss: 0.5981\n",
            "Epoch 6/10\n",
            "\u001b[1m248/248\u001b[0m \u001b[32m━━━━━━━━━━━━━━━━━━━━\u001b[0m\u001b[37m\u001b[0m \u001b[1m5s\u001b[0m 20ms/step - accuracy: 0.9921 - loss: 0.0251 - val_accuracy: 0.8482 - val_loss: 0.6441\n"
          ]
        }
      ]
    },
    {
      "cell_type": "code",
      "source": [
        "# Plotting function for Training vs Validation\n",
        "def plot_history(history, model_name):\n",
        "    plt.figure(figsize=(12, 6))\n",
        "\n",
        "    # Loss Plot\n",
        "    plt.subplot(1, 2, 1)\n",
        "    plt.plot(history.history['loss'], label='Training Loss')\n",
        "    plt.plot(history.history['val_loss'], label='Validation Loss')\n",
        "    plt.title(f'{model_name} - Loss')\n",
        "    plt.xlabel('Epochs')\n",
        "    plt.ylabel('Loss')\n",
        "    plt.legend()\n",
        "\n",
        "    # Accuracy Plot\n",
        "    plt.subplot(1, 2, 2)\n",
        "    plt.plot(history.history['accuracy'], label='Training Accuracy')\n",
        "    plt.plot(history.history['val_accuracy'], label='Validation Accuracy')\n",
        "    plt.title(f'{model_name} - Accuracy')\n",
        "    plt.xlabel('Epochs')\n",
        "    plt.ylabel('Accuracy')\n",
        "    plt.legend()\n",
        "\n",
        "    plt.show()\n",
        "\n",
        "# Plot histories for all models\n",
        "plot_history(history1, 'Model 1')"
      ],
      "metadata": {
        "colab": {
          "base_uri": "https://localhost:8080/",
          "height": 564
        },
        "id": "2WF8rLTmCrRr",
        "outputId": "2c3b65d8-b5b9-48ef-d12b-d3ac4d8efc03"
      },
      "execution_count": 41,
      "outputs": [
        {
          "output_type": "display_data",
          "data": {
            "text/plain": [
              "<Figure size 1200x600 with 2 Axes>"
            ],
            "image/png": "[encoded data removed]"
          },
          "metadata": {}
        }
      ]
    },
    {
      "cell_type": "markdown",
      "source": [
        "**Train Model 2**"
      ],
      "metadata": {
        "id": "9Eh0kEe2DCww"
      }
    },
    {
      "cell_type": "code",
      "source": [
        "history2 = model2.fit(X_train_pad, y_train, epochs=10, batch_size=64, validation_data=(X_val_pad, y_val), callbacks=[early_stopping])"
      ],
      "metadata": {
        "colab": {
          "base_uri": "https://localhost:8080/"
        },
        "id": "v4FPNs6_DAPR",
        "outputId": "8e4f660c-e893-4c1b-9909-1d0cd99d3353"
      },
      "execution_count": 42,
      "outputs": [
        {
          "output_type": "stream",
          "name": "stdout",
          "text": [
            "Epoch 1/10\n",
            "\u001b[1m248/248\u001b[0m \u001b[32m━━━━━━━━━━━━━━━━━━━━\u001b[0m\u001b[37m\u001b[0m \u001b[1m9s\u001b[0m 23ms/step - accuracy: 0.7998 - loss: 0.6069 - val_accuracy: 0.8883 - val_loss: 0.3221\n",
            "Epoch 2/10\n",
            "\u001b[1m248/248\u001b[0m \u001b[32m━━━━━━━━━━━━━━━━━━━━\u001b[0m\u001b[37m\u001b[0m \u001b[1m5s\u001b[0m 22ms/step - accuracy: 0.9183 - loss: 0.2554 - val_accuracy: 0.8921 - val_loss: 0.3073\n",
            "Epoch 3/10\n",
            "\u001b[1m248/248\u001b[0m \u001b[32m━━━━━━━━━━━━━━━━━━━━\u001b[0m\u001b[37m\u001b[0m \u001b[1m10s\u001b[0m 22ms/step - accuracy: 0.9451 - loss: 0.1811 - val_accuracy: 0.8896 - val_loss: 0.3240\n",
            "Epoch 4/10\n",
            "\u001b[1m248/248\u001b[0m \u001b[32m━━━━━━━━━━━━━━━━━━━━\u001b[0m\u001b[37m\u001b[0m \u001b[1m7s\u001b[0m 27ms/step - accuracy: 0.9617 - loss: 0.1269 - val_accuracy: 0.8626 - val_loss: 0.4149\n",
            "Epoch 5/10\n",
            "\u001b[1m248/248\u001b[0m \u001b[32m━━━━━━━━━━━━━━━━━━━━\u001b[0m\u001b[37m\u001b[0m \u001b[1m9s\u001b[0m 22ms/step - accuracy: 0.9710 - loss: 0.0907 - val_accuracy: 0.8724 - val_loss: 0.3923\n",
            "Epoch 6/10\n",
            "\u001b[1m248/248\u001b[0m \u001b[32m━━━━━━━━━━━━━━━━━━━━\u001b[0m\u001b[37m\u001b[0m \u001b[1m10s\u001b[0m 22ms/step - accuracy: 0.9784 - loss: 0.0713 - val_accuracy: 0.8785 - val_loss: 0.4554\n",
            "Epoch 7/10\n",
            "\u001b[1m248/248\u001b[0m \u001b[32m━━━━━━━━━━━━━━━━━━━━\u001b[0m\u001b[37m\u001b[0m \u001b[1m7s\u001b[0m 30ms/step - accuracy: 0.9809 - loss: 0.0586 - val_accuracy: 0.8782 - val_loss: 0.4942\n"
          ]
        }
      ]
    },
    {
      "cell_type": "code",
      "source": [
        "# Plotting function for Training vs Validation\n",
        "def plot_history(history, model_name):\n",
        "    plt.figure(figsize=(12, 6))\n",
        "\n",
        "    # Loss Plot\n",
        "    plt.subplot(1, 2, 1)\n",
        "    plt.plot(history.history['loss'], label='Training Loss')\n",
        "    plt.plot(history.history['val_loss'], label='Validation Loss')\n",
        "    plt.title(f'{model_name} - Loss')\n",
        "    plt.xlabel('Epochs')\n",
        "    plt.ylabel('Loss')\n",
        "    plt.legend()\n",
        "\n",
        "    # Accuracy Plot\n",
        "    plt.subplot(1, 2, 2)\n",
        "    plt.plot(history.history['accuracy'], label='Training Accuracy')\n",
        "    plt.plot(history.history['val_accuracy'], label='Validation Accuracy')\n",
        "    plt.title(f'{model_name} - Accuracy')\n",
        "    plt.xlabel('Epochs')\n",
        "    plt.ylabel('Accuracy')\n",
        "    plt.legend()\n",
        "\n",
        "    plt.show()\n",
        "\n",
        "# Plot histories for all models\n",
        "plot_history(history2, 'Model 2')"
      ],
      "metadata": {
        "colab": {
          "base_uri": "https://localhost:8080/",
          "height": 564
        },
        "id": "YXnkkCC9DJNg",
        "outputId": "efc78ae6-1b46-4dcb-c579-c089ccfc0c72"
      },
      "execution_count": 43,
      "outputs": [
        {
          "output_type": "display_data",
          "data": {
            "text/plain": [
              "<Figure size 1200x600 with 2 Axes>"
            ],
            "image/png": "[encoded data removed]"
          },
          "metadata": {}
        }
      ]
    },
    {
      "cell_type": "markdown",
      "source": [
        "**Train Model 3**"
      ],
      "metadata": {
        "id": "mrml-NaqDpZ9"
      }
    },
    {
      "cell_type": "code",
      "source": [
        "history3 = model3.fit(X_train_pad, y_train, epochs=10, batch_size=64, validation_data=(X_val_pad, y_val), callbacks=[early_stopping])"
      ],
      "metadata": {
        "colab": {
          "base_uri": "https://localhost:8080/"
        },
        "id": "9tA0NkS5DkDZ",
        "outputId": "7b3f0f77-cbe3-435d-c7b5-c82062f0e509"
      },
      "execution_count": 44,
      "outputs": [
        {
          "output_type": "stream",
          "name": "stdout",
          "text": [
            "Epoch 1/10\n",
            "\u001b[1m248/248\u001b[0m \u001b[32m━━━━━━━━━━━━━━━━━━━━\u001b[0m\u001b[37m\u001b[0m \u001b[1m6s\u001b[0m 15ms/step - accuracy: 0.8107 - loss: 0.5850 - val_accuracy: 0.8538 - val_loss: 0.3990\n",
            "Epoch 2/10\n",
            "\u001b[1m248/248\u001b[0m \u001b[32m━━━━━━━━━━━━━━━━━━━━\u001b[0m\u001b[37m\u001b[0m \u001b[1m5s\u001b[0m 15ms/step - accuracy: 0.8686 - loss: 0.3570 - val_accuracy: 0.8729 - val_loss: 0.3256\n",
            "Epoch 3/10\n",
            "\u001b[1m248/248\u001b[0m \u001b[32m━━━━━━━━━━━━━━━━━━━━\u001b[0m\u001b[37m\u001b[0m \u001b[1m4s\u001b[0m 12ms/step - accuracy: 0.8839 - loss: 0.3073 - val_accuracy: 0.8833 - val_loss: 0.3016\n",
            "Epoch 4/10\n",
            "\u001b[1m248/248\u001b[0m \u001b[32m━━━━━━━━━━━━━━━━━━━━\u001b[0m\u001b[37m\u001b[0m \u001b[1m7s\u001b[0m 18ms/step - accuracy: 0.8856 - loss: 0.2940 - val_accuracy: 0.8830 - val_loss: 0.2959\n",
            "Epoch 5/10\n",
            "\u001b[1m248/248\u001b[0m \u001b[32m━━━━━━━━━━━━━━━━━━━━\u001b[0m\u001b[37m\u001b[0m \u001b[1m4s\u001b[0m 13ms/step - accuracy: 0.8932 - loss: 0.2751 - val_accuracy: 0.8848 - val_loss: 0.2924\n",
            "Epoch 6/10\n",
            "\u001b[1m248/248\u001b[0m \u001b[32m━━━━━━━━━━━━━━━━━━━━\u001b[0m\u001b[37m\u001b[0m \u001b[1m5s\u001b[0m 14ms/step - accuracy: 0.8986 - loss: 0.2662 - val_accuracy: 0.8843 - val_loss: 0.3075\n",
            "Epoch 7/10\n",
            "\u001b[1m248/248\u001b[0m \u001b[32m━━━━━━━━━━━━━━━━━━━━\u001b[0m\u001b[37m\u001b[0m \u001b[1m5s\u001b[0m 21ms/step - accuracy: 0.8991 - loss: 0.2573 - val_accuracy: 0.8810 - val_loss: 0.2892\n",
            "Epoch 8/10\n",
            "\u001b[1m248/248\u001b[0m \u001b[32m━━━━━━━━━━━━━━━━━━━━\u001b[0m\u001b[37m\u001b[0m \u001b[1m8s\u001b[0m 12ms/step - accuracy: 0.9098 - loss: 0.2380 - val_accuracy: 0.8875 - val_loss: 0.3004\n",
            "Epoch 9/10\n",
            "\u001b[1m248/248\u001b[0m \u001b[32m━━━━━━━━━━━━━━━━━━━━\u001b[0m\u001b[37m\u001b[0m \u001b[1m4s\u001b[0m 15ms/step - accuracy: 0.9162 - loss: 0.2268 - val_accuracy: 0.8835 - val_loss: 0.3005\n",
            "Epoch 10/10\n",
            "\u001b[1m248/248\u001b[0m \u001b[32m━━━━━━━━━━━━━━━━━━━━\u001b[0m\u001b[37m\u001b[0m \u001b[1m4s\u001b[0m 17ms/step - accuracy: 0.9174 - loss: 0.2211 - val_accuracy: 0.8828 - val_loss: 0.2983\n"
          ]
        }
      ]
    },
    {
      "cell_type": "code",
      "source": [
        "# Plotting function for Training vs Validation\n",
        "def plot_history(history, model_name):\n",
        "    plt.figure(figsize=(12, 6))\n",
        "\n",
        "    # Loss Plot\n",
        "    plt.subplot(1, 2, 1)\n",
        "    plt.plot(history.history['loss'], label='Training Loss')\n",
        "    plt.plot(history.history['val_loss'], label='Validation Loss')\n",
        "    plt.title(f'{model_name} - Loss')\n",
        "    plt.xlabel('Epochs')\n",
        "    plt.ylabel('Loss')\n",
        "    plt.legend()\n",
        "\n",
        "    # Accuracy Plot\n",
        "    plt.subplot(1, 2, 2)\n",
        "    plt.plot(history.history['accuracy'], label='Training Accuracy')\n",
        "    plt.plot(history.history['val_accuracy'], label='Validation Accuracy')\n",
        "    plt.title(f'{model_name} - Accuracy')\n",
        "    plt.xlabel('Epochs')\n",
        "    plt.ylabel('Accuracy')\n",
        "    plt.legend()\n",
        "\n",
        "    plt.show()\n",
        "\n",
        "# Plot histories for all models\n",
        "plot_history(history3, 'Model 3')"
      ],
      "metadata": {
        "colab": {
          "base_uri": "https://localhost:8080/",
          "height": 564
        },
        "id": "v3oXVb-ODtvi",
        "outputId": "9ba8c3a0-dc5c-42c4-f07e-c2839a1ad9f1"
      },
      "execution_count": 45,
      "outputs": [
        {
          "output_type": "display_data",
          "data": {
            "text/plain": [
              "<Figure size 1200x600 with 2 Axes>"
            ],
            "image/png": "[encoded data removed]"
          },
          "metadata": {}
        }
      ]
    },
    {
      "cell_type": "markdown",
      "source": [
        "# Model Evaluation"
      ],
      "metadata": {
        "id": "gTHzP99bEGEw"
      }
    },
    {
      "cell_type": "code",
      "source": [
        "# Evaluate Model 1\n",
        "loss1, accuracy1 = model1.evaluate(X_test_pad, y_test)\n",
        "y_pred1 = model1.predict(X_test_pad)\n",
        "y_pred1 = y_pred1.argmax(axis=1)\n",
        "\n",
        "print(f\"Model 1 Accuracy: {accuracy1}\")\n"
      ],
      "metadata": {
        "colab": {
          "base_uri": "https://localhost:8080/"
        },
        "id": "gubHRAU1Ey3U",
        "outputId": "2302e230-0f53-4e57-846b-010561724070"
      },
      "execution_count": 47,
      "outputs": [
        {
          "output_type": "stream",
          "name": "stdout",
          "text": [
            "\u001b[1m155/155\u001b[0m \u001b[32m━━━━━━━━━━━━━━━━━━━━\u001b[0m\u001b[37m\u001b[0m \u001b[1m0s\u001b[0m 3ms/step - accuracy: 0.8839 - loss: 0.3335\n",
            "\u001b[1m155/155\u001b[0m \u001b[32m━━━━━━━━━━━━━━━━━━━━\u001b[0m\u001b[37m\u001b[0m \u001b[1m0s\u001b[0m 2ms/step\n",
            "Model 1 Accuracy: 0.8868266940116882\n"
          ]
        }
      ]
    },
    {
      "cell_type": "code",
      "source": [
        "# Evaluate Model 2\n",
        "loss2, accuracy2 = model2.evaluate(X_test_pad, y_test)\n",
        "y_pred2 = model2.predict(X_test_pad)\n",
        "y_pred2 = y_pred2.argmax(axis=1)\n",
        "print(f\"Model 2 Accuracy: {accuracy2}\")\n"
      ],
      "metadata": {
        "colab": {
          "base_uri": "https://localhost:8080/"
        },
        "id": "BHatub_wE1lh",
        "outputId": "d15cc8f5-844d-4b81-ca28-92be41e3e37e"
      },
      "execution_count": 48,
      "outputs": [
        {
          "output_type": "stream",
          "name": "stdout",
          "text": [
            "\u001b[1m155/155\u001b[0m \u001b[32m━━━━━━━━━━━━━━━━━━━━\u001b[0m\u001b[37m\u001b[0m \u001b[1m1s\u001b[0m 6ms/step - accuracy: 0.8829 - loss: 0.3330\n",
            "\u001b[1m155/155\u001b[0m \u001b[32m━━━━━━━━━━━━━━━━━━━━\u001b[0m\u001b[37m\u001b[0m \u001b[1m1s\u001b[0m 5ms/step\n",
            "Model 2 Accuracy: 0.8868266940116882\n"
          ]
        }
      ]
    },
    {
      "cell_type": "code",
      "source": [
        "# Evaluate Model 3\n",
        "loss3, accuracy3 = model3.evaluate(X_test_pad, y_test)\n",
        "y_pred3 = model3.predict(X_test_pad)\n",
        "y_pred3 = y_pred3.argmax(axis=1)\n",
        "print(f\"Model 3 Accuracy: {accuracy3}\")"
      ],
      "metadata": {
        "colab": {
          "base_uri": "https://localhost:8080/"
        },
        "id": "bqoHfZyBE3NS",
        "outputId": "510dee4c-4c5f-4840-8564-cebd69668892"
      },
      "execution_count": 50,
      "outputs": [
        {
          "output_type": "stream",
          "name": "stdout",
          "text": [
            "\u001b[1m155/155\u001b[0m \u001b[32m━━━━━━━━━━━━━━━━━━━━\u001b[0m\u001b[37m\u001b[0m \u001b[1m1s\u001b[0m 4ms/step - accuracy: 0.8863 - loss: 0.2940\n",
            "\u001b[1m155/155\u001b[0m \u001b[32m━━━━━━━━━━━━━━━━━━━━\u001b[0m\u001b[37m\u001b[0m \u001b[1m1s\u001b[0m 4ms/step\n",
            "Model 3 Accuracy: 0.881985068321228\n"
          ]
        }
      ]
    },
    {
      "cell_type": "markdown",
      "source": [
        "# Performance evaluation"
      ],
      "metadata": {
        "id": "9HTz3rLFFU68"
      }
    },
    {
      "cell_type": "markdown",
      "source": [
        "**Confusion Matrix**"
      ],
      "metadata": {
        "id": "SuuIY9IeFYhZ"
      }
    },
    {
      "cell_type": "code",
      "source": [
        "# Confusion Matrix for Model 1\n",
        "conf_matrix1 = confusion_matrix(y_test, y_pred1)\n",
        "sns.heatmap(conf_matrix1, annot=True, fmt='d', cmap='Blues', xticklabels=['hate speech', 'offensive', 'neither'], yticklabels=['hate speech', 'offensive', 'neither'])\n",
        "plt.title(\"Model 1 - Confusion Matrix\")\n",
        "plt.xlabel(\"Predicted Labels\")\n",
        "plt.ylabel(\"True Labels\")\n",
        "plt.show()"
      ],
      "metadata": {
        "colab": {
          "base_uri": "https://localhost:8080/",
          "height": 472
        },
        "id": "Ae9jlwljFhEa",
        "outputId": "0945ab0f-d1b0-48c0-fd23-edb56bf1a43c"
      },
      "execution_count": 57,
      "outputs": [
        {
          "output_type": "display_data",
          "data": {
            "text/plain": [
              "<Figure size 640x480 with 2 Axes>"
            ],
            "image/png": "[encoded data removed]"
          },
          "metadata": {}
        }
      ]
    },
    {
      "cell_type": "code",
      "source": [
        "# Confusion Matrix for Model 2\n",
        "conf_matrix2 = confusion_matrix(y_test, y_pred2)\n",
        "sns.heatmap(conf_matrix2, annot=True, fmt='d', cmap='Blues', xticklabels=['hate speech', 'offensive', 'neither'], yticklabels=['hate speech', 'offensive', 'neither'])\n",
        "plt.title(\"Model 2 - Confusion Matrix\")\n",
        "plt.xlabel(\"Predicted Labels\")\n",
        "plt.ylabel(\"True Labels\")\n",
        "plt.show()"
      ],
      "metadata": {
        "colab": {
          "base_uri": "https://localhost:8080/",
          "height": 472
        },
        "id": "ecM_gJMUFiVa",
        "outputId": "5a90ad2e-6a71-4987-872b-0dbb5239291f"
      },
      "execution_count": 56,
      "outputs": [
        {
          "output_type": "display_data",
          "data": {
            "text/plain": [
              "<Figure size 640x480 with 2 Axes>"
            ],
            "image/png": "[encoded data removed]"
          },
          "metadata": {}
        }
      ]
    },
    {
      "cell_type": "code",
      "source": [
        "# Confusion Matrix for Model 3\n",
        "conf_matrix3 = confusion_matrix(y_test, y_pred3)\n",
        "sns.heatmap(conf_matrix3, annot=True, fmt='d', cmap='Blues', xticklabels=['hate speech', 'offensive', 'neither'], yticklabels=['hate speech', 'offensive', 'neither'])\n",
        "plt.title(\"Model 3 - Confusion Matrix\")\n",
        "plt.xlabel(\"Predicted Labels\")\n",
        "plt.ylabel(\"True Labels\")\n",
        "plt.show()"
      ],
      "metadata": {
        "colab": {
          "base_uri": "https://localhost:8080/",
          "height": 472
        },
        "id": "eosv4hQ_FWZP",
        "outputId": "09c685ba-d6d1-41ca-f428-858cc962ba02"
      },
      "execution_count": 55,
      "outputs": [
        {
          "output_type": "display_data",
          "data": {
            "text/plain": [
              "<Figure size 640x480 with 2 Axes>"
            ],
            "image/png": "[encoded data removed]"
          },
          "metadata": {}
        }
      ]
    },
    {
      "cell_type": "markdown",
      "source": [
        "**Classification Report**"
      ],
      "metadata": {
        "id": "mLdy9nfcFzIq"
      }
    },
    {
      "cell_type": "code",
      "source": [
        "# Classification Report for Model 1\n",
        "print(\"Classification Report for Model 1:\")\n",
        "print(classification_report(y_test, y_pred1, target_names=['hate speech', 'offensive language', 'neither']))"
      ],
      "metadata": {
        "colab": {
          "base_uri": "https://localhost:8080/"
        },
        "id": "23LeveE6F89C",
        "outputId": "6670b281-0891-4d67-c64e-dbe212698350"
      },
      "execution_count": 58,
      "outputs": [
        {
          "output_type": "stream",
          "name": "stdout",
          "text": [
            "Classification Report for Model 1:\n",
            "                    precision    recall  f1-score   support\n",
            "\n",
            "       hate speech       0.43      0.12      0.19       290\n",
            "offensive language       0.91      0.96      0.93      3832\n",
            "           neither       0.81      0.83      0.82       835\n",
            "\n",
            "          accuracy                           0.89      4957\n",
            "         macro avg       0.72      0.64      0.65      4957\n",
            "      weighted avg       0.87      0.89      0.87      4957\n",
            "\n"
          ]
        }
      ]
    },
    {
      "cell_type": "code",
      "source": [
        "# Classification Report for Model 2\n",
        "print(\"Classification Report for Model 2:\")\n",
        "print(classification_report(y_test, y_pred2, target_names=['hate speech', 'offensive language', 'neither']))"
      ],
      "metadata": {
        "colab": {
          "base_uri": "https://localhost:8080/"
        },
        "id": "lszEy3iAF5Ua",
        "outputId": "0a797a53-60e1-42b2-b38b-6270da6c6ff7"
      },
      "execution_count": 59,
      "outputs": [
        {
          "output_type": "stream",
          "name": "stdout",
          "text": [
            "Classification Report for Model 2:\n",
            "                    precision    recall  f1-score   support\n",
            "\n",
            "       hate speech       0.46      0.12      0.19       290\n",
            "offensive language       0.90      0.97      0.93      3832\n",
            "           neither       0.84      0.79      0.81       835\n",
            "\n",
            "          accuracy                           0.89      4957\n",
            "         macro avg       0.73      0.63      0.64      4957\n",
            "      weighted avg       0.87      0.89      0.87      4957\n",
            "\n"
          ]
        }
      ]
    },
    {
      "cell_type": "code",
      "source": [
        "# Classification Report for Model 3\n",
        "print(\"Classification Report for Model 3:\")\n",
        "print(classification_report(y_test, y_pred3, target_names=['hate speech', 'offensive language', 'neither']))"
      ],
      "metadata": {
        "colab": {
          "base_uri": "https://localhost:8080/"
        },
        "id": "XetPHSsHF6tB",
        "outputId": "8c22f82f-cc20-435a-94cb-866c22e5ffdd"
      },
      "execution_count": 60,
      "outputs": [
        {
          "output_type": "stream",
          "name": "stdout",
          "text": [
            "Classification Report for Model 3:\n",
            "                    precision    recall  f1-score   support\n",
            "\n",
            "       hate speech       0.47      0.36      0.41       290\n",
            "offensive language       0.92      0.94      0.93      3832\n",
            "           neither       0.82      0.79      0.80       835\n",
            "\n",
            "          accuracy                           0.88      4957\n",
            "         macro avg       0.73      0.70      0.71      4957\n",
            "      weighted avg       0.88      0.88      0.88      4957\n",
            "\n"
          ]
        }
      ]
    },
    {
      "cell_type": "code",
      "source": [
        "# Save the entire model\n",
        "model3.save('model.h5')"
      ],
      "metadata": {
        "colab": {
          "base_uri": "https://localhost:8080/"
        },
        "id": "JWRO45ppImO7",
        "outputId": "9d955de2-2241-4105-a369-508a8207f950"
      },
      "execution_count": 63,
      "outputs": [
        {
          "output_type": "stream",
          "name": "stderr",
          "text": [
            "WARNING:absl:You are saving your model as an HDF5 file via `model.save()` or `keras.saving.save_model(model)`. This file format is considered legacy. We recommend using instead the native Keras format, e.g. `model.save('my_model.keras')` or `keras.saving.save_model(model, 'my_model.keras')`. \n"
          ]
        }
      ]
    },
    {
      "cell_type": "markdown",
      "source": [
        "# GUI for Real Time Prediction"
      ],
      "metadata": {
        "id": "FtDr6nwMHubb"
      }
    },
    {
      "cell_type": "code",
      "source": [
        "import pickle\n",
        "\n",
        "with open('tokenizer.pkl', 'wb') as handle:\n",
        "    pickle.dump(tokenizer, handle, protocol=pickle.HIGHEST_PROTOCOL)"
      ],
      "metadata": {
        "id": "lgx6d2PHH7by"
      },
      "execution_count": 67,
      "outputs": []
    },
    {
      "cell_type": "code",
      "source": [
        "with open('tokenizer.pkl', 'rb') as handle:\n",
        "    tokenizer_loaded = pickle.load(handle)\n",
        "print(tokenizer_loaded.word_index['gone'])  # Example to confirm"
      ],
      "metadata": {
        "colab": {
          "base_uri": "https://localhost:8080/"
        },
        "id": "ritwlFIWKgIF",
        "outputId": "10afbdc5-e094-4297-a5ee-13cf4152ee63"
      },
      "execution_count": 81,
      "outputs": [
        {
          "output_type": "stream",
          "name": "stdout",
          "text": [
            "139\n"
          ]
        }
      ]
    }
  ]
}